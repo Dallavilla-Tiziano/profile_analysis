{
 "cells": [
  {
   "cell_type": "code",
   "execution_count": null,
   "id": "confidential-material",
   "metadata": {},
   "outputs": [],
   "source": [
    "%config Completer.use_jedi = False\n",
    "\n",
    "import sys\n",
    "sys.path.append(\"../libraries/\")\n",
    "from profile_analysis_class import ProfileAnalysis\n",
    "import pandas as pd\n",
    "import matplotlib.pyplot as plt\n",
    "\n",
    "plt.style.use('../matplotlib_styles/paper_figures.mplstyle')\n",
    "\n",
    "pa=ProfileAnalysis('/home/ieo5417/Documenti/colon_paper/TRANSCRIPTOME')"
   ]
  },
  {
   "cell_type": "code",
   "execution_count": null,
   "id": "interested-estonia",
   "metadata": {},
   "outputs": [],
   "source": [
    "pa.create_samples_to_sections_table()"
   ]
  },
  {
   "cell_type": "code",
   "execution_count": null,
   "id": "composed-optimum",
   "metadata": {},
   "outputs": [],
   "source": [
    "pa.plot_sample_distribution()"
   ]
  },
  {
   "cell_type": "code",
   "execution_count": null,
   "id": "conscious-antique",
   "metadata": {},
   "outputs": [],
   "source": [
    "medians, mad=pa.median_by_section(remove_outliers=False, scale=False)"
   ]
  },
  {
   "cell_type": "code",
   "execution_count": null,
   "id": "saved-attitude",
   "metadata": {},
   "outputs": [],
   "source": [
    "medians"
   ]
  },
  {
   "cell_type": "code",
   "execution_count": null,
   "id": "short-discretion",
   "metadata": {},
   "outputs": [],
   "source": [
    "medians.dropna(inplace=True)"
   ]
  },
  {
   "cell_type": "code",
   "execution_count": null,
   "id": "retired-anthropology",
   "metadata": {},
   "outputs": [],
   "source": [
    "models_scores, poly_obs_fit_scores, sig_obs_fit_scores, poly_models, sig_models=pa.fit_data(medians, mad, guess_bounds = True, dog_allowed=False)"
   ]
  },
  {
   "cell_type": "code",
   "execution_count": null,
   "id": "bound-wrong",
   "metadata": {},
   "outputs": [],
   "source": [
    "poly_perm_fit_scores, sig_perm_fit_scores=pa.fit_random_data(medians, mad, guess_bounds = True, dog_allowed=True)"
   ]
  },
  {
   "cell_type": "code",
   "execution_count": null,
   "id": "prospective-principal",
   "metadata": {},
   "outputs": [],
   "source": [
    "pa.t_area=0.95"
   ]
  },
  {
   "cell_type": "code",
   "execution_count": null,
   "id": "legitimate-intelligence",
   "metadata": {},
   "outputs": [],
   "source": [
    "models_pvalue_table=pa.plot_gof(poly_obs_fit_scores, sig_obs_fit_scores, poly_perm_fit_scores, sig_perm_fit_scores, dist_obs=False, dist_perm=False)"
   ]
  },
  {
   "cell_type": "code",
   "execution_count": null,
   "id": "accomplished-bridges",
   "metadata": {},
   "outputs": [],
   "source": [
    "models_pvalue_table"
   ]
  },
  {
   "cell_type": "code",
   "execution_count": null,
   "id": "ultimate-buffalo",
   "metadata": {},
   "outputs": [],
   "source": [
    "genes_clusters=pa.cluster_genes(models_scores)"
   ]
  },
  {
   "cell_type": "code",
   "execution_count": null,
   "id": "bearing-saver",
   "metadata": {},
   "outputs": [],
   "source": [
    "pa.plot_clusters(genes_clusters)"
   ]
  },
  {
   "cell_type": "code",
   "execution_count": null,
   "id": "interstate-shore",
   "metadata": {},
   "outputs": [],
   "source": [
    "summary=pa.get_summary_table(genes_clusters, models_scores)"
   ]
  },
  {
   "cell_type": "code",
   "execution_count": null,
   "id": "blessed-cache",
   "metadata": {},
   "outputs": [],
   "source": [
    "continuum_genes, sigmoid_genes, discarded_genes = pa.classify_genes(summary)"
   ]
  },
  {
   "cell_type": "code",
   "execution_count": null,
   "id": "exempt-burke",
   "metadata": {},
   "outputs": [],
   "source": [
    "sigmoid_genes"
   ]
  },
  {
   "cell_type": "code",
   "execution_count": null,
   "id": "threatened-century",
   "metadata": {},
   "outputs": [],
   "source": [
    "gene_list, section_l = pa.strict_sig_list(sigmoid_genes, sig_models, plot_dist = True)"
   ]
  },
  {
   "cell_type": "code",
   "execution_count": 90,
   "id": "empty-petroleum",
   "metadata": {},
   "outputs": [
    {
     "data": {
      "text/plain": [
       "10"
      ]
     },
     "execution_count": 90,
     "metadata": {},
     "output_type": "execute_result"
    }
   ],
   "source": [
    "len(gene_list)"
   ]
  },
  {
   "cell_type": "code",
   "execution_count": null,
   "id": "fourth-running",
   "metadata": {},
   "outputs": [],
   "source": [
    "from joblib import Parallel, delayed\n",
    "import numpy as np\n",
    "import sympy as sym\n",
    "dog_allowed = False\n",
    "input_medians = medians.loc[sigmoid_genes.index]\n",
    "j=0\n",
    "randomized_data = pd.DataFrame(columns=range(0,len(medians.columns)))\n",
    "for i in range(0,10):\n",
    "    for index, row in input_medians.iterrows():\n",
    "        randomized_data.loc[j]=row.sample(frac=1).values\n",
    "        j=j+1\n",
    "#     input_medians = input_medians.append(input_medians.sample(frac=1, axis=1))\n",
    "guess_bounds = True\n",
    "results = Parallel(n_jobs=pa.cores)(delayed(pa.sigmoid_fitting)(group, guess_bounds, mad, dog_allowed) for i, group in randomized_data.groupby(np.arange(len(randomized_data)) // pa.cores))\n",
    "sigmoid_genes_rnd = results[0][0]\n",
    "sig_models_rnd = results[0][1]\n",
    "section_l = []\n",
    "gene_list = []\n",
    "x = sym.Symbol('x')\n",
    "x0 = sym.Symbol('x0')\n",
    "y0 = sym.Symbol('y0')\n",
    "c = sym.Symbol('c')\n",
    "k = sym.Symbol('k')\n",
    "f = c / (1 + sym.exp(-k*(x-x0))) + y0\n",
    "f_prime = f.diff(x)\n",
    "f_prime = sym.lambdify([(x, x0, y0, c, k)], f_prime)\n",
    "x = np.linspace(pa.x[0], pa.x[-1], 2000)\n",
    "for key in list(sigmoid_genes_rnd.index):\n",
    "    d_ = []\n",
    "    for i in x:\n",
    "        d_.append(abs(f_prime(np.insert(sig_models_rnd[key],0,i))))\n",
    "    index_min = np.argmax(d_)\n",
    "    section = list(pa.sections.keys())[int(round(x[index_min]))-1]\n",
    "    if section in ['Transverse colon', 'Descending colon']:\n",
    "        gene_list.append(key)\n",
    "    section_l.append(section)\n",
    "indexes = np.arange(len(pa.sections))\n",
    "#         width = 0.3\n",
    "values = pd.Series(section_l).value_counts().reindex(pa.sections)/len(section_l)*100\n",
    "plt.figure(figsize=(10, 10))\n",
    "plt.bar(indexes, values, edgecolor='k', color = 'grey', linewidth=1.5)\n",
    "plt.xticks(indexes, pa.sections, rotation=45, ha='right')\n",
    "plt.ylabel('Relative Frequency (%)')\n",
    "# plt.ylim([0,50])\n",
    "plt.title('Distribution of inflexion points')\n",
    "plt.tight_layout()\n",
    "plt.savefig('inflection_distribution_sigmoid_RANDOM.svg', format='svg')"
   ]
  },
  {
   "cell_type": "code",
   "execution_count": null,
   "id": "diverse-rotation",
   "metadata": {},
   "outputs": [],
   "source": [
    "mad.set_index('Unnamed: 0', inplace=True)"
   ]
  },
  {
   "cell_type": "code",
   "execution_count": null,
   "id": "heard-ambassador",
   "metadata": {},
   "outputs": [],
   "source": [
    "pa.plot_fitting_bars(continuum_genes, ['ENSG00000134982'], medians, mad, poly_models, sig_models, 'continuum', ylabel='TPM', save_as='APC.svg')"
   ]
  },
  {
   "cell_type": "code",
   "execution_count": null,
   "id": "geological-rehabilitation",
   "metadata": {},
   "outputs": [],
   "source": []
  }
 ],
 "metadata": {
  "kernelspec": {
   "display_name": "Python 3",
   "language": "python",
   "name": "python3"
  },
  "language_info": {
   "codemirror_mode": {
    "name": "ipython",
    "version": 3
   },
   "file_extension": ".py",
   "mimetype": "text/x-python",
   "name": "python",
   "nbconvert_exporter": "python",
   "pygments_lexer": "ipython3",
   "version": "3.8.10"
  }
 },
 "nbformat": 4,
 "nbformat_minor": 5
}
