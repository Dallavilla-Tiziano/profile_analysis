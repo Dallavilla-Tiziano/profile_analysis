{
 "cells": [
  {
   "cell_type": "code",
   "execution_count": 25,
   "id": "assured-andorra",
   "metadata": {},
   "outputs": [],
   "source": [
    "import pandas as pd\n",
    "import pyensembl\n",
    "import mygene\n",
    "\n",
    "mg = mygene.MyGeneInfo()\n",
    "ensembl = pyensembl.EnsemblRelease()"
   ]
  },
  {
   "cell_type": "code",
   "execution_count": 26,
   "id": "unnecessary-sending",
   "metadata": {},
   "outputs": [],
   "source": [
    "columns = ['1', '2', 'gene', '3', '4', '5', '6', '7', '8', '9', '10', '11', '12', '13', '14', '15', '16', '17']\n",
    "go_terms = pd.read_csv('/home/ieo5417/Documenti/colon_paper/docker/analysis/go_analysis/goa_human.gaf', skiprows=41, sep='\\t', names=columns)"
   ]
  },
  {
   "cell_type": "code",
   "execution_count": 27,
   "id": "honey-quilt",
   "metadata": {},
   "outputs": [
    {
     "name": "stdout",
     "output_type": "stream",
     "text": [
      "querying 1-1000...done.\n",
      "querying 1001-2000...done.\n",
      "querying 2001-3000...done.\n",
      "querying 3001-4000...done.\n",
      "querying 4001-5000...done.\n",
      "querying 5001-6000...done.\n",
      "querying 6001-7000...done.\n",
      "querying 7001-8000...done.\n",
      "querying 8001-9000...done.\n",
      "querying 9001-10000...done.\n",
      "querying 10001-11000...done.\n",
      "querying 11001-12000...done.\n",
      "querying 12001-13000...done.\n",
      "querying 13001-14000...done.\n",
      "querying 14001-15000...done.\n",
      "querying 15001-16000...done.\n",
      "querying 16001-17000...done.\n",
      "querying 17001-18000...done.\n",
      "querying 18001-19000...done.\n",
      "querying 19001-19792...done.\n",
      "Finished.\n",
      "408 input query terms found dup hits:\n",
      "\t[('IGKV1-17', 2), ('IGHV3-43', 2), ('SCAND2P', 2), ('ZNF883', 2), ('TRBV30', 2), ('TRBV29-1', 2), ('\n",
      "333 input query terms found no hit:\n",
      "\t['nan', 'SKIV2L', 'H3BQ15', 'MT-ND3', 'E9PLN8', 'A0A0B4J293', 'LIAT1', 'A0A087WUV0', 'H3BUA1', 'H0YA\n"
     ]
    }
   ],
   "source": [
    "query = mg.querymany(set(list(go_terms['gene'])),\n",
    "                          scopes='symbol',\n",
    "                          species=9606,\n",
    "                          fields='ensembl',\n",
    "                          returnall=True)"
   ]
  },
  {
   "cell_type": "code",
   "execution_count": 28,
   "id": "agreed-debut",
   "metadata": {},
   "outputs": [],
   "source": [
    "GO_ensmbl = []\n",
    "for element in query['out']:\n",
    "    if 'ensembl' in element:\n",
    "        entry = element['ensembl']\n",
    "        if type(entry) is list:\n",
    "            for sub_element in entry:\n",
    "                GO_ensmbl.append(sub_element['gene'])\n",
    "        else:\n",
    "            GO_ensmbl.append(entry['gene'])"
   ]
  },
  {
   "cell_type": "code",
   "execution_count": 29,
   "id": "integrated-remark",
   "metadata": {},
   "outputs": [],
   "source": [
    "rna_cont = pd.read_csv('/home/ieo5417/Documenti/colon_paper/docker/analysis/transcriptome/output/continuum.csv')\n",
    "rna_cont.set_index('Unnamed: 0', inplace=True)\n",
    "rna_sig = pd.read_csv('/home/ieo5417/Documenti/colon_paper/docker/analysis/transcriptome/output/strict_sig_genes_list.txt', names=['genes'])\n",
    "rna_sig.set_index('genes', inplace=True)"
   ]
  },
  {
   "cell_type": "code",
   "execution_count": 18,
   "id": "black-parish",
   "metadata": {},
   "outputs": [],
   "source": [
    "rna_cont = pd.read_csv('/home/ieo5417/Documenti/colon_paper/docker/analysis/transcriptome/output/GTEX_filtered_genes_continuum_RNA.csv')\n",
    "rna_cont.set_index('Unnamed: 0', inplace=True)\n",
    "rna_sig = pd.read_csv('/home/ieo5417/Documenti/colon_paper/docker/analysis/transcriptome/output/GTEX_filtered_genes_sigmoid_RNA.csv')\n",
    "rna_sig.set_index('Unnamed: 0', inplace=True)"
   ]
  },
  {
   "cell_type": "markdown",
   "id": "dense-solid",
   "metadata": {},
   "source": [
    "## Continuous"
   ]
  },
  {
   "cell_type": "code",
   "execution_count": 30,
   "id": "damaged-surprise",
   "metadata": {},
   "outputs": [
    {
     "data": {
      "text/plain": [
       "1603"
      ]
     },
     "execution_count": 30,
     "metadata": {},
     "output_type": "execute_result"
    }
   ],
   "source": [
    "all_gene_ids = ensembl.gene_ids()\n",
    "cont_gene_ids = list(rna_cont.index)\n",
    "cont_gene_search = list(set(cont_gene_ids).intersection(all_gene_ids))\n",
    "cont_genes = [ensembl.gene_by_id(gene_id) for gene_id in cont_gene_search]\n",
    "cont_coding_genes = [gene for gene in cont_genes if gene.biotype == 'protein_coding']\n",
    "len(cont_coding_genes)"
   ]
  },
  {
   "cell_type": "code",
   "execution_count": 31,
   "id": "remarkable-outdoors",
   "metadata": {},
   "outputs": [],
   "source": [
    "cont_rna_ids = []\n",
    "for element in cont_coding_genes:\n",
    "    cont_rna_ids.append(element.gene_id)"
   ]
  },
  {
   "cell_type": "code",
   "execution_count": 32,
   "id": "leading-oxygen",
   "metadata": {},
   "outputs": [
    {
     "data": {
      "text/plain": [
       "1567"
      ]
     },
     "execution_count": 32,
     "metadata": {},
     "output_type": "execute_result"
    }
   ],
   "source": [
    "pd.DataFrame(set(cont_rna_ids).intersection(GO_ensmbl), columns=['gene_id']).to_csv('cont_GO_annotated_rna.csv')\n",
    "len(list(set(cont_rna_ids).intersection(GO_ensmbl)))"
   ]
  },
  {
   "cell_type": "markdown",
   "id": "beautiful-ceramic",
   "metadata": {},
   "source": [
    "## Sigmoid"
   ]
  },
  {
   "cell_type": "code",
   "execution_count": 33,
   "id": "piano-index",
   "metadata": {},
   "outputs": [
    {
     "data": {
      "text/plain": [
       "452"
      ]
     },
     "execution_count": 33,
     "metadata": {},
     "output_type": "execute_result"
    }
   ],
   "source": [
    "all_gene_ids = ensembl.gene_ids()\n",
    "sig_gene_ids = list(rna_sig.index)\n",
    "sig_gene_search = list(set(sig_gene_ids).intersection(all_gene_ids))\n",
    "sig_genes = [ensembl.gene_by_id(gene_id) for gene_id in sig_gene_search]\n",
    "sig_coding_genes = [gene for gene in sig_genes if gene.biotype == 'protein_coding']\n",
    "len(sig_coding_genes)"
   ]
  },
  {
   "cell_type": "code",
   "execution_count": 34,
   "id": "composed-wednesday",
   "metadata": {},
   "outputs": [],
   "source": [
    "sig_rna_ids = []\n",
    "for element in sig_coding_genes:\n",
    "    sig_rna_ids.append(element.gene_id)"
   ]
  },
  {
   "cell_type": "code",
   "execution_count": 35,
   "id": "stunning-testament",
   "metadata": {},
   "outputs": [
    {
     "data": {
      "text/plain": [
       "437"
      ]
     },
     "execution_count": 35,
     "metadata": {},
     "output_type": "execute_result"
    }
   ],
   "source": [
    "pd.DataFrame(set(sig_rna_ids).intersection(GO_ensmbl), columns=['gene_id']).to_csv('sig_GO_annotated_rna.csv')\n",
    "len(list(set(sig_rna_ids).intersection(GO_ensmbl)))"
   ]
  },
  {
   "cell_type": "markdown",
   "id": "handled-jewelry",
   "metadata": {},
   "source": [
    "# METHYLATION"
   ]
  },
  {
   "cell_type": "code",
   "execution_count": 36,
   "id": "affiliated-offset",
   "metadata": {},
   "outputs": [],
   "source": [
    "meth_cont_temp = pd.read_csv('/home/ieo5417/Documenti/colon_paper/docker/analysis/methylome/output/continuum.csv')\n",
    "meth_cont_temp.set_index('Unnamed: 0', inplace=True)\n",
    "meth_sig_temp = pd.read_csv('/home/ieo5417/Documenti/colon_paper/docker/analysis/methylome/output/strict_sig_genes_list.txt', names=['genes'])\n",
    "meth_sig_temp.set_index('genes', inplace=True)"
   ]
  },
  {
   "cell_type": "code",
   "execution_count": 37,
   "id": "grand-hartford",
   "metadata": {},
   "outputs": [
    {
     "name": "stdout",
     "output_type": "stream",
     "text": [
      "querying 1-1000...done.\n",
      "querying 1001-2000...done.\n",
      "querying 2001-2951...done.\n",
      "Finished.\n",
      "116 input query terms found no hit:\n",
      "\t['TEX40', 'DSCR3', 'C6orf203', 'KIAA0907', 'ATP5F1', 'C5orf45', 'TUSC5', 'VARS', 'FAM49B', 'PQLC1', \n"
     ]
    }
   ],
   "source": [
    "temp=[]\n",
    "for element in meth_cont_temp.index:\n",
    "    temp.append(element.split('_')[0])\n",
    "query = mg.querymany(set(temp),\n",
    "                          scopes='symbol',\n",
    "                          species=9606,\n",
    "                          fields='ensembl',\n",
    "                          returnall=True)\n",
    "meth_cont = []\n",
    "for element in query['out']:\n",
    "    if 'ensembl' in element:\n",
    "        entry = element['ensembl']\n",
    "        if type(entry) is list:\n",
    "            for sub_element in entry:\n",
    "                meth_cont.append(sub_element['gene'])\n",
    "        else:\n",
    "            meth_cont.append(entry['gene'])"
   ]
  },
  {
   "cell_type": "code",
   "execution_count": 38,
   "id": "material-newman",
   "metadata": {},
   "outputs": [
    {
     "name": "stdout",
     "output_type": "stream",
     "text": [
      "querying 1-710...done.\n",
      "Finished.\n",
      "1 input query terms found dup hits:\n",
      "\t[('SFTA3', 2)]\n",
      "24 input query terms found no hit:\n",
      "\t['FAM84A', 'HRASLS5', 'CYR61', 'ASNA1', 'MARCH4', 'C16orf45', 'FAM150B', 'SEPP1', 'C7orf60', 'C19orf\n"
     ]
    }
   ],
   "source": [
    "temp=[]\n",
    "for element in meth_sig_temp.index:\n",
    "    temp.append(element.split('_')[0])\n",
    "query = mg.querymany(set(temp),\n",
    "                          scopes='symbol',\n",
    "                          species=9606,\n",
    "                          fields='ensembl',\n",
    "                          returnall=True)\n",
    "meth_sig = []\n",
    "for element in query['out']:\n",
    "    if 'ensembl' in element:\n",
    "        entry = element['ensembl']\n",
    "        if type(entry) is list:\n",
    "            for sub_element in entry:\n",
    "                meth_sig.append(sub_element['gene'])\n",
    "        else:\n",
    "            meth_sig.append(entry['gene'])"
   ]
  },
  {
   "cell_type": "markdown",
   "id": "logical-showcase",
   "metadata": {},
   "source": [
    "## continuous"
   ]
  },
  {
   "cell_type": "code",
   "execution_count": 39,
   "id": "working-courtesy",
   "metadata": {},
   "outputs": [
    {
     "data": {
      "text/plain": [
       "2837"
      ]
     },
     "execution_count": 39,
     "metadata": {},
     "output_type": "execute_result"
    }
   ],
   "source": [
    "all_gene_ids = ensembl.gene_ids()\n",
    "cont_gene_ids = meth_cont\n",
    "cont_gene_search = list(set(cont_gene_ids).intersection(all_gene_ids))\n",
    "cont_genes = [ensembl.gene_by_id(gene_id) for gene_id in cont_gene_search]\n",
    "cont_coding_genes = [gene for gene in cont_genes if gene.biotype == 'protein_coding']\n",
    "len(cont_coding_genes)"
   ]
  },
  {
   "cell_type": "code",
   "execution_count": 40,
   "id": "local-attitude",
   "metadata": {},
   "outputs": [],
   "source": [
    "cont_rna_ids = []\n",
    "for element in cont_coding_genes:\n",
    "    cont_rna_ids.append(element.gene_id)"
   ]
  },
  {
   "cell_type": "code",
   "execution_count": 41,
   "id": "linear-stanley",
   "metadata": {},
   "outputs": [
    {
     "data": {
      "text/plain": [
       "2809"
      ]
     },
     "execution_count": 41,
     "metadata": {},
     "output_type": "execute_result"
    }
   ],
   "source": [
    "pd.DataFrame(set(cont_rna_ids).intersection(GO_ensmbl), columns=['gene_id']).to_csv('cont_GO_annotated_meth.csv')\n",
    "len(list(set(cont_rna_ids).intersection(GO_ensmbl)))"
   ]
  },
  {
   "cell_type": "markdown",
   "id": "local-focus",
   "metadata": {},
   "source": [
    "## Sigmoid"
   ]
  },
  {
   "cell_type": "code",
   "execution_count": 42,
   "id": "exterior-guyana",
   "metadata": {},
   "outputs": [
    {
     "data": {
      "text/plain": [
       "686"
      ]
     },
     "execution_count": 42,
     "metadata": {},
     "output_type": "execute_result"
    }
   ],
   "source": [
    "all_gene_ids = ensembl.gene_ids()\n",
    "sig_gene_ids = meth_sig\n",
    "sig_gene_search = list(set(sig_gene_ids).intersection(all_gene_ids))\n",
    "sig_genes = [ensembl.gene_by_id(gene_id) for gene_id in sig_gene_search]\n",
    "sig_coding_genes = [gene for gene in sig_genes if gene.biotype == 'protein_coding']\n",
    "len(sig_coding_genes)"
   ]
  },
  {
   "cell_type": "code",
   "execution_count": 43,
   "id": "emerging-search",
   "metadata": {},
   "outputs": [],
   "source": [
    "GO_ensmbl = []\n",
    "for element in query['out']:\n",
    "    if 'ensembl' in element:\n",
    "        entry = element['ensembl']\n",
    "        if type(entry) is list:\n",
    "            for sub_element in entry:\n",
    "                GO_ensmbl.append(sub_element['gene'])\n",
    "        else:\n",
    "            GO_ensmbl.append(entry['gene'])"
   ]
  },
  {
   "cell_type": "code",
   "execution_count": 44,
   "id": "governmental-reverse",
   "metadata": {},
   "outputs": [],
   "source": [
    "sig_rna_ids = []\n",
    "for element in sig_coding_genes:\n",
    "    sig_rna_ids.append(element.gene_id)"
   ]
  },
  {
   "cell_type": "code",
   "execution_count": 45,
   "id": "moved-boards",
   "metadata": {},
   "outputs": [
    {
     "data": {
      "text/plain": [
       "686"
      ]
     },
     "execution_count": 45,
     "metadata": {},
     "output_type": "execute_result"
    }
   ],
   "source": [
    "pd.DataFrame(set(sig_rna_ids).intersection(GO_ensmbl), columns=['gene_id']).to_csv('sig_GO_annotated_meth.csv')\n",
    "len(list(set(sig_rna_ids).intersection(GO_ensmbl)))"
   ]
  },
  {
   "cell_type": "code",
   "execution_count": null,
   "id": "employed-couple",
   "metadata": {},
   "outputs": [],
   "source": []
  },
  {
   "cell_type": "code",
   "execution_count": null,
   "id": "optical-cemetery",
   "metadata": {},
   "outputs": [],
   "source": []
  },
  {
   "cell_type": "code",
   "execution_count": null,
   "id": "patent-zimbabwe",
   "metadata": {},
   "outputs": [],
   "source": []
  }
 ],
 "metadata": {
  "kernelspec": {
   "display_name": "Python 3",
   "language": "python",
   "name": "python3"
  },
  "language_info": {
   "codemirror_mode": {
    "name": "ipython",
    "version": 3
   },
   "file_extension": ".py",
   "mimetype": "text/x-python",
   "name": "python",
   "nbconvert_exporter": "python",
   "pygments_lexer": "ipython3",
   "version": "3.8.10"
  }
 },
 "nbformat": 4,
 "nbformat_minor": 5
}
