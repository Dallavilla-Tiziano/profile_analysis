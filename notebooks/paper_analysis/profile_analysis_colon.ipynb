{
 "cells": [
  {
   "cell_type": "markdown",
   "id": "working-fraud",
   "metadata": {},
   "source": [
    "# Associations between molecular and environmental changes along the proximal-to-distal axis of the colon\n",
    "## Abstract\n",
    "### Objective\n",
    "The two-colon paradigm, differentiating colorectal cancers according to their location relative to the splenic flexure, contributed to improved prognosis and treatment. Recent studies challenged this division by proposing a continuum model where molecular properties follow a continuous trend along the colon. We address the question of which model describes colorectal cancer properties better by comparing their performance in describing such properties.\n",
    "### Design\n",
    "We used linear, polynomial, and sigmoid models to fit the spatial dependency of molecular and environmental tumour features along the proximal-to-distal axis of the colon leveraging a cohort of 522 colorectal cancer patients from TCGA and quantified the tumour metabolome in a novel cohort of 27 patients. Subsequently, we developed a network analysis approach to identify closely interacting genes with experimentally quantified metabolites to study the interplay between molecular and environmental features of tumours.\n",
    "### Results\n",
    "Sigmoid behaviours are exclusively observed for features related to molecular properties of tumours. At the same time, continuous models approximate better properties of the tumour environment and specifically alterations of genes responding to or modulating this environment. As this suggests an environmental impact on selective constraints related to the changes of alteration profiles along the colon, we aim to understand better the interplay of components of the tumour ecosystem. We show that genes with continuous transcriptional profiles interact with metabolites associated with carcinogenesis, which in turn tend to follow continuous trends correlated with bacterial abundance (which show continuous behaviour themselves). Overall, these results suggest that gradual changes in environmental factors along the colon contribute to shaping the selective forces driving carcinogenesis.\n",
    "### Conclusion\n",
    "By capturing the biology of tumours as systems interacting with their local environment, our results demonstrate the clinical relevance of increasing the resolution of tumour localisation.\n",
    "\n",
    "### About this notebook\n",
    "This notebook allow to reproduce all the results and figures presented in [CITAZIONE] "
   ]
  },
  {
   "cell_type": "markdown",
   "id": "extreme-jacket",
   "metadata": {},
   "source": [
    "# LOADING LIBRARIES"
   ]
  },
  {
   "cell_type": "code",
   "execution_count": 240,
   "id": "fabulous-december",
   "metadata": {},
   "outputs": [],
   "source": [
    "%matplotlib inline\n",
    "# Import custom libraries\n",
    "import sys\n",
    "sys.path.append(\"../../../../git/profiler/lib\") # Path to the profile_analysis_class.py lib\n",
    "# sys.path.append(\"../../../git/profiler/lib\") # Path to the profile_analysis_class.py lib\n",
    "sys.path.append(\"../../../../git/network_analysis/lib/\") # Path to the network_search_class.py lib\n",
    "# sys.path.append(\"../../../git/network_analysis/lib/\") # Path to the network_search_class.py lib\n",
    "from profile_analysis_class import ProfileAnalysis\n",
    "from network_search_class import NetworkSearchAnalysis\n",
    "\n",
    "#Import libraries\n",
    "import pandas as pd\n",
    "import matplotlib.pyplot as plt\n",
    "import matplotlib\n",
    "import numpy as np\n",
    "from supervenn import supervenn\n",
    "import mygene\n",
    "from joblib import Parallel, delayed\n",
    "from statsmodels.stats.multitest import fdrcorrection\n",
    "import os\n",
    "import statistics\n",
    "import math\n",
    "from scipy import stats\n",
    "from scipy.stats import beta, norm, fisher_exact, mannwhitneyu, chi2_contingency, ranksums\n",
    "import scipy.stats\n",
    "import collections\n",
    "\n",
    "# Defining left and right sections\n",
    "left_sections = ['Descending colon','Sigmoid colon','Rectosigmoid junction','Rectum, NOS']\n",
    "right_sections = ['Cecum','Ascending colon','Hepatic flexure of colon','Transverse colon']\n",
    "\n",
    "# Create mygene class for info on gene ids\n",
    "mg = mygene.MyGeneInfo()\n",
    "\n",
    "# Set graphical options\n",
    "plt.style.use('../../assets/styles/plotting_style.mplstyle') # Path to the matplotlib style sheet"
   ]
  },
  {
   "cell_type": "markdown",
   "id": "bibliographic-restoration",
   "metadata": {},
   "source": [
    "## Utility Functions"
   ]
  },
  {
   "cell_type": "code",
   "execution_count": 241,
   "id": "homeless-atlantic",
   "metadata": {},
   "outputs": [],
   "source": [
    "# Remove chemicals with gene-chemical interactions above threshold\n",
    "# Get all the interaction types present in the CTD database\n",
    "def ctd_filtering(group,threshold):\n",
    "    interaction_types = []\n",
    "    ctd_data_filtered = pd.DataFrame()\n",
    "    for interaction in group['Interaction Actions']:\n",
    "        interaction_types = interaction_types + interaction.split('|')\n",
    "    if len(group) <= threshold:\n",
    "        ctd_data_filtered = pd.concat([ctd_data_filtered,group])\n",
    "    return ctd_data_filtered, set(interaction_types), interaction_types"
   ]
  },
  {
   "cell_type": "markdown",
   "id": "adjusted-education",
   "metadata": {},
   "source": [
    "# TRANSCRIPTOME PROFILING"
   ]
  },
  {
   "cell_type": "code",
   "execution_count": 242,
   "id": "touched-isaac",
   "metadata": {},
   "outputs": [
    {
     "name": "stdout",
     "output_type": "stream",
     "text": [
      "Project has been created!\n"
     ]
    },
    {
     "name": "stderr",
     "output_type": "stream",
     "text": [
      "/home/ieo5417/Documenti/colon_paper/git/profiler/notebooks/paper_analysis/../../../../git/profiler/lib/profile_analysis_class.py:154: UserWarning: Folder input_data already exist...skipping\n",
      "  warnings.warn(\"Folder input_data already exist...skipping\",\n",
      "/home/ieo5417/Documenti/colon_paper/git/profiler/notebooks/paper_analysis/../../../../git/profiler/lib/profile_analysis_class.py:160: UserWarning: Folder data_raw already exist...skipping\n",
      "  warnings.warn(\"Folder data_raw already exist...skipping\",\n",
      "/home/ieo5417/Documenti/colon_paper/git/profiler/notebooks/paper_analysis/../../../../git/profiler/lib/profile_analysis_class.py:166: UserWarning: Folder data_clinical already exist...skipping\n",
      "  warnings.warn(\"Folder data_clinical already exist...skipping\",\n",
      "/home/ieo5417/Documenti/colon_paper/git/profiler/notebooks/paper_analysis/../../../../git/profiler/lib/profile_analysis_class.py:172: UserWarning: Folder sample_by_section already exist...skipping\n",
      "  warnings.warn(\"Folder sample_by_section already exist...skipping\",\n",
      "/home/ieo5417/Documenti/colon_paper/git/profiler/notebooks/paper_analysis/../../../../git/profiler/lib/profile_analysis_class.py:178: UserWarning: Folder data_fitting already exist...skipping\n",
      "  warnings.warn(\"Folder data_fitting already exist...skipping\",\n",
      "/home/ieo5417/Documenti/colon_paper/git/profiler/notebooks/paper_analysis/../../../../git/profiler/lib/profile_analysis_class.py:184: UserWarning: Folder rnd_data_fitting already exist...skipping\n",
      "  warnings.warn(\"Folder rnd_data_fitting already exist...skipping\",\n",
      "/home/ieo5417/Documenti/colon_paper/git/profiler/notebooks/paper_analysis/../../../../git/profiler/lib/profile_analysis_class.py:190: UserWarning: Folder figures already exist...skipping\n",
      "  warnings.warn(\"Folder figures already exist...skipping\",\n",
      "/home/ieo5417/Documenti/colon_paper/git/profiler/notebooks/paper_analysis/../../../../git/profiler/lib/profile_analysis_class.py:196: UserWarning: Folder output already exist...skipping\n",
      "  warnings.warn(\"Folder output already exist...skipping\",\n"
     ]
    }
   ],
   "source": [
    "# Create workflow class, specifying the path to the SETTINGS.ini file\n",
    "pa_transcriptome = ProfileAnalysis('../../../../docker/analysis/transcriptome')"
   ]
  },
  {
   "cell_type": "markdown",
   "id": "popular-coordinate",
   "metadata": {},
   "source": [
    "## Assign each sample in clinical data file to a colon section"
   ]
  },
  {
   "cell_type": "code",
   "execution_count": 243,
   "id": "responsible-shanghai",
   "metadata": {},
   "outputs": [],
   "source": [
    "pa_transcriptome.create_samples_to_sections_table()"
   ]
  },
  {
   "cell_type": "markdown",
   "id": "environmental-emergency",
   "metadata": {},
   "source": [
    "## Calculate median value and median average variation for each colon section"
   ]
  },
  {
   "cell_type": "code",
   "execution_count": 244,
   "id": "handmade-explosion",
   "metadata": {},
   "outputs": [
    {
     "name": "stdout",
     "output_type": "stream",
     "text": [
      "This step has already been executed...loading results...\n",
      "This step has already been executed...loading results...\n"
     ]
    }
   ],
   "source": [
    "medians_tr, mad_tr = pa_transcriptome.median_by_section()"
   ]
  },
  {
   "cell_type": "markdown",
   "id": "numerous-victory",
   "metadata": {},
   "source": [
    "## GTEX filtering"
   ]
  },
  {
   "cell_type": "code",
   "execution_count": 245,
   "id": "medical-ideal",
   "metadata": {},
   "outputs": [
    {
     "name": "stderr",
     "output_type": "stream",
     "text": [
      "<ipython-input-245-ae584ffe66c4>:7: FutureWarning: Passing a set as an indexer is deprecated and will raise in a future version. Use a list instead.\n",
      "  dLR['left']=data[{left_sec}]\n",
      "<ipython-input-245-ae584ffe66c4>:8: FutureWarning: Passing a set as an indexer is deprecated and will raise in a future version. Use a list instead.\n",
      "  dLR['right']=data[{right_sec}]\n"
     ]
    }
   ],
   "source": [
    "# The following code calculate the right/left ratio for GTEX and TCGA expression data\n",
    "# and use this ratio to estimate threshold of high and low expression ratio\n",
    "\n",
    "def dLR(data, left_sec = 'Sigmoid colon', right_sec = 'Transverse colon'):\n",
    "    # Create a dataframe with the selected section as right left sections\n",
    "    dLR = pd.DataFrame(index=data.index)\n",
    "    dLR['left']=data[{left_sec}]\n",
    "    dLR['right']=data[{right_sec}]\n",
    "    dLR['tcga_r/l']=dLR['right']/dLR['left']\n",
    "    return dLR\n",
    "\n",
    "def estimateT(median_exp, z=[2,1.5,1,0.5]):\n",
    "    # Estimate the z-score threshold for high\\low expression ratio by fitting a gaussian on GTEX\n",
    "    mean=np.mean(median_exp)\n",
    "    std=np.std(median_exp)\n",
    "    ts = {}\n",
    "    for value in z:\n",
    "        hit=(value*std)+mean\n",
    "        lowt=mean-(value*std)\n",
    "        ts[value] = tuple([hit,lowt])\n",
    "    return ts\n",
    "\n",
    "# To save execution time the GTEX file have already been generated\n",
    "# To regenerate the file just delete it ('../docker/analysis/gtex/gtex_right_left_diff.csv')\n",
    "if not os.path.isfile('../../../../docker/analysis/gtex/gtex_right_left_diff.csv'):\n",
    "    # Load GTEX data\n",
    "    gtex=pd.read_csv('../../../../docker/analysis/gtex/GTEx_Analysis_2017-06-05_v8_RNASeQCv1.1.9_gene_tpm.gzip', compression='gzip')\n",
    "    gtex.set_index('Name', inplace=True)\n",
    "    # Load GTEX clinical data\n",
    "    gtex_clinical=pd.read_csv('../../../../docker/analysis/gtex/GTEx_Analysis_v8_Annotations_SampleAttributesDS.txt', sep='\\t')\n",
    "    gtex_clinical.set_index('SAMPID', inplace=True)\n",
    "    # Discard samples for which we don't have data\n",
    "    mask = [index for index in gtex_clinical.index if index in gtex.columns]\n",
    "    gtex_clinical = gtex_clinical.loc[mask]\n",
    "    # Classify samples as left or right\n",
    "    gtex_samples2sections={}\n",
    "    gtex_samples2sections['left']=gtex_clinical[gtex_clinical['SMTSD']=='Colon - Sigmoid'].index\n",
    "    gtex_samples2sections['right']=gtex_clinical[gtex_clinical['SMTSD']=='Colon - Transverse'].index\n",
    "    # Calculate left and right median expression for each gene\n",
    "    gtex_data=pd.DataFrame()\n",
    "    for index, row in gtex.iterrows():\n",
    "        gtex_data.loc[index, 'left']=statistics.median(row[gtex_samples2sections['left']])\n",
    "        gtex_data.loc[index, 'right']=statistics.median(row[gtex_samples2sections['right']])\n",
    "    # Remove the .XX part of ensmbl id\n",
    "    gtex_lr=pd.DataFrame(columns=gtex_data.columns)\n",
    "    for index in gtex_data.index:\n",
    "        gtex_lr.loc[index.split('.')[0]]=gtex_data.loc[index]\n",
    "    # calculate GTEX RIGHT/LEFT ratio for each gene\n",
    "    gtex_lr['gtex_r/l'] = (gtex_lr['right'])/(gtex_lr['left'])\n",
    "    # Drop na (happens when left TPM counts are 0)\n",
    "    gtex_lr.dropna(inplace=True)\n",
    "    # Save file for future\n",
    "    gtex_lr.index.name = 'ensmbl'\n",
    "    gtex_lr.to_csv('../../../../docker/analysis/gtex/gtex_right_left_diff.csv')\n",
    "else:\n",
    "    gtex_lr = pd.read_csv('../../../../docker/analysis/gtex/gtex_right_left_diff.csv')\n",
    "    gtex_lr.set_index('ensmbl', inplace=True)\n",
    "\n",
    "# calculate right/left ratio in TCGA data\n",
    "medians_lr = dLR(medians_tr)\n",
    "\n",
    "# Merge GTEX and TCGA, drop inf and na values\n",
    "gtex_tcga = pd.concat([medians_lr['tcga_r/l'],gtex_lr['gtex_l-r']], axis=1)\n",
    "gtex_tcga.replace([np.inf, -np.inf], np.nan, inplace=True)\n",
    "gtex_tcga.dropna(inplace=True)\n",
    "\n",
    "# Estimate the z-score threshold for high\\low expression ratio by fitting a gaussian on TCGA data\n",
    "ts_tcga = estimateT(gtex_tcga['tcga_r/l'])\n",
    "\n",
    "# Select continuous genes inside the top left and bottom right panels of previous plot\n",
    "# they correspond to high/low ratio GTEX vs TCGA and low/high ratio GTEX vs TCGA\n",
    "ds_tcga=0.5\n",
    "ds_gtex=1\n",
    "tcga_std_filter = [feature for feature in gtex_tcga['tcga_r/l'].index\n",
    "                   if gtex_tcga['tcga_r/l'][feature]>ts_tcga[ds_tcga][0] \n",
    "                   or gtex_tcga['tcga_r/l'][feature]<ts_tcga[ds_tcga][1]]\n",
    "gtex_filter = [feature for feature in tcga_std_filter \n",
    "               if gtex_tcga['gtex_l-r'][feature]<ts_tcga[ds_gtex][0] \n",
    "               and gtex_tcga['gtex_l-r'][feature]>ts_tcga[ds_gtex][1]]\n",
    "\n",
    "medians_tr = medians_tr.loc[gtex_filter]"
   ]
  },
  {
   "cell_type": "markdown",
   "id": "filled-flooring",
   "metadata": {},
   "source": [
    "## Fit Observables"
   ]
  },
  {
   "cell_type": "code",
   "execution_count": 7,
   "id": "stock-diabetes",
   "metadata": {},
   "outputs": [
    {
     "name": "stdout",
     "output_type": "stream",
     "text": [
      "This step has already been executed...loading results...\n",
      "This step has already been executed...loading results...\n",
      "This step has already been executed...loading results...\n",
      "This step has already been executed...loading results...\n"
     ]
    }
   ],
   "source": [
    "scores_tr, poly_obs_scores_tr, sig_obs_scores_tr, poly_models_tr, sig_models_tr = pa_transcriptome.fit_data(medians_tr, guess_bounds = True)"
   ]
  },
  {
   "cell_type": "markdown",
   "id": "historical-theta",
   "metadata": {},
   "source": [
    "## Fit randomly permutated data"
   ]
  },
  {
   "cell_type": "code",
   "execution_count": 8,
   "id": "organized-upgrade",
   "metadata": {},
   "outputs": [
    {
     "name": "stdout",
     "output_type": "stream",
     "text": [
      "This step has already been executed...loading results...\n",
      "This step has already been executed...loading results...\n",
      "This step has already been executed...loading results...\n"
     ]
    }
   ],
   "source": [
    "poly_perm_scores_tr, sig_perm_scores_tr, sig_perm_models_tr = pa_transcriptome.fit_random_data(medians_tr, guess_bounds = True)"
   ]
  },
  {
   "cell_type": "markdown",
   "id": "moved-spending",
   "metadata": {},
   "source": [
    "## Plot models performance"
   ]
  },
  {
   "cell_type": "code",
   "execution_count": 9,
   "id": "powerful-facility",
   "metadata": {},
   "outputs": [
    {
     "name": "stderr",
     "output_type": "stream",
     "text": [
      "/home/ieo5417/Documenti/colon_paper/git/profiler/notebooks/paper_analysis/../../../../git/profiler/lib/profile_analysis_class.py:667: UserWarning: Matplotlib is currently using agg, which is a non-GUI backend, so cannot show the figure.\n",
      "  plt.show()\n",
      "/home/ieo5417/Documenti/colon_paper/git/profiler/notebooks/paper_analysis/../../../../git/profiler/lib/profile_analysis_class.py:638: UserWarning: Matplotlib is currently using agg, which is a non-GUI backend, so cannot show the figure.\n",
      "  plt.show()\n",
      "/home/ieo5417/.local/lib/python3.8/site-packages/statsmodels/stats/multitest.py:327: RuntimeWarning: invalid value encountered in less_equal\n",
      "  reject = pvals_sorted <= ecdffactor*alpha\n",
      "/home/ieo5417/.local/lib/python3.8/site-packages/statsmodels/stats/multitest.py:333: RuntimeWarning: invalid value encountered in accumulate\n",
      "  pvals_corrected = np.minimum.accumulate(pvals_corrected_raw[::-1])[::-1]\n",
      "/home/ieo5417/.local/lib/python3.8/site-packages/statsmodels/stats/multitest.py:335: RuntimeWarning: invalid value encountered in greater\n",
      "  pvals_corrected[pvals_corrected>1] = 1\n",
      "/home/ieo5417/.local/lib/python3.8/site-packages/scipy/stats/_continuous_distns.py:709: RuntimeWarning: invalid value encountered in sqrt\n",
      "  sk = 2*(b-a)*np.sqrt(a + b + 1) / (a + b + 2) / np.sqrt(a*b)\n",
      "/home/ieo5417/Documenti/colon_paper/git/profiler/notebooks/paper_analysis/../../../../git/profiler/lib/profile_analysis_class.py:638: UserWarning: Matplotlib is currently using agg, which is a non-GUI backend, so cannot show the figure.\n",
      "  plt.show()\n",
      "/home/ieo5417/Documenti/colon_paper/git/profiler/notebooks/paper_analysis/../../../../git/profiler/lib/profile_analysis_class.py:638: UserWarning: Matplotlib is currently using agg, which is a non-GUI backend, so cannot show the figure.\n",
      "  plt.show()\n",
      "/home/ieo5417/Documenti/colon_paper/git/profiler/notebooks/paper_analysis/../../../../git/profiler/lib/profile_analysis_class.py:638: UserWarning: Matplotlib is currently using agg, which is a non-GUI backend, so cannot show the figure.\n",
      "  plt.show()\n"
     ]
    }
   ],
   "source": [
    "models_pvalue_tr, scores_table=pa_transcriptome.plot_gof(poly_obs_scores_tr, sig_obs_scores_tr, poly_perm_scores_tr, sig_perm_scores_tr, dist_perm=True)"
   ]
  },
  {
   "cell_type": "markdown",
   "id": "eleven-length",
   "metadata": {},
   "source": [
    "## Determine which models performed better on observed than randomly generated data"
   ]
  },
  {
   "cell_type": "code",
   "execution_count": 10,
   "id": "explicit-zoning",
   "metadata": {},
   "outputs": [],
   "source": [
    "poly_obs_scores_tr = pa_transcriptome.select_significant_models(models_pvalue_tr, poly_obs_scores_tr)"
   ]
  },
  {
   "cell_type": "markdown",
   "id": "confused-stone",
   "metadata": {},
   "source": [
    "## Generate background distributions datasets"
   ]
  },
  {
   "cell_type": "code",
   "execution_count": 11,
   "id": "classified-transition",
   "metadata": {},
   "outputs": [],
   "source": [
    "backgrounds_tr = pa_transcriptome.assemble_backgrounds(poly_obs_scores_tr, sig_perm_scores_tr, poly_perm_scores_tr)"
   ]
  },
  {
   "cell_type": "markdown",
   "id": "undefined-belfast",
   "metadata": {},
   "source": [
    "## Calculate p and q values"
   ]
  },
  {
   "cell_type": "code",
   "execution_count": 12,
   "id": "finite-rental",
   "metadata": {},
   "outputs": [],
   "source": [
    "p_value_tables_tr = pa_transcriptome.get_p_values(poly_obs_scores_tr, backgrounds_tr)"
   ]
  },
  {
   "cell_type": "code",
   "execution_count": 13,
   "id": "established-ghana",
   "metadata": {},
   "outputs": [
    {
     "name": "stderr",
     "output_type": "stream",
     "text": [
      "/home/ieo5417/.local/lib/python3.8/site-packages/statsmodels/stats/multitest.py:327: RuntimeWarning: invalid value encountered in less_equal\n",
      "  reject = pvals_sorted <= ecdffactor*alpha\n",
      "/home/ieo5417/.local/lib/python3.8/site-packages/statsmodels/stats/multitest.py:333: RuntimeWarning: invalid value encountered in accumulate\n",
      "  pvals_corrected = np.minimum.accumulate(pvals_corrected_raw[::-1])[::-1]\n",
      "/home/ieo5417/.local/lib/python3.8/site-packages/statsmodels/stats/multitest.py:335: RuntimeWarning: invalid value encountered in greater\n",
      "  pvals_corrected[pvals_corrected>1] = 1\n"
     ]
    }
   ],
   "source": [
    "q_value_tables_tr = pa_transcriptome.get_q_values(p_value_tables_tr, poly_obs_scores_tr)"
   ]
  },
  {
   "cell_type": "code",
   "execution_count": 14,
   "id": "humanitarian-people",
   "metadata": {},
   "outputs": [],
   "source": [
    "backgrounds_tr_str = {}\n",
    "for key in backgrounds_tr.keys():\n",
    "    backgrounds_tr_str[str(key)] = backgrounds_tr[key]"
   ]
  },
  {
   "cell_type": "code",
   "execution_count": 15,
   "id": "powered-century",
   "metadata": {},
   "outputs": [],
   "source": [
    "backgrounds_all_scores_dist = {}\n",
    "for key in backgrounds_tr_str:\n",
    "    temp = []\n",
    "    for column in backgrounds_tr_str[key]:\n",
    "        temp = temp + list(backgrounds_tr_str[key][column])\n",
    "    backgrounds_all_scores_dist[str(key)] = temp"
   ]
  },
  {
   "cell_type": "code",
   "execution_count": 16,
   "id": "expired-insurance",
   "metadata": {},
   "outputs": [
    {
     "name": "stderr",
     "output_type": "stream",
     "text": [
      "/home/ieo5417/Documenti/colon_paper/git/profiler/notebooks/paper_analysis/../../../../git/profiler/lib/profile_analysis_class.py:782: SettingWithCopyWarning: \n",
      "A value is trying to be set on a copy of a slice from a DataFrame\n",
      "\n",
      "See the caveats in the documentation: https://pandas.pydata.org/pandas-docs/stable/user_guide/indexing.html#returning-a-view-versus-a-copy\n",
      "  to_evaluate.dropna(subset=polynomial_columns, how='all', inplace=True)\n",
      "/home/ieo5417/Documenti/colon_paper/git/profiler/notebooks/paper_analysis/../../../../git/profiler/lib/profile_analysis_class.py:791: SettingWithCopyWarning: \n",
      "A value is trying to be set on a copy of a slice from a DataFrame.\n",
      "Try using .loc[row_indexer,col_indexer] = value instead\n",
      "\n",
      "See the caveats in the documentation: https://pandas.pydata.org/pandas-docs/stable/user_guide/indexing.html#returning-a-view-versus-a-copy\n",
      "  to_evaluate['continuous'] = only_continuous.iloc[:,0]\n"
     ]
    }
   ],
   "source": [
    "classification_tr = pa_transcriptome.classify_genes(poly_obs_scores_tr, q_value_tables_tr, 0.2, 0.1)"
   ]
  },
  {
   "cell_type": "code",
   "execution_count": 17,
   "id": "appropriate-emphasis",
   "metadata": {},
   "outputs": [],
   "source": [
    "pd.DataFrame(dict([ (k,pd.Series(v)) for k,v in classification_tr.items() ])).to_csv(f'{pa_transcriptome.output}/classification_tr.csv')"
   ]
  },
  {
   "cell_type": "code",
   "execution_count": 18,
   "id": "analyzed-milton",
   "metadata": {},
   "outputs": [
    {
     "name": "stdout",
     "output_type": "stream",
     "text": [
      "sigmoid\n",
      "259\n",
      "discarded\n",
      "44\n",
      "continuous\n",
      "846\n"
     ]
    }
   ],
   "source": [
    "for key in classification_tr:\n",
    "    print(key)\n",
    "    print(len(classification_tr[key]))"
   ]
  },
  {
   "cell_type": "markdown",
   "id": "precious-maine",
   "metadata": {},
   "source": [
    "## SF 1A"
   ]
  },
  {
   "cell_type": "code",
   "execution_count": 19,
   "id": "extra-heaven",
   "metadata": {},
   "outputs": [
    {
     "name": "stderr",
     "output_type": "stream",
     "text": [
      "<lambdifygenerated-1>:3: RuntimeWarning: overflow encountered in exp\n",
      "  return (c*k*exp(-k*(x - x0))/(1 + exp(-k*(x - x0)))**2)\n",
      "<lambdifygenerated-1>:3: RuntimeWarning: invalid value encountered in double_scalars\n",
      "  return (c*k*exp(-k*(x - x0))/(1 + exp(-k*(x - x0)))**2)\n",
      "<lambdifygenerated-1>:3: RuntimeWarning: overflow encountered in double_scalars\n",
      "  return (c*k*exp(-k*(x - x0))/(1 + exp(-k*(x - x0)))**2)\n"
     ]
    }
   ],
   "source": [
    "gene_list_tr, section_l_tr = pa_transcriptome.strict_sig_list(classification_tr['sigmoid'], sig_models_tr, plot_dist = True)"
   ]
  },
  {
   "cell_type": "markdown",
   "id": "equivalent-egypt",
   "metadata": {},
   "source": [
    "## Figure 1D"
   ]
  },
  {
   "cell_type": "code",
   "execution_count": 20,
   "id": "spiritual-pride",
   "metadata": {},
   "outputs": [
    {
     "name": "stderr",
     "output_type": "stream",
     "text": [
      "/home/ieo5417/Documenti/colon_paper/git/profiler/notebooks/paper_analysis/../../../../git/profiler/lib/profile_analysis_class.py:1062: UserWarning: Matplotlib is currently using agg, which is a non-GUI backend, so cannot show the figure.\n",
      "  plt.show()\n"
     ]
    }
   ],
   "source": [
    "pa_transcriptome.plot_fitting_bars(classification_tr['continuous'],\n",
    "                                    ['ENSG00000134982', 'ENSG00000118705'],\n",
    "                                    medians_tr,\n",
    "                                    mad_tr,\n",
    "                                    poly_models_tr, sig_models_tr,\n",
    "                                    'continuum',\n",
    "                                    title=False,\n",
    "                                    save_as='Figure_1D.svg')"
   ]
  },
  {
   "cell_type": "markdown",
   "id": "lined-essence",
   "metadata": {},
   "source": [
    "# CTD enrichment for each chemical"
   ]
  },
  {
   "cell_type": "code",
   "execution_count": 21,
   "id": "imposed-bicycle",
   "metadata": {},
   "outputs": [],
   "source": [
    "#Preparing ctd dataset, for all chemicals (ctd_data), and for those associated with colorectal neoplasms (ctd_data_colorectalneoplasm_ds)\n",
    "ctd_data = pd.read_csv('../../../../docker/analysis/ctd/CTD_chem_gene_ixns.csv', skiprows=27)\n",
    "ctd_data = ctd_data[ctd_data['Organism']=='Homo sapiens']\n",
    "ctd_data = ctd_data[['# ChemicalName','ChemicalID','CasRN','GeneSymbol','GeneID','Interaction','InteractionActions']]\n",
    "ctd_data.columns = ['Chemical Name','Chemical ID','CAS RN','Gene Symbol','Gene ID','Interaction','Interaction Actions']\n",
    "\n",
    "ctd_data_colorectalneoplasm_ds = pd.read_csv('../../../../docker/analysis/ctd/CTD_D015179_ixns_20230518052747.csv')\n",
    "ctd_data_colorectalneoplasm_ds = ctd_data_colorectalneoplasm_ds[ctd_data_colorectalneoplasm_ds['Reference Count']>=10]\n",
    "ctd_data_colorectalneoplasm_ds = ctd_data_colorectalneoplasm_ds[['Chemical Name','Chemical ID','CAS RN','Gene Symbol','Gene ID','Interaction','Interaction Actions']]"
   ]
  },
  {
   "cell_type": "code",
   "execution_count": 22,
   "id": "altered-sheep",
   "metadata": {},
   "outputs": [],
   "source": [
    "# Determine continuous and not continuous genes\n",
    "cont_gtex_filtered = classification_tr['continuous']\n",
    "cont = set(cont_gtex_filtered)\n",
    "no_cont = set(medians_tr.index)\n",
    "no_cont = no_cont.symmetric_difference(cont)"
   ]
  },
  {
   "cell_type": "code",
   "execution_count": 23,
   "id": "prescribed-victim",
   "metadata": {},
   "outputs": [],
   "source": [
    "# Group CTD data by chemical\n",
    "ctd_by_chemicalid = ctd_data.groupby('Chemical ID')"
   ]
  },
  {
   "cell_type": "code",
   "execution_count": 24,
   "id": "opposed-cleanup",
   "metadata": {},
   "outputs": [],
   "source": [
    "# Remove chemicals with gene-chemical interactions above threshold (10000)\n",
    "# Get all the interaction types present in the CTD database\n",
    "threshold = 10000\n",
    "calc_res = Parallel(n_jobs=20)(delayed(ctd_filtering)(group, threshold) for name, group in ctd_by_chemicalid)"
   ]
  },
  {
   "cell_type": "code",
   "execution_count": 25,
   "id": "creative-ceremony",
   "metadata": {},
   "outputs": [],
   "source": [
    "# unpack interactions result after paralle calculation\n",
    "interaction_types_unique = []\n",
    "interaction_types_full = []\n",
    "ctd_database_df = pd.DataFrame()\n",
    "for result in calc_res:\n",
    "    interaction_types_unique = interaction_types_unique + list(result[1])\n",
    "    interaction_types_full = interaction_types_full + list(result[2])\n",
    "    ctd_database_df = pd.concat([ctd_database_df, result[0]])\n",
    "interaction_types_unique = set(interaction_types_unique)"
   ]
  },
  {
   "cell_type": "code",
   "execution_count": 26,
   "id": "relative-plate",
   "metadata": {},
   "outputs": [
    {
     "name": "stdout",
     "output_type": "stream",
     "text": [
      "querying 1-1000...done.\n",
      "querying 1001-2000...done.\n",
      "querying 2001-3000...done.\n",
      "querying 3001-4000...done.\n",
      "querying 4001-5000...done.\n",
      "querying 5001-6000...done.\n",
      "querying 6001-7000...done.\n",
      "querying 7001-8000...done.\n",
      "querying 8001-9000...done.\n",
      "querying 9001-10000...done.\n",
      "querying 10001-11000...done.\n",
      "querying 11001-12000...done.\n",
      "querying 12001-13000...done.\n",
      "querying 13001-14000...done.\n",
      "querying 14001-15000...done.\n",
      "querying 15001-16000...done.\n",
      "querying 16001-17000...done.\n",
      "querying 17001-18000...done.\n",
      "querying 18001-19000...done.\n",
      "querying 19001-20000...done.\n",
      "querying 20001-21000...done.\n",
      "querying 21001-22000...done.\n",
      "querying 22001-23000...done.\n",
      "querying 23001-24000...done.\n",
      "querying 24001-25000...done.\n",
      "querying 25001-25994...done.\n",
      "Finished.\n",
      "2742 input query terms found dup hits:\n",
      "\t[('ZKSCAN8P1', 2), ('RPL23AP7', 2), ('PI4KAP1', 2), ('MT1JP', 2), ('EIF1P7', 2), ('UBE2E4P', 2), ('M\n",
      "995 input query terms found no hit:\n",
      "\t['nan', 'ZFP346', 'GH', 'GRAMD2', 'FAM84B', 'PHLPP', 'C1ORF68', 'STCH', 'PIAS', 'CCL9', 'JUB', 'DAPK\n",
      "Pass \"returnall=True\" to return complete lists of duplicate or missing query terms.\n"
     ]
    }
   ],
   "source": [
    "# Convert CTD gene symbols to ensmbl id\n",
    "query = mg.querymany(set(ctd_database_df['Gene Symbol']),\n",
    "                    scopes='symbol',\n",
    "                    species=9606,\n",
    "                    fields='ensembl',\n",
    "                    as_dataframe=True)\n",
    "ctd_database_df['ensembl_id']=np.nan\n",
    "query.dropna(subset=['ensembl.gene'], inplace=True)\n",
    "for gene in query.index:\n",
    "    if isinstance(query.loc[gene]['ensembl.gene'], str):\n",
    "        ens = query.loc[gene]['ensembl.gene']\n",
    "    else:\n",
    "        ens = query.loc[gene]['ensembl.gene'][0]\n",
    "    ctd_database_df.loc[(ctd_database_df['Gene Symbol']==gene), 'ensembl_id'] = ens\n",
    "ctd_database_df.dropna(subset=['ensembl_id'], inplace=True)"
   ]
  },
  {
   "cell_type": "code",
   "execution_count": 27,
   "id": "sticky-honor",
   "metadata": {},
   "outputs": [],
   "source": [
    "#create a chemical-interactions dictionary\n",
    "compounds_interactions = {}\n",
    "ctd_by_chemicalid = ctd_database_df.groupby('Chemical Name')\n",
    "for name, group in ctd_by_chemicalid:\n",
    "    compounds_interactions[name] = group"
   ]
  },
  {
   "cell_type": "code",
   "execution_count": 28,
   "id": "pending-signature",
   "metadata": {},
   "outputs": [
    {
     "name": "stdout",
     "output_type": "stream",
     "text": [
      "4869 compound were discarded because the table of expected frequency contains zeroes\n"
     ]
    }
   ],
   "source": [
    "# Test enrichment for each chemical\n",
    "chemical_enrichment = pd.DataFrame()\n",
    "i = 0\n",
    "for key in compounds_interactions:\n",
    "    genes_in_ctd = set(compounds_interactions[key]['ensembl_id'])\n",
    "    #genes continuous/ctd\n",
    "    cont_ctd = len(cont.intersection(genes_in_ctd))\n",
    "    #genes sigmoid/ctd\n",
    "    no_cont_ctd = len(no_cont.intersection(genes_in_ctd))\n",
    "    #genes continuous/no_ctd\n",
    "    cont_no_ctd = len(cont) - cont_ctd\n",
    "    #genes sigmoid/no_ctd\n",
    "    no_cont_no_ctd = len(no_cont) - no_cont_ctd\n",
    "    #calculate contingency table\n",
    "    table=[[cont_ctd,cont_no_ctd],[no_cont_ctd,no_cont_no_ctd]]\n",
    "    stat = []\n",
    "    try:\n",
    "        stat = chi2_contingency(table)\n",
    "    except:\n",
    "        i = i + 1\n",
    "    if stat:\n",
    "        chemical_enrichment.loc[key,'chi2'] = stat[0]\n",
    "        chemical_enrichment.loc[key,'p-value'] = stat[1]\n",
    "        chemical_enrichment.loc[key,'table'] = [str(table)]\n",
    "print(f'{i} compound were discarded because the table of expected frequency contains zeroes')\n",
    "chemical_enrichment['q-value'] = fdrcorrection(chemical_enrichment['p-value'])[1]"
   ]
  },
  {
   "cell_type": "code",
   "execution_count": 29,
   "id": "circular-parker",
   "metadata": {},
   "outputs": [
    {
     "data": {
      "text/html": [
       "<div>\n",
       "<style scoped>\n",
       "    .dataframe tbody tr th:only-of-type {\n",
       "        vertical-align: middle;\n",
       "    }\n",
       "\n",
       "    .dataframe tbody tr th {\n",
       "        vertical-align: top;\n",
       "    }\n",
       "\n",
       "    .dataframe thead th {\n",
       "        text-align: right;\n",
       "    }\n",
       "</style>\n",
       "<table border=\"1\" class=\"dataframe\">\n",
       "  <thead>\n",
       "    <tr style=\"text-align: right;\">\n",
       "      <th></th>\n",
       "      <th>chi2</th>\n",
       "      <th>p-value</th>\n",
       "      <th>table</th>\n",
       "      <th>q-value</th>\n",
       "    </tr>\n",
       "  </thead>\n",
       "  <tbody>\n",
       "    <tr>\n",
       "      <th>1-Methyl-3-isobutylxanthine</th>\n",
       "      <td>31.531570</td>\n",
       "      <td>1.962240e-08</td>\n",
       "      <td>[[[113, 733], [253, 3219]]]</td>\n",
       "      <td>0.000019</td>\n",
       "    </tr>\n",
       "    <tr>\n",
       "      <th>3-((6-(2-methoxyphenyl)pyrimidin-4-yl)amino)phenyl)methane sulfonamide</th>\n",
       "      <td>17.934398</td>\n",
       "      <td>2.286510e-05</td>\n",
       "      <td>[[[40, 806], [72, 3400]]]</td>\n",
       "      <td>0.006359</td>\n",
       "    </tr>\n",
       "    <tr>\n",
       "      <th>3-iodothyronamine</th>\n",
       "      <td>11.719643</td>\n",
       "      <td>6.184380e-04</td>\n",
       "      <td>[[[4, 842], [0, 3472]]]</td>\n",
       "      <td>0.108928</td>\n",
       "    </tr>\n",
       "    <tr>\n",
       "      <th>7,8-Dihydro-7,8-dihydroxybenzo(a)pyrene 9,10-oxide</th>\n",
       "      <td>14.802636</td>\n",
       "      <td>1.193685e-04</td>\n",
       "      <td>[[[102, 744], [272, 3200]]]</td>\n",
       "      <td>0.026281</td>\n",
       "    </tr>\n",
       "    <tr>\n",
       "      <th>Acetaminophen</th>\n",
       "      <td>12.820968</td>\n",
       "      <td>3.427563e-04</td>\n",
       "      <td>[[[198, 648], [623, 2849]]]</td>\n",
       "      <td>0.062453</td>\n",
       "    </tr>\n",
       "    <tr>\n",
       "      <th>Antirheumatic Agents</th>\n",
       "      <td>20.550728</td>\n",
       "      <td>5.807169e-06</td>\n",
       "      <td>[[[142, 704], [383, 3089]]]</td>\n",
       "      <td>0.002192</td>\n",
       "    </tr>\n",
       "    <tr>\n",
       "      <th>Cadmium</th>\n",
       "      <td>27.191812</td>\n",
       "      <td>1.842373e-07</td>\n",
       "      <td>[[[134, 712], [332, 3140]]]</td>\n",
       "      <td>0.000108</td>\n",
       "    </tr>\n",
       "    <tr>\n",
       "      <th>Cadmium Chloride</th>\n",
       "      <td>18.796367</td>\n",
       "      <td>1.454439e-05</td>\n",
       "      <td>[[[131, 715], [353, 3119]]]</td>\n",
       "      <td>0.004521</td>\n",
       "    </tr>\n",
       "    <tr>\n",
       "      <th>Caffeine</th>\n",
       "      <td>17.196265</td>\n",
       "      <td>3.370984e-05</td>\n",
       "      <td>[[[92, 754], [230, 3242]]]</td>\n",
       "      <td>0.008482</td>\n",
       "    </tr>\n",
       "    <tr>\n",
       "      <th>Copper Sulfate</th>\n",
       "      <td>17.324998</td>\n",
       "      <td>3.150154e-05</td>\n",
       "      <td>[[[177, 669], [520, 2952]]]</td>\n",
       "      <td>0.008323</td>\n",
       "    </tr>\n",
       "    <tr>\n",
       "      <th>Cyclosporine</th>\n",
       "      <td>35.593363</td>\n",
       "      <td>2.431144e-09</td>\n",
       "      <td>[[[248, 598], [688, 2784]]]</td>\n",
       "      <td>0.000005</td>\n",
       "    </tr>\n",
       "    <tr>\n",
       "      <th>Cytarabine</th>\n",
       "      <td>10.971369</td>\n",
       "      <td>9.253038e-04</td>\n",
       "      <td>[[[31, 815], [61, 3411]]]</td>\n",
       "      <td>0.148161</td>\n",
       "    </tr>\n",
       "    <tr>\n",
       "      <th>Indomethacin</th>\n",
       "      <td>35.210993</td>\n",
       "      <td>2.958489e-09</td>\n",
       "      <td>[[[123, 723], [274, 3198]]]</td>\n",
       "      <td>0.000005</td>\n",
       "    </tr>\n",
       "    <tr>\n",
       "      <th>Ivermectin</th>\n",
       "      <td>13.575429</td>\n",
       "      <td>2.291656e-04</td>\n",
       "      <td>[[[104, 742], [284, 3188]]]</td>\n",
       "      <td>0.044849</td>\n",
       "    </tr>\n",
       "    <tr>\n",
       "      <th>Lactic Acid</th>\n",
       "      <td>24.328734</td>\n",
       "      <td>8.121843e-07</td>\n",
       "      <td>[[[109, 737], [261, 3211]]]</td>\n",
       "      <td>0.000390</td>\n",
       "    </tr>\n",
       "    <tr>\n",
       "      <th>Lead</th>\n",
       "      <td>14.635683</td>\n",
       "      <td>1.304216e-04</td>\n",
       "      <td>[[[83, 763], [210, 3262]]]</td>\n",
       "      <td>0.027566</td>\n",
       "    </tr>\n",
       "    <tr>\n",
       "      <th>Methapyrilene</th>\n",
       "      <td>31.089448</td>\n",
       "      <td>2.464073e-08</td>\n",
       "      <td>[[[110, 736], [245, 3227]]]</td>\n",
       "      <td>0.000019</td>\n",
       "    </tr>\n",
       "    <tr>\n",
       "      <th>Phenylmercuric Acetate</th>\n",
       "      <td>18.502784</td>\n",
       "      <td>1.696563e-05</td>\n",
       "      <td>[[[110, 736], [284, 3188]]]</td>\n",
       "      <td>0.004980</td>\n",
       "    </tr>\n",
       "    <tr>\n",
       "      <th>Plant Extracts</th>\n",
       "      <td>15.896110</td>\n",
       "      <td>6.691612e-05</td>\n",
       "      <td>[[[136, 710], [383, 3089]]]</td>\n",
       "      <td>0.015373</td>\n",
       "    </tr>\n",
       "    <tr>\n",
       "      <th>Quercetin</th>\n",
       "      <td>10.364689</td>\n",
       "      <td>1.284486e-03</td>\n",
       "      <td>[[[111, 735], [324, 3148]]]</td>\n",
       "      <td>0.188325</td>\n",
       "    </tr>\n",
       "    <tr>\n",
       "      <th>Silicon Dioxide</th>\n",
       "      <td>10.411430</td>\n",
       "      <td>1.252378e-03</td>\n",
       "      <td>[[[145, 701], [445, 3027]]]</td>\n",
       "      <td>0.188325</td>\n",
       "    </tr>\n",
       "    <tr>\n",
       "      <th>Smoke</th>\n",
       "      <td>24.120740</td>\n",
       "      <td>9.048053e-07</td>\n",
       "      <td>[[[216, 630], [625, 2847]]]</td>\n",
       "      <td>0.000398</td>\n",
       "    </tr>\n",
       "    <tr>\n",
       "      <th>Sunitinib</th>\n",
       "      <td>20.273971</td>\n",
       "      <td>6.710735e-06</td>\n",
       "      <td>[[[186, 660], [537, 2935]]]</td>\n",
       "      <td>0.002364</td>\n",
       "    </tr>\n",
       "    <tr>\n",
       "      <th>TAK-243</th>\n",
       "      <td>25.197260</td>\n",
       "      <td>5.175567e-07</td>\n",
       "      <td>[[[59, 787], [110, 3362]]]</td>\n",
       "      <td>0.000273</td>\n",
       "    </tr>\n",
       "    <tr>\n",
       "      <th>Urethane</th>\n",
       "      <td>15.993826</td>\n",
       "      <td>6.354940e-05</td>\n",
       "      <td>[[[137, 709], [386, 3086]]]</td>\n",
       "      <td>0.015263</td>\n",
       "    </tr>\n",
       "    <tr>\n",
       "      <th>Vitamin E</th>\n",
       "      <td>10.316166</td>\n",
       "      <td>1.318700e-03</td>\n",
       "      <td>[[[44, 802], [101, 3371]]]</td>\n",
       "      <td>0.188325</td>\n",
       "    </tr>\n",
       "    <tr>\n",
       "      <th>Vorinostat</th>\n",
       "      <td>13.933704</td>\n",
       "      <td>1.893723e-04</td>\n",
       "      <td>[[[88, 758], [229, 3243]]]</td>\n",
       "      <td>0.038486</td>\n",
       "    </tr>\n",
       "    <tr>\n",
       "      <th>abrine</th>\n",
       "      <td>39.514323</td>\n",
       "      <td>3.256621e-10</td>\n",
       "      <td>[[[232, 614], [617, 2855]]]</td>\n",
       "      <td>0.000002</td>\n",
       "    </tr>\n",
       "    <tr>\n",
       "      <th>aflatoxin B2</th>\n",
       "      <td>10.893358</td>\n",
       "      <td>9.650970e-04</td>\n",
       "      <td>[[[83, 763], [225, 3247]]]</td>\n",
       "      <td>0.149987</td>\n",
       "    </tr>\n",
       "    <tr>\n",
       "      <th>aristolochic acid I</th>\n",
       "      <td>19.439544</td>\n",
       "      <td>1.038347e-05</td>\n",
       "      <td>[[[216, 630], [649, 2823]]]</td>\n",
       "      <td>0.003429</td>\n",
       "    </tr>\n",
       "    <tr>\n",
       "      <th>belinostat</th>\n",
       "      <td>11.145966</td>\n",
       "      <td>8.421461e-04</td>\n",
       "      <td>[[[35, 811], [72, 3400]]]</td>\n",
       "      <td>0.139059</td>\n",
       "    </tr>\n",
       "    <tr>\n",
       "      <th>benzo(e)pyrene</th>\n",
       "      <td>31.844986</td>\n",
       "      <td>1.669801e-08</td>\n",
       "      <td>[[[108, 738], [237, 3235]]]</td>\n",
       "      <td>0.000019</td>\n",
       "    </tr>\n",
       "    <tr>\n",
       "      <th>bisphenol F</th>\n",
       "      <td>13.165305</td>\n",
       "      <td>2.851803e-04</td>\n",
       "      <td>[[[62, 784], [148, 3324]]]</td>\n",
       "      <td>0.053818</td>\n",
       "    </tr>\n",
       "    <tr>\n",
       "      <th>jinfukang</th>\n",
       "      <td>30.222656</td>\n",
       "      <td>3.851836e-08</td>\n",
       "      <td>[[[183, 663], [484, 2988]]]</td>\n",
       "      <td>0.000025</td>\n",
       "    </tr>\n",
       "    <tr>\n",
       "      <th>kojic acid</th>\n",
       "      <td>11.374545</td>\n",
       "      <td>7.445745e-04</td>\n",
       "      <td>[[[14, 832], [17, 3455]]]</td>\n",
       "      <td>0.126914</td>\n",
       "    </tr>\n",
       "    <tr>\n",
       "      <th>methylmercuric chloride</th>\n",
       "      <td>22.094787</td>\n",
       "      <td>2.595135e-06</td>\n",
       "      <td>[[[137, 709], [360, 3112]]]</td>\n",
       "      <td>0.001055</td>\n",
       "    </tr>\n",
       "    <tr>\n",
       "      <th>tris(1,3-dichloro-2-propyl)phosphate</th>\n",
       "      <td>31.119288</td>\n",
       "      <td>2.426483e-08</td>\n",
       "      <td>[[[130, 716], [307, 3165]]]</td>\n",
       "      <td>0.000019</td>\n",
       "    </tr>\n",
       "  </tbody>\n",
       "</table>\n",
       "</div>"
      ],
      "text/plain": [
       "                                                         chi2       p-value  \\\n",
       "1-Methyl-3-isobutylxanthine                         31.531570  1.962240e-08   \n",
       "3-((6-(2-methoxyphenyl)pyrimidin-4-yl)amino)phe...  17.934398  2.286510e-05   \n",
       "3-iodothyronamine                                   11.719643  6.184380e-04   \n",
       "7,8-Dihydro-7,8-dihydroxybenzo(a)pyrene 9,10-oxide  14.802636  1.193685e-04   \n",
       "Acetaminophen                                       12.820968  3.427563e-04   \n",
       "Antirheumatic Agents                                20.550728  5.807169e-06   \n",
       "Cadmium                                             27.191812  1.842373e-07   \n",
       "Cadmium Chloride                                    18.796367  1.454439e-05   \n",
       "Caffeine                                            17.196265  3.370984e-05   \n",
       "Copper Sulfate                                      17.324998  3.150154e-05   \n",
       "Cyclosporine                                        35.593363  2.431144e-09   \n",
       "Cytarabine                                          10.971369  9.253038e-04   \n",
       "Indomethacin                                        35.210993  2.958489e-09   \n",
       "Ivermectin                                          13.575429  2.291656e-04   \n",
       "Lactic Acid                                         24.328734  8.121843e-07   \n",
       "Lead                                                14.635683  1.304216e-04   \n",
       "Methapyrilene                                       31.089448  2.464073e-08   \n",
       "Phenylmercuric Acetate                              18.502784  1.696563e-05   \n",
       "Plant Extracts                                      15.896110  6.691612e-05   \n",
       "Quercetin                                           10.364689  1.284486e-03   \n",
       "Silicon Dioxide                                     10.411430  1.252378e-03   \n",
       "Smoke                                               24.120740  9.048053e-07   \n",
       "Sunitinib                                           20.273971  6.710735e-06   \n",
       "TAK-243                                             25.197260  5.175567e-07   \n",
       "Urethane                                            15.993826  6.354940e-05   \n",
       "Vitamin E                                           10.316166  1.318700e-03   \n",
       "Vorinostat                                          13.933704  1.893723e-04   \n",
       "abrine                                              39.514323  3.256621e-10   \n",
       "aflatoxin B2                                        10.893358  9.650970e-04   \n",
       "aristolochic acid I                                 19.439544  1.038347e-05   \n",
       "belinostat                                          11.145966  8.421461e-04   \n",
       "benzo(e)pyrene                                      31.844986  1.669801e-08   \n",
       "bisphenol F                                         13.165305  2.851803e-04   \n",
       "jinfukang                                           30.222656  3.851836e-08   \n",
       "kojic acid                                          11.374545  7.445745e-04   \n",
       "methylmercuric chloride                             22.094787  2.595135e-06   \n",
       "tris(1,3-dichloro-2-propyl)phosphate                31.119288  2.426483e-08   \n",
       "\n",
       "                                                                          table  \\\n",
       "1-Methyl-3-isobutylxanthine                         [[[113, 733], [253, 3219]]]   \n",
       "3-((6-(2-methoxyphenyl)pyrimidin-4-yl)amino)phe...    [[[40, 806], [72, 3400]]]   \n",
       "3-iodothyronamine                                       [[[4, 842], [0, 3472]]]   \n",
       "7,8-Dihydro-7,8-dihydroxybenzo(a)pyrene 9,10-oxide  [[[102, 744], [272, 3200]]]   \n",
       "Acetaminophen                                       [[[198, 648], [623, 2849]]]   \n",
       "Antirheumatic Agents                                [[[142, 704], [383, 3089]]]   \n",
       "Cadmium                                             [[[134, 712], [332, 3140]]]   \n",
       "Cadmium Chloride                                    [[[131, 715], [353, 3119]]]   \n",
       "Caffeine                                             [[[92, 754], [230, 3242]]]   \n",
       "Copper Sulfate                                      [[[177, 669], [520, 2952]]]   \n",
       "Cyclosporine                                        [[[248, 598], [688, 2784]]]   \n",
       "Cytarabine                                            [[[31, 815], [61, 3411]]]   \n",
       "Indomethacin                                        [[[123, 723], [274, 3198]]]   \n",
       "Ivermectin                                          [[[104, 742], [284, 3188]]]   \n",
       "Lactic Acid                                         [[[109, 737], [261, 3211]]]   \n",
       "Lead                                                 [[[83, 763], [210, 3262]]]   \n",
       "Methapyrilene                                       [[[110, 736], [245, 3227]]]   \n",
       "Phenylmercuric Acetate                              [[[110, 736], [284, 3188]]]   \n",
       "Plant Extracts                                      [[[136, 710], [383, 3089]]]   \n",
       "Quercetin                                           [[[111, 735], [324, 3148]]]   \n",
       "Silicon Dioxide                                     [[[145, 701], [445, 3027]]]   \n",
       "Smoke                                               [[[216, 630], [625, 2847]]]   \n",
       "Sunitinib                                           [[[186, 660], [537, 2935]]]   \n",
       "TAK-243                                              [[[59, 787], [110, 3362]]]   \n",
       "Urethane                                            [[[137, 709], [386, 3086]]]   \n",
       "Vitamin E                                            [[[44, 802], [101, 3371]]]   \n",
       "Vorinostat                                           [[[88, 758], [229, 3243]]]   \n",
       "abrine                                              [[[232, 614], [617, 2855]]]   \n",
       "aflatoxin B2                                         [[[83, 763], [225, 3247]]]   \n",
       "aristolochic acid I                                 [[[216, 630], [649, 2823]]]   \n",
       "belinostat                                            [[[35, 811], [72, 3400]]]   \n",
       "benzo(e)pyrene                                      [[[108, 738], [237, 3235]]]   \n",
       "bisphenol F                                          [[[62, 784], [148, 3324]]]   \n",
       "jinfukang                                           [[[183, 663], [484, 2988]]]   \n",
       "kojic acid                                            [[[14, 832], [17, 3455]]]   \n",
       "methylmercuric chloride                             [[[137, 709], [360, 3112]]]   \n",
       "tris(1,3-dichloro-2-propyl)phosphate                [[[130, 716], [307, 3165]]]   \n",
       "\n",
       "                                                     q-value  \n",
       "1-Methyl-3-isobutylxanthine                         0.000019  \n",
       "3-((6-(2-methoxyphenyl)pyrimidin-4-yl)amino)phe...  0.006359  \n",
       "3-iodothyronamine                                   0.108928  \n",
       "7,8-Dihydro-7,8-dihydroxybenzo(a)pyrene 9,10-oxide  0.026281  \n",
       "Acetaminophen                                       0.062453  \n",
       "Antirheumatic Agents                                0.002192  \n",
       "Cadmium                                             0.000108  \n",
       "Cadmium Chloride                                    0.004521  \n",
       "Caffeine                                            0.008482  \n",
       "Copper Sulfate                                      0.008323  \n",
       "Cyclosporine                                        0.000005  \n",
       "Cytarabine                                          0.148161  \n",
       "Indomethacin                                        0.000005  \n",
       "Ivermectin                                          0.044849  \n",
       "Lactic Acid                                         0.000390  \n",
       "Lead                                                0.027566  \n",
       "Methapyrilene                                       0.000019  \n",
       "Phenylmercuric Acetate                              0.004980  \n",
       "Plant Extracts                                      0.015373  \n",
       "Quercetin                                           0.188325  \n",
       "Silicon Dioxide                                     0.188325  \n",
       "Smoke                                               0.000398  \n",
       "Sunitinib                                           0.002364  \n",
       "TAK-243                                             0.000273  \n",
       "Urethane                                            0.015263  \n",
       "Vitamin E                                           0.188325  \n",
       "Vorinostat                                          0.038486  \n",
       "abrine                                              0.000002  \n",
       "aflatoxin B2                                        0.149987  \n",
       "aristolochic acid I                                 0.003429  \n",
       "belinostat                                          0.139059  \n",
       "benzo(e)pyrene                                      0.000019  \n",
       "bisphenol F                                         0.053818  \n",
       "jinfukang                                           0.000025  \n",
       "kojic acid                                          0.126914  \n",
       "methylmercuric chloride                             0.001055  \n",
       "tris(1,3-dichloro-2-propyl)phosphate                0.000019  "
      ]
     },
     "execution_count": 29,
     "metadata": {},
     "output_type": "execute_result"
    }
   ],
   "source": [
    "chemical_enrichment[chemical_enrichment['q-value']<=0.2]"
   ]
  },
  {
   "cell_type": "code",
   "execution_count": 30,
   "id": "conventional-praise",
   "metadata": {},
   "outputs": [],
   "source": [
    "# Testing if metabolites found to be associated with CRC are higer than expected by chance\n",
    "i=0\n",
    "j=0\n",
    "y=0\n",
    "z=0\n",
    "chemical_found = list(chemical_enrichment[chemical_enrichment['q-value']<=0.2].index)\n",
    "for x in chemical_found:\n",
    "    if x in list(ctd_data_colorectalneoplasm_ds['Chemical Name']):\n",
    "        i=i+1\n",
    "    else:\n",
    "        j=j+1\n",
    "for x in ctd_data['Chemical Name'].unique():\n",
    "    if x not in chemical_found:\n",
    "        if x in list(ctd_data_colorectalneoplasm_ds['Chemical Name'].unique()):\n",
    "            y=y+1\n",
    "        else:\n",
    "            z=z+1"
   ]
  },
  {
   "cell_type": "code",
   "execution_count": 31,
   "id": "looking-prompt",
   "metadata": {},
   "outputs": [
    {
     "data": {
      "text/plain": [
       "Chi2ContingencyResult(statistic=44.49552600214488, pvalue=2.549391367266909e-11, dof=1, expected_freq=array([[7.58956086e-01, 2.12241044e+02],\n",
       "       [3.62410439e+01, 1.01347590e+04]]))"
      ]
     },
     "execution_count": 31,
     "metadata": {},
     "output_type": "execute_result"
    }
   ],
   "source": [
    "chi2_contingency([[i,y],[j,z]])"
   ]
  },
  {
   "cell_type": "markdown",
   "id": "present-integration",
   "metadata": {},
   "source": [
    "# METHYLOME PROFILING"
   ]
  },
  {
   "cell_type": "code",
   "execution_count": 34,
   "id": "acquired-berkeley",
   "metadata": {},
   "outputs": [
    {
     "name": "stdout",
     "output_type": "stream",
     "text": [
      "Project has been created!\n"
     ]
    }
   ],
   "source": [
    "# Create workflow class, specifying the path to the SETTINGS.ini file\n",
    "pa_methylome = ProfileAnalysis('../../../../docker/analysis/methylome')"
   ]
  },
  {
   "cell_type": "markdown",
   "id": "amazing-soldier",
   "metadata": {},
   "source": [
    "## Assign each sample in clinical data file to a colon section"
   ]
  },
  {
   "cell_type": "code",
   "execution_count": 35,
   "id": "adopted-provision",
   "metadata": {},
   "outputs": [],
   "source": [
    "pa_methylome.create_samples_to_sections_table()"
   ]
  },
  {
   "cell_type": "markdown",
   "id": "complicated-smart",
   "metadata": {},
   "source": [
    "## Calculate median value for each colon section"
   ]
  },
  {
   "cell_type": "code",
   "execution_count": 36,
   "id": "boring-emphasis",
   "metadata": {},
   "outputs": [
    {
     "name": "stdout",
     "output_type": "stream",
     "text": [
      "This step has already been executed...loading results...\n",
      "This step has already been executed...loading results...\n"
     ]
    }
   ],
   "source": [
    "medians_meth, mad_meth = pa_methylome.median_by_section()"
   ]
  },
  {
   "cell_type": "code",
   "execution_count": 37,
   "id": "driven-launch",
   "metadata": {},
   "outputs": [],
   "source": [
    "# Exclude promoters outside +-1sd\n",
    "mean = np.median(medians_meth.median(axis=1))\n",
    "std = np.std(medians_meth.median(axis=1))\n",
    "hit = std + mean\n",
    "lowt = mean - std\n",
    "medians_meth = medians_meth.loc[(medians_meth.median(axis=1)<hit) & (medians_meth.median(axis=1)>lowt)]"
   ]
  },
  {
   "cell_type": "markdown",
   "id": "useful-resident",
   "metadata": {},
   "source": [
    "## SF 2A"
   ]
  },
  {
   "cell_type": "code",
   "execution_count": 39,
   "id": "suspected-experiment",
   "metadata": {},
   "outputs": [],
   "source": [
    "# Supplementary Figure 2A, left vs right methylation\n",
    "left = []\n",
    "right =  []\n",
    "for section in left_sections:\n",
    "    left=left+list(medians_meth[section])\n",
    "for section in right_sections:\n",
    "    right=right+list(medians_meth[section])\n",
    "# Wilcoxon test\n",
    "stat, p = ranksums(left, right, alternative='less')\n",
    "p = '{:.2e}'.format(p)\n",
    "plt.figure(figsize=(8,8))\n",
    "plt.boxplot([left, right], labels=['Left', 'Right'])\n",
    "plt.ylabel('Promoter methylation Level')\n",
    "plt.title(f'Wilcoxon rank-sum test,  p = {p}')\n",
    "plt.savefig('../../../../docker/analysis/methylome/figures/SF2A.svg')"
   ]
  },
  {
   "cell_type": "markdown",
   "id": "current-contents",
   "metadata": {},
   "source": [
    "## Fit Observables"
   ]
  },
  {
   "cell_type": "code",
   "execution_count": 40,
   "id": "expressed-option",
   "metadata": {},
   "outputs": [
    {
     "name": "stdout",
     "output_type": "stream",
     "text": [
      "This step has already been executed...loading results...\n",
      "This step has already been executed...loading results...\n",
      "This step has already been executed...loading results...\n",
      "This step has already been executed...loading results...\n"
     ]
    }
   ],
   "source": [
    "scores_meth, poly_obs_scores_meth, sig_obs_scores_meth, poly_models_meth, sig_models_meth = pa_methylome.fit_data(medians_meth, guess_bounds = True)"
   ]
  },
  {
   "cell_type": "markdown",
   "id": "banner-insured",
   "metadata": {},
   "source": [
    "## Fit Random permutated data"
   ]
  },
  {
   "cell_type": "code",
   "execution_count": 41,
   "id": "silent-performer",
   "metadata": {},
   "outputs": [
    {
     "name": "stdout",
     "output_type": "stream",
     "text": [
      "This step has already been executed...loading results...\n",
      "This step has already been executed...loading results...\n",
      "This step has already been executed...loading results...\n"
     ]
    }
   ],
   "source": [
    "poly_perm_scores_meth, sig_perm_scores_meth, sig_perm_models_meth=pa_methylome.fit_random_data(medians_meth, guess_bounds = True)"
   ]
  },
  {
   "cell_type": "code",
   "execution_count": 43,
   "id": "falling-probe",
   "metadata": {},
   "outputs": [
    {
     "name": "stderr",
     "output_type": "stream",
     "text": [
      "/home/ieo5417/Documenti/colon_paper/git/profiler/notebooks/paper_analysis/../../../../git/profiler/lib/profile_analysis_class.py:667: UserWarning: Matplotlib is currently using agg, which is a non-GUI backend, so cannot show the figure.\n",
      "  plt.show()\n",
      "/home/ieo5417/.local/lib/python3.8/site-packages/scipy/stats/_continuous_distns.py:709: RuntimeWarning: invalid value encountered in sqrt\n",
      "  sk = 2*(b-a)*np.sqrt(a + b + 1) / (a + b + 2) / np.sqrt(a*b)\n",
      "/home/ieo5417/Documenti/colon_paper/git/profiler/notebooks/paper_analysis/../../../../git/profiler/lib/profile_analysis_class.py:638: UserWarning: Matplotlib is currently using agg, which is a non-GUI backend, so cannot show the figure.\n",
      "  plt.show()\n",
      "/home/ieo5417/.local/lib/python3.8/site-packages/statsmodels/stats/multitest.py:327: RuntimeWarning: invalid value encountered in less_equal\n",
      "  reject = pvals_sorted <= ecdffactor*alpha\n",
      "/home/ieo5417/.local/lib/python3.8/site-packages/statsmodels/stats/multitest.py:333: RuntimeWarning: invalid value encountered in accumulate\n",
      "  pvals_corrected = np.minimum.accumulate(pvals_corrected_raw[::-1])[::-1]\n",
      "/home/ieo5417/.local/lib/python3.8/site-packages/statsmodels/stats/multitest.py:335: RuntimeWarning: invalid value encountered in greater\n",
      "  pvals_corrected[pvals_corrected>1] = 1\n",
      "/home/ieo5417/.local/lib/python3.8/site-packages/scipy/stats/_continuous_distns.py:709: RuntimeWarning: invalid value encountered in sqrt\n",
      "  sk = 2*(b-a)*np.sqrt(a + b + 1) / (a + b + 2) / np.sqrt(a*b)\n",
      "/home/ieo5417/Documenti/colon_paper/git/profiler/notebooks/paper_analysis/../../../../git/profiler/lib/profile_analysis_class.py:638: UserWarning: Matplotlib is currently using agg, which is a non-GUI backend, so cannot show the figure.\n",
      "  plt.show()\n",
      "/home/ieo5417/.local/lib/python3.8/site-packages/scipy/stats/_continuous_distns.py:709: RuntimeWarning: invalid value encountered in sqrt\n",
      "  sk = 2*(b-a)*np.sqrt(a + b + 1) / (a + b + 2) / np.sqrt(a*b)\n",
      "/home/ieo5417/Documenti/colon_paper/git/profiler/notebooks/paper_analysis/../../../../git/profiler/lib/profile_analysis_class.py:638: UserWarning: Matplotlib is currently using agg, which is a non-GUI backend, so cannot show the figure.\n",
      "  plt.show()\n",
      "/home/ieo5417/Documenti/colon_paper/git/profiler/notebooks/paper_analysis/../../../../git/profiler/lib/profile_analysis_class.py:638: UserWarning: Matplotlib is currently using agg, which is a non-GUI backend, so cannot show the figure.\n",
      "  plt.show()\n"
     ]
    }
   ],
   "source": [
    "models_pvalue_meth, scores_table=pa_methylome.plot_gof(poly_obs_scores_meth, sig_obs_scores_meth, poly_perm_scores_meth, sig_perm_scores_meth, dist_perm=True)"
   ]
  },
  {
   "cell_type": "code",
   "execution_count": 44,
   "id": "rational-penalty",
   "metadata": {},
   "outputs": [],
   "source": [
    "poly_obs_scores_meth = pa_methylome.select_significant_models(models_pvalue_meth, poly_obs_scores_meth)"
   ]
  },
  {
   "cell_type": "code",
   "execution_count": 45,
   "id": "about-happening",
   "metadata": {},
   "outputs": [],
   "source": [
    "backgrounds_meth = pa_methylome.assemble_backgrounds(poly_obs_scores_meth, sig_perm_scores_meth, poly_perm_scores_meth)"
   ]
  },
  {
   "cell_type": "markdown",
   "id": "canadian-drunk",
   "metadata": {},
   "source": [
    "## Compare obrservable vs permutated data"
   ]
  },
  {
   "cell_type": "code",
   "execution_count": 46,
   "id": "classified-native",
   "metadata": {},
   "outputs": [],
   "source": [
    "p_value_tables_meth = pa_methylome.get_p_values(poly_obs_scores_meth, backgrounds_meth)"
   ]
  },
  {
   "cell_type": "code",
   "execution_count": 47,
   "id": "opening-briefs",
   "metadata": {},
   "outputs": [
    {
     "name": "stderr",
     "output_type": "stream",
     "text": [
      "/home/ieo5417/.local/lib/python3.8/site-packages/statsmodels/stats/multitest.py:327: RuntimeWarning: invalid value encountered in less_equal\n",
      "  reject = pvals_sorted <= ecdffactor*alpha\n",
      "/home/ieo5417/.local/lib/python3.8/site-packages/statsmodels/stats/multitest.py:333: RuntimeWarning: invalid value encountered in accumulate\n",
      "  pvals_corrected = np.minimum.accumulate(pvals_corrected_raw[::-1])[::-1]\n",
      "/home/ieo5417/.local/lib/python3.8/site-packages/statsmodels/stats/multitest.py:335: RuntimeWarning: invalid value encountered in greater\n",
      "  pvals_corrected[pvals_corrected>1] = 1\n"
     ]
    }
   ],
   "source": [
    "q_value_tables_meth = pa_methylome.get_q_values(p_value_tables_meth, poly_obs_scores_meth)"
   ]
  },
  {
   "cell_type": "code",
   "execution_count": 48,
   "id": "thick-broad",
   "metadata": {},
   "outputs": [
    {
     "data": {
      "text/plain": [
       "{'sigmoidal': [15250937423.0, 0.0, 0.6784454193687428],\n",
       " 1: [22609570691.0, 0.0, 0.46323705510079105],\n",
       " 2: [20668229333.0, 0.0, 0.6815298157198942],\n",
       " 3: [18178819894.0, 0.0, 0.8271700644183259]}"
      ]
     },
     "execution_count": 48,
     "metadata": {},
     "output_type": "execute_result"
    }
   ],
   "source": [
    "models_pvalue_meth"
   ]
  },
  {
   "cell_type": "code",
   "execution_count": 49,
   "id": "right-union",
   "metadata": {},
   "outputs": [],
   "source": [
    "backgrounds_meth_str = {}\n",
    "for key in backgrounds_meth.keys():\n",
    "    backgrounds_meth_str[str(key)] = backgrounds_meth[key]"
   ]
  },
  {
   "cell_type": "code",
   "execution_count": 50,
   "id": "environmental-tulsa",
   "metadata": {},
   "outputs": [],
   "source": [
    "backgrounds_all_scores_dist = {}\n",
    "for key in backgrounds_meth:\n",
    "    temp = []\n",
    "    for column in backgrounds_meth[key]:\n",
    "        temp = temp + list(backgrounds_meth[key][column])\n",
    "    backgrounds_all_scores_dist[str(key)] = temp"
   ]
  },
  {
   "cell_type": "code",
   "execution_count": 51,
   "id": "radio-design",
   "metadata": {},
   "outputs": [
    {
     "name": "stderr",
     "output_type": "stream",
     "text": [
      "/home/ieo5417/Documenti/colon_paper/git/profiler/notebooks/paper_analysis/../../../../git/profiler/lib/profile_analysis_class.py:782: SettingWithCopyWarning: \n",
      "A value is trying to be set on a copy of a slice from a DataFrame\n",
      "\n",
      "See the caveats in the documentation: https://pandas.pydata.org/pandas-docs/stable/user_guide/indexing.html#returning-a-view-versus-a-copy\n",
      "  to_evaluate.dropna(subset=polynomial_columns, how='all', inplace=True)\n",
      "/home/ieo5417/Documenti/colon_paper/git/profiler/notebooks/paper_analysis/../../../../git/profiler/lib/profile_analysis_class.py:791: SettingWithCopyWarning: \n",
      "A value is trying to be set on a copy of a slice from a DataFrame.\n",
      "Try using .loc[row_indexer,col_indexer] = value instead\n",
      "\n",
      "See the caveats in the documentation: https://pandas.pydata.org/pandas-docs/stable/user_guide/indexing.html#returning-a-view-versus-a-copy\n",
      "  to_evaluate['continuous'] = only_continuous.iloc[:,0]\n"
     ]
    }
   ],
   "source": [
    "classification_meth = pa_methylome.classify_genes(poly_obs_scores_meth, q_value_tables_meth, 0.2, 0.1)"
   ]
  },
  {
   "cell_type": "code",
   "execution_count": 52,
   "id": "committed-shift",
   "metadata": {},
   "outputs": [
    {
     "name": "stdout",
     "output_type": "stream",
     "text": [
      "sigmoid\n",
      "1435\n",
      "discarded\n",
      "120\n",
      "continuous\n",
      "7976\n"
     ]
    }
   ],
   "source": [
    "for key in classification_meth:\n",
    "    print(key)\n",
    "    print(len(classification_meth[key]))"
   ]
  },
  {
   "cell_type": "code",
   "execution_count": 53,
   "id": "union-forwarding",
   "metadata": {},
   "outputs": [],
   "source": [
    "pd.DataFrame(dict([ (k,pd.Series(v)) for k,v in classification_meth.items() ])).to_csv(f'{pa_methylome.output}/classification_meth.csv')"
   ]
  },
  {
   "cell_type": "markdown",
   "id": "sapphire-mattress",
   "metadata": {},
   "source": [
    "## Cluster genes"
   ]
  },
  {
   "cell_type": "markdown",
   "id": "afraid-effects",
   "metadata": {},
   "source": [
    "## SF 1B"
   ]
  },
  {
   "cell_type": "code",
   "execution_count": 54,
   "id": "outside-degree",
   "metadata": {},
   "outputs": [],
   "source": [
    "gene_list_meth, section_l_meth = pa_methylome.strict_sig_list(classification_meth['sigmoid'], sig_models_meth, plot_dist = True)"
   ]
  },
  {
   "cell_type": "markdown",
   "id": "collected-multimedia",
   "metadata": {},
   "source": [
    "# Overlap with methyldriver"
   ]
  },
  {
   "cell_type": "code",
   "execution_count": 55,
   "id": "warming-spread",
   "metadata": {},
   "outputs": [],
   "source": [
    "all_r_genes=pd.read_csv('../../../../docker/analysis/methyldriver/methyldriver_all_genes.csv')\n",
    "all_r_genes.set_index('genes', inplace=True)\n",
    "for index, row in medians_meth.iterrows():\n",
    "    medians_meth.loc[index, 'gene'] = index.split('_')[0]\n",
    "medians_meth.set_index('gene', inplace=True)"
   ]
  },
  {
   "cell_type": "code",
   "execution_count": 56,
   "id": "designed-omaha",
   "metadata": {},
   "outputs": [],
   "source": [
    "total_genes = all_r_genes.index.intersection(medians_meth.index)"
   ]
  },
  {
   "cell_type": "code",
   "execution_count": 57,
   "id": "offshore-handle",
   "metadata": {},
   "outputs": [],
   "source": [
    "diff_methylated = pd.read_csv('../../../../docker/analysis/methyldriver/COAD_hyper_hypo_methylated_genes.csv')\n",
    "diff_methylated.set_index('gene_symbol', inplace=True)\n",
    "diff_methylated = diff_methylated.index.intersection(total_genes)"
   ]
  },
  {
   "cell_type": "code",
   "execution_count": 58,
   "id": "buried-command",
   "metadata": {},
   "outputs": [
    {
     "data": {
      "text/plain": [
       "Index(['FAM200A', 'ZNF655', 'MLH1', 'ITPKB', 'ZNF345', 'HSPA1A', 'CCT6B',\n",
       "       'QKI', 'HSPA1L', 'ADHFE1',\n",
       "       ...\n",
       "       'PTMA', 'OSGIN2', 'IMMT', 'COG5', 'KLRG1', 'BEST3', 'DLD', 'LARP4',\n",
       "       'NFYA', 'MMAB'],\n",
       "      dtype='object', length=418)"
      ]
     },
     "execution_count": 58,
     "metadata": {},
     "output_type": "execute_result"
    }
   ],
   "source": [
    "diff_methylated"
   ]
  },
  {
   "cell_type": "code",
   "execution_count": 59,
   "id": "quantitative-investing",
   "metadata": {},
   "outputs": [
    {
     "data": {
      "text/plain": [
       "7158"
      ]
     },
     "execution_count": 59,
     "metadata": {},
     "output_type": "execute_result"
    }
   ],
   "source": [
    "trend = list(set([i.split('_')[0] for i in classification_meth['continuous']]))\n",
    "trend = trend +list(set([i.split('_')[0] for i in classification_meth['sigmoid']]))\n",
    "trend = set(trend)\n",
    "trend = trend.intersection(total_genes)\n",
    "len(trend)"
   ]
  },
  {
   "cell_type": "code",
   "execution_count": 60,
   "id": "answering-transition",
   "metadata": {},
   "outputs": [
    {
     "data": {
      "text/plain": [
       "4556"
      ]
     },
     "execution_count": 60,
     "metadata": {},
     "output_type": "execute_result"
    }
   ],
   "source": [
    "no_trend = [gene for gene in total_genes if gene not in trend]\n",
    "len(no_trend)"
   ]
  },
  {
   "cell_type": "code",
   "execution_count": 61,
   "id": "purple-defeat",
   "metadata": {},
   "outputs": [
    {
     "data": {
      "text/plain": [
       "11296"
      ]
     },
     "execution_count": 61,
     "metadata": {},
     "output_type": "execute_result"
    }
   ],
   "source": [
    "no_hypo = [gene for gene in total_genes if gene not in diff_methylated]\n",
    "len(no_hypo)"
   ]
  },
  {
   "cell_type": "code",
   "execution_count": 62,
   "id": "african-future",
   "metadata": {},
   "outputs": [
    {
     "data": {
      "text/plain": [
       "292"
      ]
     },
     "execution_count": 62,
     "metadata": {},
     "output_type": "execute_result"
    }
   ],
   "source": [
    "t_h = trend.intersection(diff_methylated)\n",
    "len(t_h)"
   ]
  },
  {
   "cell_type": "code",
   "execution_count": 63,
   "id": "neither-government",
   "metadata": {},
   "outputs": [
    {
     "data": {
      "text/plain": [
       "126"
      ]
     },
     "execution_count": 63,
     "metadata": {},
     "output_type": "execute_result"
    }
   ],
   "source": [
    "nt_h = set(no_trend).intersection(diff_methylated)\n",
    "len(nt_h)"
   ]
  },
  {
   "cell_type": "code",
   "execution_count": 64,
   "id": "upper-folder",
   "metadata": {},
   "outputs": [
    {
     "data": {
      "text/plain": [
       "6866"
      ]
     },
     "execution_count": 64,
     "metadata": {},
     "output_type": "execute_result"
    }
   ],
   "source": [
    "t_nh = trend.intersection(no_hypo)\n",
    "len(t_nh)"
   ]
  },
  {
   "cell_type": "code",
   "execution_count": 65,
   "id": "colonial-lindsay",
   "metadata": {},
   "outputs": [
    {
     "data": {
      "text/plain": [
       "4430"
      ]
     },
     "execution_count": 65,
     "metadata": {},
     "output_type": "execute_result"
    }
   ],
   "source": [
    "nt_nh = set(no_trend).intersection(no_hypo)\n",
    "len(nt_nh)"
   ]
  },
  {
   "cell_type": "code",
   "execution_count": 66,
   "id": "confident-break",
   "metadata": {},
   "outputs": [
    {
     "data": {
      "text/plain": [
       "0.000184969651841633"
      ]
     },
     "execution_count": 66,
     "metadata": {},
     "output_type": "execute_result"
    }
   ],
   "source": [
    "import numpy as np\n",
    "table = np.array([[len(t_h), len(nt_h)],[len(t_nh), len(nt_nh)]])\n",
    "oddsr, p = fisher_exact(table, alternative='two-sided')\n",
    "p"
   ]
  },
  {
   "cell_type": "markdown",
   "id": "sorted-single",
   "metadata": {},
   "source": [
    "# MUTATIONS PROFILING"
   ]
  },
  {
   "cell_type": "code",
   "execution_count": 67,
   "id": "objective-integral",
   "metadata": {},
   "outputs": [
    {
     "name": "stdout",
     "output_type": "stream",
     "text": [
      "Project has been created!\n"
     ]
    },
    {
     "name": "stderr",
     "output_type": "stream",
     "text": [
      "/home/ieo5417/Documenti/colon_paper/git/profiler/notebooks/paper_analysis/../../../../git/profiler/lib/profile_analysis_class.py:154: UserWarning: Folder input_data already exist...skipping\n",
      "  warnings.warn(\"Folder input_data already exist...skipping\",\n",
      "/home/ieo5417/Documenti/colon_paper/git/profiler/notebooks/paper_analysis/../../../../git/profiler/lib/profile_analysis_class.py:160: UserWarning: Folder data_raw already exist...skipping\n",
      "  warnings.warn(\"Folder data_raw already exist...skipping\",\n",
      "/home/ieo5417/Documenti/colon_paper/git/profiler/notebooks/paper_analysis/../../../../git/profiler/lib/profile_analysis_class.py:166: UserWarning: Folder data_clinical already exist...skipping\n",
      "  warnings.warn(\"Folder data_clinical already exist...skipping\",\n",
      "/home/ieo5417/Documenti/colon_paper/git/profiler/notebooks/paper_analysis/../../../../git/profiler/lib/profile_analysis_class.py:172: UserWarning: Folder sample_by_section already exist...skipping\n",
      "  warnings.warn(\"Folder sample_by_section already exist...skipping\",\n",
      "/home/ieo5417/Documenti/colon_paper/git/profiler/notebooks/paper_analysis/../../../../git/profiler/lib/profile_analysis_class.py:178: UserWarning: Folder data_fitting already exist...skipping\n",
      "  warnings.warn(\"Folder data_fitting already exist...skipping\",\n",
      "/home/ieo5417/Documenti/colon_paper/git/profiler/notebooks/paper_analysis/../../../../git/profiler/lib/profile_analysis_class.py:184: UserWarning: Folder rnd_data_fitting already exist...skipping\n",
      "  warnings.warn(\"Folder rnd_data_fitting already exist...skipping\",\n",
      "/home/ieo5417/Documenti/colon_paper/git/profiler/notebooks/paper_analysis/../../../../git/profiler/lib/profile_analysis_class.py:190: UserWarning: Folder figures already exist...skipping\n",
      "  warnings.warn(\"Folder figures already exist...skipping\",\n",
      "/home/ieo5417/Documenti/colon_paper/git/profiler/notebooks/paper_analysis/../../../../git/profiler/lib/profile_analysis_class.py:196: UserWarning: Folder output already exist...skipping\n",
      "  warnings.warn(\"Folder output already exist...skipping\",\n"
     ]
    }
   ],
   "source": [
    "# Create workflow class, specifying the path to the SETTINGS.ini file\n",
    "pa_mutations = ProfileAnalysis('../../../../docker/analysis/mutations')"
   ]
  },
  {
   "cell_type": "markdown",
   "id": "compressed-spiritual",
   "metadata": {},
   "source": [
    "## Calculate median value for each colon section"
   ]
  },
  {
   "cell_type": "code",
   "execution_count": 68,
   "id": "textile-placement",
   "metadata": {},
   "outputs": [
    {
     "name": "stdout",
     "output_type": "stream",
     "text": [
      "This step has already been executed...loading results...\n",
      "This step has already been executed...loading results...\n"
     ]
    }
   ],
   "source": [
    "medians_mut, mad_mut = pa_mutations.median_by_section()"
   ]
  },
  {
   "cell_type": "code",
   "execution_count": 69,
   "id": "stylish-vegetation",
   "metadata": {},
   "outputs": [
    {
     "data": {
      "text/html": [
       "<div>\n",
       "<style scoped>\n",
       "    .dataframe tbody tr th:only-of-type {\n",
       "        vertical-align: middle;\n",
       "    }\n",
       "\n",
       "    .dataframe tbody tr th {\n",
       "        vertical-align: top;\n",
       "    }\n",
       "\n",
       "    .dataframe thead th {\n",
       "        text-align: right;\n",
       "    }\n",
       "</style>\n",
       "<table border=\"1\" class=\"dataframe\">\n",
       "  <thead>\n",
       "    <tr style=\"text-align: right;\">\n",
       "      <th></th>\n",
       "      <th>Cecum</th>\n",
       "      <th>Ascending_Colon</th>\n",
       "      <th>Hepatic_Flexure</th>\n",
       "      <th>Transverse_Colon</th>\n",
       "      <th>Descending_Colon</th>\n",
       "      <th>Sigmoid_Colon</th>\n",
       "      <th>Rectosigmoid_Junction</th>\n",
       "      <th>Rectum</th>\n",
       "    </tr>\n",
       "    <tr>\n",
       "      <th>ensmbl_id</th>\n",
       "      <th></th>\n",
       "      <th></th>\n",
       "      <th></th>\n",
       "      <th></th>\n",
       "      <th></th>\n",
       "      <th></th>\n",
       "      <th></th>\n",
       "      <th></th>\n",
       "    </tr>\n",
       "  </thead>\n",
       "  <tbody>\n",
       "    <tr>\n",
       "      <th>A2M</th>\n",
       "      <td>6.024096</td>\n",
       "      <td>8.000000</td>\n",
       "      <td>5.555556</td>\n",
       "      <td>12.903226</td>\n",
       "      <td>11.111111</td>\n",
       "      <td>2.752294</td>\n",
       "      <td>6.976744</td>\n",
       "      <td>6.849315</td>\n",
       "    </tr>\n",
       "    <tr>\n",
       "      <th>AASS</th>\n",
       "      <td>7.228916</td>\n",
       "      <td>4.000000</td>\n",
       "      <td>11.111111</td>\n",
       "      <td>6.451613</td>\n",
       "      <td>11.111111</td>\n",
       "      <td>0.917431</td>\n",
       "      <td>2.325581</td>\n",
       "      <td>6.849315</td>\n",
       "    </tr>\n",
       "    <tr>\n",
       "      <th>ABCA3</th>\n",
       "      <td>12.048193</td>\n",
       "      <td>14.666667</td>\n",
       "      <td>11.111111</td>\n",
       "      <td>9.677419</td>\n",
       "      <td>5.555556</td>\n",
       "      <td>0.917431</td>\n",
       "      <td>2.325581</td>\n",
       "      <td>4.109589</td>\n",
       "    </tr>\n",
       "    <tr>\n",
       "      <th>ABCA4</th>\n",
       "      <td>10.843373</td>\n",
       "      <td>8.000000</td>\n",
       "      <td>22.222222</td>\n",
       "      <td>12.903226</td>\n",
       "      <td>5.555556</td>\n",
       "      <td>7.339450</td>\n",
       "      <td>2.325581</td>\n",
       "      <td>5.479452</td>\n",
       "    </tr>\n",
       "    <tr>\n",
       "      <th>ABCB5</th>\n",
       "      <td>4.819277</td>\n",
       "      <td>6.666667</td>\n",
       "      <td>5.555556</td>\n",
       "      <td>16.129032</td>\n",
       "      <td>5.555556</td>\n",
       "      <td>2.752294</td>\n",
       "      <td>6.976744</td>\n",
       "      <td>6.849315</td>\n",
       "    </tr>\n",
       "    <tr>\n",
       "      <th>...</th>\n",
       "      <td>...</td>\n",
       "      <td>...</td>\n",
       "      <td>...</td>\n",
       "      <td>...</td>\n",
       "      <td>...</td>\n",
       "      <td>...</td>\n",
       "      <td>...</td>\n",
       "      <td>...</td>\n",
       "    </tr>\n",
       "    <tr>\n",
       "      <th>ZNF646</th>\n",
       "      <td>13.253012</td>\n",
       "      <td>9.333333</td>\n",
       "      <td>16.666667</td>\n",
       "      <td>6.451613</td>\n",
       "      <td>5.555556</td>\n",
       "      <td>6.422018</td>\n",
       "      <td>2.325581</td>\n",
       "      <td>6.849315</td>\n",
       "    </tr>\n",
       "    <tr>\n",
       "      <th>ZNF687</th>\n",
       "      <td>4.819277</td>\n",
       "      <td>4.000000</td>\n",
       "      <td>11.111111</td>\n",
       "      <td>12.903226</td>\n",
       "      <td>5.555556</td>\n",
       "      <td>1.834862</td>\n",
       "      <td>2.325581</td>\n",
       "      <td>4.109589</td>\n",
       "    </tr>\n",
       "    <tr>\n",
       "      <th>ZNF804A</th>\n",
       "      <td>7.228916</td>\n",
       "      <td>10.666667</td>\n",
       "      <td>22.222222</td>\n",
       "      <td>12.903226</td>\n",
       "      <td>5.555556</td>\n",
       "      <td>5.504587</td>\n",
       "      <td>2.325581</td>\n",
       "      <td>6.849315</td>\n",
       "    </tr>\n",
       "    <tr>\n",
       "      <th>ZNF804B</th>\n",
       "      <td>9.638554</td>\n",
       "      <td>4.000000</td>\n",
       "      <td>11.111111</td>\n",
       "      <td>16.129032</td>\n",
       "      <td>11.111111</td>\n",
       "      <td>5.504587</td>\n",
       "      <td>4.651163</td>\n",
       "      <td>16.438356</td>\n",
       "    </tr>\n",
       "    <tr>\n",
       "      <th>ZNF831</th>\n",
       "      <td>9.638554</td>\n",
       "      <td>10.666667</td>\n",
       "      <td>11.111111</td>\n",
       "      <td>12.903226</td>\n",
       "      <td>5.555556</td>\n",
       "      <td>4.587156</td>\n",
       "      <td>2.325581</td>\n",
       "      <td>5.479452</td>\n",
       "    </tr>\n",
       "  </tbody>\n",
       "</table>\n",
       "<p>294 rows × 8 columns</p>\n",
       "</div>"
      ],
      "text/plain": [
       "               Cecum  Ascending_Colon  Hepatic_Flexure  Transverse_Colon  \\\n",
       "ensmbl_id                                                                  \n",
       "A2M         6.024096         8.000000         5.555556         12.903226   \n",
       "AASS        7.228916         4.000000        11.111111          6.451613   \n",
       "ABCA3      12.048193        14.666667        11.111111          9.677419   \n",
       "ABCA4      10.843373         8.000000        22.222222         12.903226   \n",
       "ABCB5       4.819277         6.666667         5.555556         16.129032   \n",
       "...              ...              ...              ...               ...   \n",
       "ZNF646     13.253012         9.333333        16.666667          6.451613   \n",
       "ZNF687      4.819277         4.000000        11.111111         12.903226   \n",
       "ZNF804A     7.228916        10.666667        22.222222         12.903226   \n",
       "ZNF804B     9.638554         4.000000        11.111111         16.129032   \n",
       "ZNF831      9.638554        10.666667        11.111111         12.903226   \n",
       "\n",
       "           Descending_Colon  Sigmoid_Colon  Rectosigmoid_Junction     Rectum  \n",
       "ensmbl_id                                                                     \n",
       "A2M               11.111111       2.752294               6.976744   6.849315  \n",
       "AASS              11.111111       0.917431               2.325581   6.849315  \n",
       "ABCA3              5.555556       0.917431               2.325581   4.109589  \n",
       "ABCA4              5.555556       7.339450               2.325581   5.479452  \n",
       "ABCB5              5.555556       2.752294               6.976744   6.849315  \n",
       "...                     ...            ...                    ...        ...  \n",
       "ZNF646             5.555556       6.422018               2.325581   6.849315  \n",
       "ZNF687             5.555556       1.834862               2.325581   4.109589  \n",
       "ZNF804A            5.555556       5.504587               2.325581   6.849315  \n",
       "ZNF804B           11.111111       5.504587               4.651163  16.438356  \n",
       "ZNF831             5.555556       4.587156               2.325581   5.479452  \n",
       "\n",
       "[294 rows x 8 columns]"
      ]
     },
     "execution_count": 69,
     "metadata": {},
     "output_type": "execute_result"
    }
   ],
   "source": [
    "medians_mut.loc[medians_mut.isin([0]).sum(axis=1)<1]"
   ]
  },
  {
   "cell_type": "code",
   "execution_count": 70,
   "id": "square-tennessee",
   "metadata": {},
   "outputs": [],
   "source": [
    "medians_mut.columns = ['Cecum', 'Ascending colon', 'Hepatic flexure of colon', 'Transverse colon', 'Descending colon', 'Sigmoid colon', 'Rectosigmoid junction', 'Rectum, NOS']"
   ]
  },
  {
   "cell_type": "markdown",
   "id": "superior-wages",
   "metadata": {},
   "source": [
    "# SF 2B"
   ]
  },
  {
   "cell_type": "code",
   "execution_count": 71,
   "id": "animated-bosnia",
   "metadata": {},
   "outputs": [],
   "source": [
    "left = []\n",
    "right =  []\n",
    "for section in left_sections:\n",
    "    left=left+list(medians_mut[section])\n",
    "for section in right_sections:\n",
    "    right=right+list(medians_mut[section])\n",
    "# Wilcoxon test\n",
    "stat, p = stats.ranksums(left, right, alternative='less')\n",
    "p = '{:.2e}'.format(p)\n",
    "plt.figure(figsize=(8,8))\n",
    "plt.boxplot([left, right], labels=['Left', 'Right'])\n",
    "plt.ylabel('Mutation prevalence')\n",
    "plt.title(f'Wilcoxon rank-sum test,  p = {p}')\n",
    "plt.savefig('../../../../docker/analysis/mutations/figures/SF2B.svg')"
   ]
  },
  {
   "cell_type": "markdown",
   "id": "compound-organ",
   "metadata": {},
   "source": [
    "## Fit Observables"
   ]
  },
  {
   "cell_type": "code",
   "execution_count": 72,
   "id": "literary-silver",
   "metadata": {},
   "outputs": [
    {
     "name": "stdout",
     "output_type": "stream",
     "text": [
      "This step has already been executed...loading results...\n",
      "This step has already been executed...loading results...\n",
      "This step has already been executed...loading results...\n",
      "This step has already been executed...loading results...\n"
     ]
    }
   ],
   "source": [
    "scores_mut, poly_obs_scores_mut, sig_obs_scores_mut, poly_models_mut, sig_models_mut = pa_mutations.fit_data(medians_mut, guess_bounds = True)"
   ]
  },
  {
   "cell_type": "markdown",
   "id": "dated-survey",
   "metadata": {},
   "source": [
    "## Fit Random permutated data"
   ]
  },
  {
   "cell_type": "code",
   "execution_count": 73,
   "id": "short-frederick",
   "metadata": {},
   "outputs": [
    {
     "name": "stdout",
     "output_type": "stream",
     "text": [
      "This step has already been executed...loading results...\n",
      "This step has already been executed...loading results...\n",
      "This step has already been executed...loading results...\n"
     ]
    }
   ],
   "source": [
    "poly_perm_scores_mut, sig_perm_scores_mut, sig_perm_models_mut=pa_mutations.fit_random_data(medians_mut, guess_bounds = True)"
   ]
  },
  {
   "cell_type": "markdown",
   "id": "hourly-queens",
   "metadata": {},
   "source": [
    "## Compare obrservable vs permutated data"
   ]
  },
  {
   "cell_type": "code",
   "execution_count": 74,
   "id": "distributed-boxing",
   "metadata": {},
   "outputs": [
    {
     "name": "stderr",
     "output_type": "stream",
     "text": [
      "/home/ieo5417/Documenti/colon_paper/git/profiler/notebooks/paper_analysis/../../../../git/profiler/lib/profile_analysis_class.py:667: UserWarning: Matplotlib is currently using agg, which is a non-GUI backend, so cannot show the figure.\n",
      "  plt.show()\n",
      "/home/ieo5417/Documenti/colon_paper/git/profiler/notebooks/paper_analysis/../../../../git/profiler/lib/profile_analysis_class.py:638: UserWarning: Matplotlib is currently using agg, which is a non-GUI backend, so cannot show the figure.\n",
      "  plt.show()\n",
      "/home/ieo5417/.local/lib/python3.8/site-packages/scipy/stats/_continuous_distns.py:709: RuntimeWarning: invalid value encountered in sqrt\n",
      "  sk = 2*(b-a)*np.sqrt(a + b + 1) / (a + b + 2) / np.sqrt(a*b)\n",
      "/home/ieo5417/Documenti/colon_paper/git/profiler/notebooks/paper_analysis/../../../../git/profiler/lib/profile_analysis_class.py:638: UserWarning: Matplotlib is currently using agg, which is a non-GUI backend, so cannot show the figure.\n",
      "  plt.show()\n",
      "/home/ieo5417/.local/lib/python3.8/site-packages/scipy/stats/_continuous_distns.py:709: RuntimeWarning: invalid value encountered in sqrt\n",
      "  sk = 2*(b-a)*np.sqrt(a + b + 1) / (a + b + 2) / np.sqrt(a*b)\n",
      "/home/ieo5417/Documenti/colon_paper/git/profiler/notebooks/paper_analysis/../../../../git/profiler/lib/profile_analysis_class.py:605: RuntimeWarning: More than 20 figures have been opened. Figures created through the pyplot interface (`matplotlib.pyplot.figure`) are retained until explicitly closed and may consume too much memory. (To control this warning, see the rcParam `figure.max_open_warning`). Consider using `matplotlib.pyplot.close()`.\n",
      "  plt.figure(figsize=(10, 10))\n",
      "/home/ieo5417/Documenti/colon_paper/git/profiler/notebooks/paper_analysis/../../../../git/profiler/lib/profile_analysis_class.py:638: UserWarning: Matplotlib is currently using agg, which is a non-GUI backend, so cannot show the figure.\n",
      "  plt.show()\n",
      "/home/ieo5417/Documenti/colon_paper/git/profiler/notebooks/paper_analysis/../../../../git/profiler/lib/profile_analysis_class.py:638: UserWarning: Matplotlib is currently using agg, which is a non-GUI backend, so cannot show the figure.\n",
      "  plt.show()\n"
     ]
    }
   ],
   "source": [
    "models_pvalue_mut, scores_table=pa_mutations.plot_gof(poly_obs_scores_mut, sig_obs_scores_mut, poly_perm_scores_mut, sig_perm_scores_mut, dist_perm=True)"
   ]
  },
  {
   "cell_type": "code",
   "execution_count": 75,
   "id": "descending-radius",
   "metadata": {},
   "outputs": [],
   "source": [
    "poly_obs_scores_mut = pa_mutations.select_significant_models(models_pvalue_mut, poly_obs_scores_mut)"
   ]
  },
  {
   "cell_type": "code",
   "execution_count": 76,
   "id": "thermal-retail",
   "metadata": {},
   "outputs": [],
   "source": [
    "backgrounds_mut = pa_mutations.assemble_backgrounds(poly_obs_scores_mut, sig_perm_scores_mut, poly_perm_scores_mut)"
   ]
  },
  {
   "cell_type": "code",
   "execution_count": 77,
   "id": "hollywood-venezuela",
   "metadata": {},
   "outputs": [],
   "source": [
    "p_value_tables_mut = pa_mutations.get_p_values(poly_obs_scores_mut, backgrounds_mut)"
   ]
  },
  {
   "cell_type": "code",
   "execution_count": 78,
   "id": "leading-airfare",
   "metadata": {},
   "outputs": [],
   "source": [
    "q_value_tables_mut = pa_mutations.get_q_values(p_value_tables_mut, poly_obs_scores_mut)"
   ]
  },
  {
   "cell_type": "code",
   "execution_count": 79,
   "id": "bibliographic-tragedy",
   "metadata": {},
   "outputs": [],
   "source": [
    "backgrounds_mut_str = {}\n",
    "for key in backgrounds_mut.keys():\n",
    "    backgrounds_mut_str[str(key)] = backgrounds_mut[key]"
   ]
  },
  {
   "cell_type": "code",
   "execution_count": 80,
   "id": "specialized-stadium",
   "metadata": {},
   "outputs": [
    {
     "name": "stderr",
     "output_type": "stream",
     "text": [
      "/home/ieo5417/Documenti/colon_paper/git/profiler/notebooks/paper_analysis/../../../../git/profiler/lib/profile_analysis_class.py:782: SettingWithCopyWarning: \n",
      "A value is trying to be set on a copy of a slice from a DataFrame\n",
      "\n",
      "See the caveats in the documentation: https://pandas.pydata.org/pandas-docs/stable/user_guide/indexing.html#returning-a-view-versus-a-copy\n",
      "  to_evaluate.dropna(subset=polynomial_columns, how='all', inplace=True)\n",
      "/home/ieo5417/Documenti/colon_paper/git/profiler/notebooks/paper_analysis/../../../../git/profiler/lib/profile_analysis_class.py:791: SettingWithCopyWarning: \n",
      "A value is trying to be set on a copy of a slice from a DataFrame.\n",
      "Try using .loc[row_indexer,col_indexer] = value instead\n",
      "\n",
      "See the caveats in the documentation: https://pandas.pydata.org/pandas-docs/stable/user_guide/indexing.html#returning-a-view-versus-a-copy\n",
      "  to_evaluate['continuous'] = only_continuous.iloc[:,0]\n"
     ]
    }
   ],
   "source": [
    "classification_mut = pa_mutations.classify_genes(poly_obs_scores_mut, q_value_tables_mut, 0.2,0.1)"
   ]
  },
  {
   "cell_type": "code",
   "execution_count": 81,
   "id": "floral-worthy",
   "metadata": {},
   "outputs": [
    {
     "name": "stdout",
     "output_type": "stream",
     "text": [
      "sigmoid\n",
      "202\n",
      "discarded\n",
      "42\n",
      "continuous\n",
      "306\n"
     ]
    }
   ],
   "source": [
    "for key in classification_mut:\n",
    "    print(key)\n",
    "    print(len(classification_mut[key]))"
   ]
  },
  {
   "cell_type": "code",
   "execution_count": 82,
   "id": "white-macro",
   "metadata": {},
   "outputs": [],
   "source": [
    "pd.DataFrame(dict([ (k,pd.Series(v)) for k,v in classification_mut.items() ])).to_csv(f'{pa_mutations.output}/classification_mut.csv')"
   ]
  },
  {
   "cell_type": "markdown",
   "id": "checked-sequence",
   "metadata": {},
   "source": [
    "## SF 1C"
   ]
  },
  {
   "cell_type": "code",
   "execution_count": 83,
   "id": "sought-skating",
   "metadata": {},
   "outputs": [
    {
     "name": "stderr",
     "output_type": "stream",
     "text": [
      "<lambdifygenerated-3>:3: RuntimeWarning: overflow encountered in double_scalars\n",
      "  return (c*k*exp(-k*(x - x0))/(1 + exp(-k*(x - x0)))**2)\n"
     ]
    }
   ],
   "source": [
    "gene_list_mut, section_l_mut = pa_mutations.strict_sig_list(classification_mut['sigmoid'], sig_models_mut, plot_dist = True)"
   ]
  },
  {
   "cell_type": "markdown",
   "id": "figured-animation",
   "metadata": {},
   "source": [
    "# CMS PROFILING"
   ]
  },
  {
   "cell_type": "code",
   "execution_count": 84,
   "id": "excess-partition",
   "metadata": {},
   "outputs": [
    {
     "name": "stdout",
     "output_type": "stream",
     "text": [
      "Project has been created!\n"
     ]
    },
    {
     "name": "stderr",
     "output_type": "stream",
     "text": [
      "/home/ieo5417/Documenti/colon_paper/git/profiler/notebooks/paper_analysis/../../../../git/profiler/lib/profile_analysis_class.py:154: UserWarning: Folder input_data already exist...skipping\n",
      "  warnings.warn(\"Folder input_data already exist...skipping\",\n",
      "/home/ieo5417/Documenti/colon_paper/git/profiler/notebooks/paper_analysis/../../../../git/profiler/lib/profile_analysis_class.py:160: UserWarning: Folder data_raw already exist...skipping\n",
      "  warnings.warn(\"Folder data_raw already exist...skipping\",\n",
      "/home/ieo5417/Documenti/colon_paper/git/profiler/notebooks/paper_analysis/../../../../git/profiler/lib/profile_analysis_class.py:166: UserWarning: Folder data_clinical already exist...skipping\n",
      "  warnings.warn(\"Folder data_clinical already exist...skipping\",\n",
      "/home/ieo5417/Documenti/colon_paper/git/profiler/notebooks/paper_analysis/../../../../git/profiler/lib/profile_analysis_class.py:172: UserWarning: Folder sample_by_section already exist...skipping\n",
      "  warnings.warn(\"Folder sample_by_section already exist...skipping\",\n",
      "/home/ieo5417/Documenti/colon_paper/git/profiler/notebooks/paper_analysis/../../../../git/profiler/lib/profile_analysis_class.py:178: UserWarning: Folder data_fitting already exist...skipping\n",
      "  warnings.warn(\"Folder data_fitting already exist...skipping\",\n",
      "/home/ieo5417/Documenti/colon_paper/git/profiler/notebooks/paper_analysis/../../../../git/profiler/lib/profile_analysis_class.py:184: UserWarning: Folder rnd_data_fitting already exist...skipping\n",
      "  warnings.warn(\"Folder rnd_data_fitting already exist...skipping\",\n",
      "/home/ieo5417/Documenti/colon_paper/git/profiler/notebooks/paper_analysis/../../../../git/profiler/lib/profile_analysis_class.py:190: UserWarning: Folder figures already exist...skipping\n",
      "  warnings.warn(\"Folder figures already exist...skipping\",\n",
      "/home/ieo5417/Documenti/colon_paper/git/profiler/notebooks/paper_analysis/../../../../git/profiler/lib/profile_analysis_class.py:196: UserWarning: Folder output already exist...skipping\n",
      "  warnings.warn(\"Folder output already exist...skipping\",\n"
     ]
    }
   ],
   "source": [
    "# Create workflow class, specifying the path to the SETTINGS.ini file\n",
    "pa_cms = ProfileAnalysis('../../../../docker/analysis/cms')"
   ]
  },
  {
   "cell_type": "markdown",
   "id": "august-algeria",
   "metadata": {},
   "source": [
    "## Assign each sample in clinical data file to a colon section"
   ]
  },
  {
   "cell_type": "code",
   "execution_count": 85,
   "id": "agreed-newark",
   "metadata": {},
   "outputs": [],
   "source": [
    "pa_cms.create_samples_to_sections_table()"
   ]
  },
  {
   "cell_type": "markdown",
   "id": "impaired-console",
   "metadata": {},
   "source": [
    "## Calculate median value for each colon section"
   ]
  },
  {
   "cell_type": "code",
   "execution_count": 86,
   "id": "robust-baltimore",
   "metadata": {},
   "outputs": [
    {
     "name": "stdout",
     "output_type": "stream",
     "text": [
      "This step has already been executed...loading results...\n",
      "This step has already been executed...loading results...\n"
     ]
    }
   ],
   "source": [
    "medians_cms, mad_cms = pa_cms.median_by_section()"
   ]
  },
  {
   "cell_type": "markdown",
   "id": "designed-census",
   "metadata": {},
   "source": [
    "## Fit Observables"
   ]
  },
  {
   "cell_type": "code",
   "execution_count": 87,
   "id": "alien-police",
   "metadata": {},
   "outputs": [
    {
     "name": "stdout",
     "output_type": "stream",
     "text": [
      "This step has already been executed...loading results...\n",
      "This step has already been executed...loading results...\n",
      "This step has already been executed...loading results...\n",
      "This step has already been executed...loading results...\n"
     ]
    }
   ],
   "source": [
    "scores_cms, poly_obs_scores_cms, sig_obs_scores_cms, poly_models_cms, sig_models_cms = pa_cms.fit_data(medians_cms, guess_bounds = True)"
   ]
  },
  {
   "cell_type": "markdown",
   "id": "armed-honor",
   "metadata": {},
   "source": [
    "## Fit Random permutated data"
   ]
  },
  {
   "cell_type": "code",
   "execution_count": 88,
   "id": "painted-recipe",
   "metadata": {},
   "outputs": [
    {
     "name": "stdout",
     "output_type": "stream",
     "text": [
      "This step has already been executed...loading results...\n",
      "This step has already been executed...loading results...\n",
      "This step has already been executed...loading results...\n"
     ]
    }
   ],
   "source": [
    "poly_perm_scores_cms, sig_perm_scores_cms, sig_perm_models_cms=pa_cms.fit_random_data(medians_cms, guess_bounds = True)"
   ]
  },
  {
   "cell_type": "markdown",
   "id": "western-postage",
   "metadata": {},
   "source": [
    "## Compare obrservable vs permutated data"
   ]
  },
  {
   "cell_type": "code",
   "execution_count": 89,
   "id": "loose-termination",
   "metadata": {},
   "outputs": [
    {
     "name": "stderr",
     "output_type": "stream",
     "text": [
      "/home/ieo5417/Documenti/colon_paper/git/profiler/notebooks/paper_analysis/../../../../git/profiler/lib/profile_analysis_class.py:667: UserWarning: Matplotlib is currently using agg, which is a non-GUI backend, so cannot show the figure.\n",
      "  plt.show()\n",
      "/home/ieo5417/.local/lib/python3.8/site-packages/scipy/stats/_continuous_distns.py:709: RuntimeWarning: invalid value encountered in sqrt\n",
      "  sk = 2*(b-a)*np.sqrt(a + b + 1) / (a + b + 2) / np.sqrt(a*b)\n",
      "/home/ieo5417/Documenti/colon_paper/git/profiler/notebooks/paper_analysis/../../../../git/profiler/lib/profile_analysis_class.py:638: UserWarning: Matplotlib is currently using agg, which is a non-GUI backend, so cannot show the figure.\n",
      "  plt.show()\n",
      "/home/ieo5417/.local/lib/python3.8/site-packages/scipy/stats/_continuous_distns.py:709: RuntimeWarning: invalid value encountered in sqrt\n",
      "  sk = 2*(b-a)*np.sqrt(a + b + 1) / (a + b + 2) / np.sqrt(a*b)\n",
      "/home/ieo5417/.local/lib/python3.8/site-packages/scipy/optimize/_minpack_py.py:178: RuntimeWarning: The iteration is not making good progress, as measured by the \n",
      "  improvement from the last ten iterations.\n",
      "  warnings.warn(msg, RuntimeWarning)\n",
      "/home/ieo5417/Documenti/colon_paper/git/profiler/notebooks/paper_analysis/../../../../git/profiler/lib/profile_analysis_class.py:638: UserWarning: Matplotlib is currently using agg, which is a non-GUI backend, so cannot show the figure.\n",
      "  plt.show()\n",
      "/home/ieo5417/.local/lib/python3.8/site-packages/scipy/stats/_continuous_distns.py:709: RuntimeWarning: invalid value encountered in sqrt\n",
      "  sk = 2*(b-a)*np.sqrt(a + b + 1) / (a + b + 2) / np.sqrt(a*b)\n",
      "/home/ieo5417/.local/lib/python3.8/site-packages/scipy/optimize/_minpack_py.py:178: RuntimeWarning: The iteration is not making good progress, as measured by the \n",
      "  improvement from the last ten iterations.\n",
      "  warnings.warn(msg, RuntimeWarning)\n",
      "/home/ieo5417/Documenti/colon_paper/git/profiler/notebooks/paper_analysis/../../../../git/profiler/lib/profile_analysis_class.py:638: UserWarning: Matplotlib is currently using agg, which is a non-GUI backend, so cannot show the figure.\n",
      "  plt.show()\n",
      "/home/ieo5417/Documenti/colon_paper/git/profiler/notebooks/paper_analysis/../../../../git/profiler/lib/profile_analysis_class.py:638: UserWarning: Matplotlib is currently using agg, which is a non-GUI backend, so cannot show the figure.\n",
      "  plt.show()\n"
     ]
    }
   ],
   "source": [
    "models_pvalue_cms, scores_table=pa_cms.plot_gof(poly_obs_scores_cms, sig_obs_scores_cms, poly_perm_scores_cms, sig_perm_scores_cms, dist_perm=True)"
   ]
  },
  {
   "cell_type": "code",
   "execution_count": 90,
   "id": "reasonable-temple",
   "metadata": {},
   "outputs": [],
   "source": [
    "poly_obs_scores_cms = pa_cms.select_significant_models(models_pvalue_cms, poly_obs_scores_cms)"
   ]
  },
  {
   "cell_type": "code",
   "execution_count": 91,
   "id": "nutritional-investor",
   "metadata": {},
   "outputs": [],
   "source": [
    "backgrounds_cms = pa_cms.assemble_backgrounds(poly_obs_scores_cms, sig_perm_scores_cms, poly_perm_scores_cms)"
   ]
  },
  {
   "cell_type": "code",
   "execution_count": 92,
   "id": "green-classification",
   "metadata": {},
   "outputs": [],
   "source": [
    "p_value_tables_cms = pa_cms.get_p_values(poly_obs_scores_cms, backgrounds_cms)"
   ]
  },
  {
   "cell_type": "code",
   "execution_count": 93,
   "id": "exterior-condition",
   "metadata": {},
   "outputs": [],
   "source": [
    "q_value_tables_cms = pa_cms.get_q_values(p_value_tables_cms, poly_obs_scores_cms)"
   ]
  },
  {
   "cell_type": "code",
   "execution_count": 94,
   "id": "progressive-laundry",
   "metadata": {},
   "outputs": [],
   "source": [
    "backgrounds_cms_str = {}\n",
    "for key in backgrounds_cms.keys():\n",
    "    backgrounds_cms_str[str(key)] = backgrounds_cms[key]"
   ]
  },
  {
   "cell_type": "code",
   "execution_count": 95,
   "id": "sharp-census",
   "metadata": {},
   "outputs": [
    {
     "name": "stderr",
     "output_type": "stream",
     "text": [
      "/home/ieo5417/Documenti/colon_paper/git/profiler/notebooks/paper_analysis/../../../../git/profiler/lib/profile_analysis_class.py:782: SettingWithCopyWarning: \n",
      "A value is trying to be set on a copy of a slice from a DataFrame\n",
      "\n",
      "See the caveats in the documentation: https://pandas.pydata.org/pandas-docs/stable/user_guide/indexing.html#returning-a-view-versus-a-copy\n",
      "  to_evaluate.dropna(subset=polynomial_columns, how='all', inplace=True)\n",
      "/home/ieo5417/Documenti/colon_paper/git/profiler/notebooks/paper_analysis/../../../../git/profiler/lib/profile_analysis_class.py:791: SettingWithCopyWarning: \n",
      "A value is trying to be set on a copy of a slice from a DataFrame.\n",
      "Try using .loc[row_indexer,col_indexer] = value instead\n",
      "\n",
      "See the caveats in the documentation: https://pandas.pydata.org/pandas-docs/stable/user_guide/indexing.html#returning-a-view-versus-a-copy\n",
      "  to_evaluate['continuous'] = only_continuous.iloc[:,0]\n"
     ]
    }
   ],
   "source": [
    "classification_cms = pa_cms.classify_genes(poly_obs_scores_cms, q_value_tables_cms, 0.2, 0.2)"
   ]
  },
  {
   "cell_type": "code",
   "execution_count": 96,
   "id": "equal-arthur",
   "metadata": {},
   "outputs": [
    {
     "name": "stdout",
     "output_type": "stream",
     "text": [
      "sigmoid\n",
      "0\n",
      "discarded\n",
      "1\n",
      "continuous\n",
      "1\n"
     ]
    }
   ],
   "source": [
    "for key in classification_cms:\n",
    "    print(key)\n",
    "    print(len(classification_cms[key]))"
   ]
  },
  {
   "cell_type": "code",
   "execution_count": 97,
   "id": "departmental-prayer",
   "metadata": {},
   "outputs": [
    {
     "name": "stderr",
     "output_type": "stream",
     "text": [
      "<ipython-input-97-98d668316869>:1: FutureWarning: The default dtype for empty Series will be 'object' instead of 'float64' in a future version. Specify a dtype explicitly to silence this warning.\n",
      "  pd.DataFrame(dict([ (k,pd.Series(v)) for k,v in classification_cms.items() ])).to_csv(f'{pa_cms.output}/classification_cms.csv')\n"
     ]
    }
   ],
   "source": [
    "pd.DataFrame(dict([ (k,pd.Series(v)) for k,v in classification_cms.items() ])).to_csv(f'{pa_cms.output}/classification_cms.csv')"
   ]
  },
  {
   "cell_type": "markdown",
   "id": "dutch-skirt",
   "metadata": {},
   "source": [
    "# MOLECULAR FEATURES PROFILING"
   ]
  },
  {
   "cell_type": "code",
   "execution_count": 98,
   "id": "statistical-oliver",
   "metadata": {},
   "outputs": [
    {
     "name": "stdout",
     "output_type": "stream",
     "text": [
      "Project has been created!\n"
     ]
    },
    {
     "name": "stderr",
     "output_type": "stream",
     "text": [
      "/home/ieo5417/Documenti/colon_paper/git/profiler/notebooks/paper_analysis/../../../../git/profiler/lib/profile_analysis_class.py:154: UserWarning: Folder input_data already exist...skipping\n",
      "  warnings.warn(\"Folder input_data already exist...skipping\",\n",
      "/home/ieo5417/Documenti/colon_paper/git/profiler/notebooks/paper_analysis/../../../../git/profiler/lib/profile_analysis_class.py:160: UserWarning: Folder data_raw already exist...skipping\n",
      "  warnings.warn(\"Folder data_raw already exist...skipping\",\n",
      "/home/ieo5417/Documenti/colon_paper/git/profiler/notebooks/paper_analysis/../../../../git/profiler/lib/profile_analysis_class.py:166: UserWarning: Folder data_clinical already exist...skipping\n",
      "  warnings.warn(\"Folder data_clinical already exist...skipping\",\n",
      "/home/ieo5417/Documenti/colon_paper/git/profiler/notebooks/paper_analysis/../../../../git/profiler/lib/profile_analysis_class.py:172: UserWarning: Folder sample_by_section already exist...skipping\n",
      "  warnings.warn(\"Folder sample_by_section already exist...skipping\",\n",
      "/home/ieo5417/Documenti/colon_paper/git/profiler/notebooks/paper_analysis/../../../../git/profiler/lib/profile_analysis_class.py:178: UserWarning: Folder data_fitting already exist...skipping\n",
      "  warnings.warn(\"Folder data_fitting already exist...skipping\",\n",
      "/home/ieo5417/Documenti/colon_paper/git/profiler/notebooks/paper_analysis/../../../../git/profiler/lib/profile_analysis_class.py:184: UserWarning: Folder rnd_data_fitting already exist...skipping\n",
      "  warnings.warn(\"Folder rnd_data_fitting already exist...skipping\",\n",
      "/home/ieo5417/Documenti/colon_paper/git/profiler/notebooks/paper_analysis/../../../../git/profiler/lib/profile_analysis_class.py:190: UserWarning: Folder figures already exist...skipping\n",
      "  warnings.warn(\"Folder figures already exist...skipping\",\n",
      "/home/ieo5417/Documenti/colon_paper/git/profiler/notebooks/paper_analysis/../../../../git/profiler/lib/profile_analysis_class.py:196: UserWarning: Folder output already exist...skipping\n",
      "  warnings.warn(\"Folder output already exist...skipping\",\n"
     ]
    }
   ],
   "source": [
    "# Create workflow class, specifying the path to the SETTINGS.ini file\n",
    "pa_mf = ProfileAnalysis('../../../../docker/analysis/molecular_features')"
   ]
  },
  {
   "cell_type": "markdown",
   "id": "persistent-jerusalem",
   "metadata": {},
   "source": [
    "## Calculate median value for each colon section"
   ]
  },
  {
   "cell_type": "code",
   "execution_count": 99,
   "id": "annoying-census",
   "metadata": {},
   "outputs": [
    {
     "name": "stdout",
     "output_type": "stream",
     "text": [
      "This step has already been executed...loading results...\n",
      "This step has already been executed...loading results...\n"
     ]
    }
   ],
   "source": [
    "medians_mf, mad_tr = pa_mf.median_by_section()"
   ]
  },
  {
   "cell_type": "code",
   "execution_count": 100,
   "id": "sixth-summary",
   "metadata": {},
   "outputs": [],
   "source": [
    "medians_mf.drop('Splenic_Flexure', axis=1, inplace=True)"
   ]
  },
  {
   "cell_type": "code",
   "execution_count": 101,
   "id": "settled-nudist",
   "metadata": {},
   "outputs": [],
   "source": [
    "mad_mf = medians_mf"
   ]
  },
  {
   "cell_type": "markdown",
   "id": "presidential-timer",
   "metadata": {},
   "source": [
    "## Fit Observables"
   ]
  },
  {
   "cell_type": "code",
   "execution_count": 102,
   "id": "aerial-liberal",
   "metadata": {},
   "outputs": [
    {
     "name": "stdout",
     "output_type": "stream",
     "text": [
      "This step has already been executed...loading results...\n",
      "This step has already been executed...loading results...\n",
      "This step has already been executed...loading results...\n",
      "This step has already been executed...loading results...\n"
     ]
    }
   ],
   "source": [
    "scores_mf, poly_obs_scores_mf, sig_obs_scores_mf, poly_models_mf, sig_models_mf = pa_mf.fit_data(medians_mf, guess_bounds = True)"
   ]
  },
  {
   "cell_type": "markdown",
   "id": "massive-content",
   "metadata": {},
   "source": [
    "## Fit Random permutated data"
   ]
  },
  {
   "cell_type": "code",
   "execution_count": 103,
   "id": "short-hawaii",
   "metadata": {},
   "outputs": [
    {
     "name": "stdout",
     "output_type": "stream",
     "text": [
      "This step has already been executed...loading results...\n",
      "This step has already been executed...loading results...\n",
      "This step has already been executed...loading results...\n"
     ]
    }
   ],
   "source": [
    "poly_perm_scores_mf, sig_perm_scores_mf, sig_perm_models_mf = pa_mf.fit_random_data(medians_mf, guess_bounds = True)"
   ]
  },
  {
   "cell_type": "markdown",
   "id": "wireless-closing",
   "metadata": {},
   "source": [
    "## Compare obrservable vs permutated data"
   ]
  },
  {
   "cell_type": "code",
   "execution_count": 104,
   "id": "subtle-inquiry",
   "metadata": {},
   "outputs": [
    {
     "name": "stderr",
     "output_type": "stream",
     "text": [
      "/home/ieo5417/Documenti/colon_paper/git/profiler/notebooks/paper_analysis/../../../../git/profiler/lib/profile_analysis_class.py:667: UserWarning: Matplotlib is currently using agg, which is a non-GUI backend, so cannot show the figure.\n",
      "  plt.show()\n",
      "/home/ieo5417/.local/lib/python3.8/site-packages/scipy/stats/_continuous_distns.py:709: RuntimeWarning: invalid value encountered in sqrt\n",
      "  sk = 2*(b-a)*np.sqrt(a + b + 1) / (a + b + 2) / np.sqrt(a*b)\n",
      "/home/ieo5417/.local/lib/python3.8/site-packages/scipy/optimize/_minpack_py.py:178: RuntimeWarning: The iteration is not making good progress, as measured by the \n",
      "  improvement from the last ten iterations.\n",
      "  warnings.warn(msg, RuntimeWarning)\n",
      "/home/ieo5417/Documenti/colon_paper/git/profiler/notebooks/paper_analysis/../../../../git/profiler/lib/profile_analysis_class.py:638: UserWarning: Matplotlib is currently using agg, which is a non-GUI backend, so cannot show the figure.\n",
      "  plt.show()\n",
      "/home/ieo5417/.local/lib/python3.8/site-packages/scipy/stats/_continuous_distns.py:709: RuntimeWarning: invalid value encountered in sqrt\n",
      "  sk = 2*(b-a)*np.sqrt(a + b + 1) / (a + b + 2) / np.sqrt(a*b)\n",
      "/home/ieo5417/Documenti/colon_paper/git/profiler/notebooks/paper_analysis/../../../../git/profiler/lib/profile_analysis_class.py:638: UserWarning: Matplotlib is currently using agg, which is a non-GUI backend, so cannot show the figure.\n",
      "  plt.show()\n",
      "/home/ieo5417/Documenti/colon_paper/git/profiler/notebooks/paper_analysis/../../../../git/profiler/lib/profile_analysis_class.py:638: UserWarning: Matplotlib is currently using agg, which is a non-GUI backend, so cannot show the figure.\n",
      "  plt.show()\n",
      "/home/ieo5417/Documenti/colon_paper/git/profiler/notebooks/paper_analysis/../../../../git/profiler/lib/profile_analysis_class.py:638: UserWarning: Matplotlib is currently using agg, which is a non-GUI backend, so cannot show the figure.\n",
      "  plt.show()\n"
     ]
    }
   ],
   "source": [
    "models_pvalue_mf, scores_table = pa_mf.plot_gof(poly_obs_scores_mf, sig_obs_scores_mf, poly_perm_scores_mf, sig_perm_scores_mf, dist_perm=True)"
   ]
  },
  {
   "cell_type": "code",
   "execution_count": 105,
   "id": "limited-regard",
   "metadata": {},
   "outputs": [
    {
     "data": {
      "text/plain": [
       "{'sigmoidal': [720.5, 0.0028803815027847344, 0.8101906026524819],\n",
       " 1: [880.0, 7.798628094971606e-05, 0.539685665677024],\n",
       " 2: [848.0, 0.0010332093031969363, 0.6782939398023872],\n",
       " 3: [796.0, 0.007514784172967473, 0.8607285414561264]}"
      ]
     },
     "execution_count": 105,
     "metadata": {},
     "output_type": "execute_result"
    }
   ],
   "source": [
    "models_pvalue_mf"
   ]
  },
  {
   "cell_type": "code",
   "execution_count": 106,
   "id": "weekly-oriental",
   "metadata": {},
   "outputs": [],
   "source": [
    "poly_obs_scores_mf = pa_mf.select_significant_models(models_pvalue_mf, poly_obs_scores_mf)"
   ]
  },
  {
   "cell_type": "code",
   "execution_count": 107,
   "id": "atomic-intake",
   "metadata": {},
   "outputs": [],
   "source": [
    "backgrounds_mf = pa_mf.assemble_backgrounds(poly_obs_scores_mf, sig_perm_scores_mf, poly_perm_scores_mf)"
   ]
  },
  {
   "cell_type": "code",
   "execution_count": 108,
   "id": "rental-casting",
   "metadata": {},
   "outputs": [],
   "source": [
    "p_value_tables_mf = pa_mf.get_p_values(poly_obs_scores_mf, backgrounds_mf)"
   ]
  },
  {
   "cell_type": "code",
   "execution_count": 109,
   "id": "aware-pitch",
   "metadata": {},
   "outputs": [],
   "source": [
    "q_value_tables_mf = pa_mf.get_q_values(p_value_tables_mf, poly_obs_scores_mf)"
   ]
  },
  {
   "cell_type": "code",
   "execution_count": 110,
   "id": "executed-kidney",
   "metadata": {},
   "outputs": [],
   "source": [
    "backgrounds_mf_str = {}\n",
    "for key in backgrounds_mf.keys():\n",
    "    backgrounds_mf_str[str(key)] = backgrounds_mf[key]"
   ]
  },
  {
   "cell_type": "code",
   "execution_count": 111,
   "id": "explicit-delta",
   "metadata": {},
   "outputs": [],
   "source": [
    "classification_mf = pa_mf.classify_genes(poly_obs_scores_mf, q_value_tables_mf, 0.2,0.1)"
   ]
  },
  {
   "cell_type": "code",
   "execution_count": 112,
   "id": "manual-minutes",
   "metadata": {},
   "outputs": [
    {
     "name": "stdout",
     "output_type": "stream",
     "text": [
      "sigmoid\n",
      "2\n",
      "discarded\n",
      "0\n",
      "continuous\n",
      "1\n"
     ]
    }
   ],
   "source": [
    "for key in classification_mf:\n",
    "    print(key)\n",
    "    print(len(classification_mf[key]))"
   ]
  },
  {
   "cell_type": "code",
   "execution_count": 113,
   "id": "turkish-pittsburgh",
   "metadata": {},
   "outputs": [
    {
     "data": {
      "text/plain": [
       "{'sigmoid': ['MSI', 'CIN'], 'discarded': [], 'continuous': ['CIMP']}"
      ]
     },
     "execution_count": 113,
     "metadata": {},
     "output_type": "execute_result"
    }
   ],
   "source": [
    "classification_mf"
   ]
  },
  {
   "cell_type": "markdown",
   "id": "brazilian-vacation",
   "metadata": {},
   "source": [
    "# ANEUPLOIDY PROFILING"
   ]
  },
  {
   "cell_type": "markdown",
   "id": "incoming-valuation",
   "metadata": {},
   "source": [
    "## Duplication"
   ]
  },
  {
   "cell_type": "code",
   "execution_count": 114,
   "id": "abstract-algebra",
   "metadata": {},
   "outputs": [
    {
     "name": "stdout",
     "output_type": "stream",
     "text": [
      "Project has been created!\n"
     ]
    },
    {
     "name": "stderr",
     "output_type": "stream",
     "text": [
      "/home/ieo5417/Documenti/colon_paper/git/profiler/notebooks/paper_analysis/../../../../git/profiler/lib/profile_analysis_class.py:154: UserWarning: Folder input_data already exist...skipping\n",
      "  warnings.warn(\"Folder input_data already exist...skipping\",\n",
      "/home/ieo5417/Documenti/colon_paper/git/profiler/notebooks/paper_analysis/../../../../git/profiler/lib/profile_analysis_class.py:160: UserWarning: Folder data_raw already exist...skipping\n",
      "  warnings.warn(\"Folder data_raw already exist...skipping\",\n",
      "/home/ieo5417/Documenti/colon_paper/git/profiler/notebooks/paper_analysis/../../../../git/profiler/lib/profile_analysis_class.py:166: UserWarning: Folder data_clinical already exist...skipping\n",
      "  warnings.warn(\"Folder data_clinical already exist...skipping\",\n",
      "/home/ieo5417/Documenti/colon_paper/git/profiler/notebooks/paper_analysis/../../../../git/profiler/lib/profile_analysis_class.py:172: UserWarning: Folder sample_by_section already exist...skipping\n",
      "  warnings.warn(\"Folder sample_by_section already exist...skipping\",\n",
      "/home/ieo5417/Documenti/colon_paper/git/profiler/notebooks/paper_analysis/../../../../git/profiler/lib/profile_analysis_class.py:178: UserWarning: Folder data_fitting already exist...skipping\n",
      "  warnings.warn(\"Folder data_fitting already exist...skipping\",\n",
      "/home/ieo5417/Documenti/colon_paper/git/profiler/notebooks/paper_analysis/../../../../git/profiler/lib/profile_analysis_class.py:184: UserWarning: Folder rnd_data_fitting already exist...skipping\n",
      "  warnings.warn(\"Folder rnd_data_fitting already exist...skipping\",\n",
      "/home/ieo5417/Documenti/colon_paper/git/profiler/notebooks/paper_analysis/../../../../git/profiler/lib/profile_analysis_class.py:190: UserWarning: Folder figures already exist...skipping\n",
      "  warnings.warn(\"Folder figures already exist...skipping\",\n",
      "/home/ieo5417/Documenti/colon_paper/git/profiler/notebooks/paper_analysis/../../../../git/profiler/lib/profile_analysis_class.py:196: UserWarning: Folder output already exist...skipping\n",
      "  warnings.warn(\"Folder output already exist...skipping\",\n"
     ]
    }
   ],
   "source": [
    "# Create workflow class, specifying the path to the SETTINGS.ini file\n",
    "pa_duplication = ProfileAnalysis('../../../../docker/analysis/aneuploidy/duplication')"
   ]
  },
  {
   "cell_type": "markdown",
   "id": "corporate-environment",
   "metadata": {},
   "source": [
    "## Assign each sample in clinical data file to a colon section"
   ]
  },
  {
   "cell_type": "code",
   "execution_count": 115,
   "id": "conventional-latin",
   "metadata": {},
   "outputs": [],
   "source": [
    "pa_duplication.create_samples_to_sections_table()"
   ]
  },
  {
   "cell_type": "markdown",
   "id": "radical-diana",
   "metadata": {},
   "source": [
    "## Calculate median value for each colon section"
   ]
  },
  {
   "cell_type": "code",
   "execution_count": 116,
   "id": "veterinary-subcommittee",
   "metadata": {},
   "outputs": [
    {
     "name": "stdout",
     "output_type": "stream",
     "text": [
      "This step has already been executed...loading results...\n",
      "This step has already been executed...loading results...\n"
     ]
    }
   ],
   "source": [
    "medians_dup, mad_dup = pa_duplication.median_by_section()"
   ]
  },
  {
   "cell_type": "code",
   "execution_count": 117,
   "id": "controlling-voice",
   "metadata": {},
   "outputs": [],
   "source": [
    "#remove samples with more than 4 section containing zeroes\n",
    "medians_dup=medians_dup[(medians_dup==0).sum(axis=1)<4]"
   ]
  },
  {
   "cell_type": "markdown",
   "id": "competent-article",
   "metadata": {},
   "source": [
    "## Fit Observables"
   ]
  },
  {
   "cell_type": "code",
   "execution_count": 118,
   "id": "duplicate-multiple",
   "metadata": {},
   "outputs": [
    {
     "name": "stdout",
     "output_type": "stream",
     "text": [
      "This step has already been executed...loading results...\n",
      "This step has already been executed...loading results...\n",
      "This step has already been executed...loading results...\n",
      "This step has already been executed...loading results...\n"
     ]
    }
   ],
   "source": [
    "scores_dup, poly_obs_scores_dup, sig_obs_scores_dup, poly_models_dup, sig_models_dup = pa_duplication.fit_data(medians_dup, guess_bounds = True)"
   ]
  },
  {
   "cell_type": "markdown",
   "id": "ideal-aquatic",
   "metadata": {},
   "source": [
    "## Fit Random permutated data"
   ]
  },
  {
   "cell_type": "code",
   "execution_count": 119,
   "id": "requested-shepherd",
   "metadata": {},
   "outputs": [
    {
     "name": "stdout",
     "output_type": "stream",
     "text": [
      "This step has already been executed...loading results...\n",
      "This step has already been executed...loading results...\n",
      "This step has already been executed...loading results...\n"
     ]
    }
   ],
   "source": [
    "poly_perm_scores_dup, sig_perm_scores_dup, sig_perm_models_dup=pa_duplication.fit_random_data(medians_dup, guess_bounds = True)"
   ]
  },
  {
   "cell_type": "markdown",
   "id": "verbal-stretch",
   "metadata": {},
   "source": [
    "## Compare obrservable vs permutated data"
   ]
  },
  {
   "cell_type": "code",
   "execution_count": 120,
   "id": "neural-librarian",
   "metadata": {},
   "outputs": [
    {
     "name": "stderr",
     "output_type": "stream",
     "text": [
      "/home/ieo5417/Documenti/colon_paper/git/profiler/notebooks/paper_analysis/../../../../git/profiler/lib/profile_analysis_class.py:667: UserWarning: Matplotlib is currently using agg, which is a non-GUI backend, so cannot show the figure.\n",
      "  plt.show()\n",
      "/home/ieo5417/Documenti/colon_paper/git/profiler/notebooks/paper_analysis/../../../../git/profiler/lib/profile_analysis_class.py:638: UserWarning: Matplotlib is currently using agg, which is a non-GUI backend, so cannot show the figure.\n",
      "  plt.show()\n",
      "/home/ieo5417/.local/lib/python3.8/site-packages/scipy/stats/_continuous_distns.py:709: RuntimeWarning: invalid value encountered in sqrt\n",
      "  sk = 2*(b-a)*np.sqrt(a + b + 1) / (a + b + 2) / np.sqrt(a*b)\n",
      "/home/ieo5417/Documenti/colon_paper/git/profiler/notebooks/paper_analysis/../../../../git/profiler/lib/profile_analysis_class.py:638: UserWarning: Matplotlib is currently using agg, which is a non-GUI backend, so cannot show the figure.\n",
      "  plt.show()\n",
      "/home/ieo5417/.local/lib/python3.8/site-packages/scipy/stats/_continuous_distns.py:709: RuntimeWarning: invalid value encountered in sqrt\n",
      "  sk = 2*(b-a)*np.sqrt(a + b + 1) / (a + b + 2) / np.sqrt(a*b)\n",
      "/home/ieo5417/Documenti/colon_paper/git/profiler/notebooks/paper_analysis/../../../../git/profiler/lib/profile_analysis_class.py:638: UserWarning: Matplotlib is currently using agg, which is a non-GUI backend, so cannot show the figure.\n",
      "  plt.show()\n",
      "/home/ieo5417/Documenti/colon_paper/git/profiler/notebooks/paper_analysis/../../../../git/profiler/lib/profile_analysis_class.py:638: UserWarning: Matplotlib is currently using agg, which is a non-GUI backend, so cannot show the figure.\n",
      "  plt.show()\n"
     ]
    }
   ],
   "source": [
    "models_pvalue_dup, scores_table=pa_duplication.plot_gof(poly_obs_scores_dup, sig_obs_scores_dup, poly_perm_scores_dup, sig_perm_scores_dup, dist_perm=True)"
   ]
  },
  {
   "cell_type": "code",
   "execution_count": 121,
   "id": "electronic-albania",
   "metadata": {},
   "outputs": [
    {
     "data": {
      "text/plain": [
       "{'sigmoidal': [47737.0, 0.10835702996192376, 0.750608571706694],\n",
       " 1: [61008.0, 0.030935250227867372, 0.4801361827868336],\n",
       " 2: [56470.0, 0.1578712229901772, 0.6824173967685947],\n",
       " 3: [52809.0, 0.37971178037906733, 0.8340157482725975]}"
      ]
     },
     "execution_count": 121,
     "metadata": {},
     "output_type": "execute_result"
    }
   ],
   "source": [
    "models_pvalue_dup"
   ]
  },
  {
   "cell_type": "code",
   "execution_count": 122,
   "id": "equivalent-journey",
   "metadata": {},
   "outputs": [],
   "source": [
    "poly_obs_scores_dup = pa_duplication.select_significant_models(models_pvalue_dup, poly_obs_scores_dup)"
   ]
  },
  {
   "cell_type": "code",
   "execution_count": 123,
   "id": "confident-argument",
   "metadata": {},
   "outputs": [],
   "source": [
    "backgrounds_dup = pa_duplication.assemble_backgrounds(poly_obs_scores_dup, sig_perm_scores_dup, poly_perm_scores_dup)"
   ]
  },
  {
   "cell_type": "code",
   "execution_count": 124,
   "id": "elementary-trigger",
   "metadata": {},
   "outputs": [],
   "source": [
    "p_value_tables_dup = pa_duplication.get_p_values(poly_obs_scores_dup, backgrounds_dup)"
   ]
  },
  {
   "cell_type": "code",
   "execution_count": 125,
   "id": "gothic-triumph",
   "metadata": {},
   "outputs": [],
   "source": [
    "q_value_tables_dup = pa_duplication.get_q_values(p_value_tables_dup, poly_obs_scores_dup)"
   ]
  },
  {
   "cell_type": "code",
   "execution_count": 126,
   "id": "anticipated-center",
   "metadata": {},
   "outputs": [],
   "source": [
    "backgrounds_dup_str = {}\n",
    "for key in backgrounds_dup.keys():\n",
    "    backgrounds_dup_str[str(key)] = backgrounds_dup[key]"
   ]
  },
  {
   "cell_type": "code",
   "execution_count": 127,
   "id": "local-intersection",
   "metadata": {},
   "outputs": [],
   "source": [
    "classification_dup = pa_duplication.classify_genes(poly_obs_scores_dup, q_value_tables_dup,0.2, 0.1)"
   ]
  },
  {
   "cell_type": "code",
   "execution_count": 128,
   "id": "overhead-safety",
   "metadata": {},
   "outputs": [
    {
     "name": "stdout",
     "output_type": "stream",
     "text": [
      "continuous\n",
      "8\n"
     ]
    }
   ],
   "source": [
    "for key in classification_dup:\n",
    "    print(key)\n",
    "    print(len(classification_dup[key]))"
   ]
  },
  {
   "cell_type": "code",
   "execution_count": 129,
   "id": "selective-sister",
   "metadata": {},
   "outputs": [
    {
     "data": {
      "text/plain": [
       "{'continuous': ['3p', '3q', '6p', '6q', '8p', '12q', '13q', '20q']}"
      ]
     },
     "execution_count": 129,
     "metadata": {},
     "output_type": "execute_result"
    }
   ],
   "source": [
    "classification_dup"
   ]
  },
  {
   "cell_type": "code",
   "execution_count": 130,
   "id": "black-messaging",
   "metadata": {},
   "outputs": [],
   "source": [
    "pd.DataFrame(dict([ (k,pd.Series(v)) for k,v in classification_dup.items() ])).to_csv(f'{pa_duplication.output}/results_dup.csv')"
   ]
  },
  {
   "cell_type": "markdown",
   "id": "apparent-patrick",
   "metadata": {},
   "source": [
    "## Deletion"
   ]
  },
  {
   "cell_type": "code",
   "execution_count": 131,
   "id": "individual-rings",
   "metadata": {},
   "outputs": [
    {
     "name": "stdout",
     "output_type": "stream",
     "text": [
      "Project has been created!\n"
     ]
    },
    {
     "name": "stderr",
     "output_type": "stream",
     "text": [
      "/home/ieo5417/Documenti/colon_paper/git/profiler/notebooks/paper_analysis/../../../../git/profiler/lib/profile_analysis_class.py:154: UserWarning: Folder input_data already exist...skipping\n",
      "  warnings.warn(\"Folder input_data already exist...skipping\",\n",
      "/home/ieo5417/Documenti/colon_paper/git/profiler/notebooks/paper_analysis/../../../../git/profiler/lib/profile_analysis_class.py:160: UserWarning: Folder data_raw already exist...skipping\n",
      "  warnings.warn(\"Folder data_raw already exist...skipping\",\n",
      "/home/ieo5417/Documenti/colon_paper/git/profiler/notebooks/paper_analysis/../../../../git/profiler/lib/profile_analysis_class.py:166: UserWarning: Folder data_clinical already exist...skipping\n",
      "  warnings.warn(\"Folder data_clinical already exist...skipping\",\n",
      "/home/ieo5417/Documenti/colon_paper/git/profiler/notebooks/paper_analysis/../../../../git/profiler/lib/profile_analysis_class.py:172: UserWarning: Folder sample_by_section already exist...skipping\n",
      "  warnings.warn(\"Folder sample_by_section already exist...skipping\",\n",
      "/home/ieo5417/Documenti/colon_paper/git/profiler/notebooks/paper_analysis/../../../../git/profiler/lib/profile_analysis_class.py:178: UserWarning: Folder data_fitting already exist...skipping\n",
      "  warnings.warn(\"Folder data_fitting already exist...skipping\",\n",
      "/home/ieo5417/Documenti/colon_paper/git/profiler/notebooks/paper_analysis/../../../../git/profiler/lib/profile_analysis_class.py:184: UserWarning: Folder rnd_data_fitting already exist...skipping\n",
      "  warnings.warn(\"Folder rnd_data_fitting already exist...skipping\",\n",
      "/home/ieo5417/Documenti/colon_paper/git/profiler/notebooks/paper_analysis/../../../../git/profiler/lib/profile_analysis_class.py:190: UserWarning: Folder figures already exist...skipping\n",
      "  warnings.warn(\"Folder figures already exist...skipping\",\n",
      "/home/ieo5417/Documenti/colon_paper/git/profiler/notebooks/paper_analysis/../../../../git/profiler/lib/profile_analysis_class.py:196: UserWarning: Folder output already exist...skipping\n",
      "  warnings.warn(\"Folder output already exist...skipping\",\n"
     ]
    }
   ],
   "source": [
    "# Create workflow class, specifying the path to the SETTINGS.ini file\n",
    "pa_deletion = ProfileAnalysis('../../../../docker/analysis/aneuploidy/deletion')"
   ]
  },
  {
   "cell_type": "markdown",
   "id": "geological-wrist",
   "metadata": {},
   "source": [
    "## Assign each sample in clinical data file to a colon section"
   ]
  },
  {
   "cell_type": "code",
   "execution_count": 132,
   "id": "intellectual-permission",
   "metadata": {},
   "outputs": [],
   "source": [
    "pa_deletion.create_samples_to_sections_table()"
   ]
  },
  {
   "cell_type": "markdown",
   "id": "respected-iraqi",
   "metadata": {},
   "source": [
    "## Calculate median value for each colon section"
   ]
  },
  {
   "cell_type": "code",
   "execution_count": 133,
   "id": "interstate-israeli",
   "metadata": {},
   "outputs": [
    {
     "name": "stdout",
     "output_type": "stream",
     "text": [
      "This step has already been executed...loading results...\n",
      "This step has already been executed...loading results...\n"
     ]
    }
   ],
   "source": [
    "medians_del, mad_del = pa_deletion.median_by_section()"
   ]
  },
  {
   "cell_type": "code",
   "execution_count": 134,
   "id": "separate-elite",
   "metadata": {},
   "outputs": [],
   "source": [
    "medians_del = medians_del[(medians_del==0).sum(axis=1)<4]"
   ]
  },
  {
   "cell_type": "markdown",
   "id": "annual-wrong",
   "metadata": {},
   "source": [
    "## Fit Observables"
   ]
  },
  {
   "cell_type": "code",
   "execution_count": 135,
   "id": "experimental-sterling",
   "metadata": {},
   "outputs": [
    {
     "name": "stdout",
     "output_type": "stream",
     "text": [
      "This step has already been executed...loading results...\n",
      "This step has already been executed...loading results...\n",
      "This step has already been executed...loading results...\n",
      "This step has already been executed...loading results...\n"
     ]
    }
   ],
   "source": [
    "scores_del, poly_obs_scores_del, sig_obs_scores_del, poly_models_del, sig_models_del = pa_deletion.fit_data(medians_del, guess_bounds = True)"
   ]
  },
  {
   "cell_type": "markdown",
   "id": "crucial-audit",
   "metadata": {},
   "source": [
    "## Fit Random permutated data"
   ]
  },
  {
   "cell_type": "code",
   "execution_count": 136,
   "id": "chief-connecticut",
   "metadata": {},
   "outputs": [
    {
     "name": "stdout",
     "output_type": "stream",
     "text": [
      "This step has already been executed...loading results...\n",
      "This step has already been executed...loading results...\n",
      "This step has already been executed...loading results...\n"
     ]
    }
   ],
   "source": [
    "poly_perm_scores_del, sig_perm_scores_del, sig_perm_models_del = pa_deletion.fit_random_data(medians_del, guess_bounds = True)"
   ]
  },
  {
   "cell_type": "markdown",
   "id": "brutal-samoa",
   "metadata": {},
   "source": [
    "## Compare obrservable vs permutated data"
   ]
  },
  {
   "cell_type": "code",
   "execution_count": 137,
   "id": "minimal-century",
   "metadata": {},
   "outputs": [
    {
     "name": "stderr",
     "output_type": "stream",
     "text": [
      "/home/ieo5417/Documenti/colon_paper/git/profiler/notebooks/paper_analysis/../../../../git/profiler/lib/profile_analysis_class.py:667: UserWarning: Matplotlib is currently using agg, which is a non-GUI backend, so cannot show the figure.\n",
      "  plt.show()\n",
      "/home/ieo5417/Documenti/colon_paper/git/profiler/notebooks/paper_analysis/../../../../git/profiler/lib/profile_analysis_class.py:638: UserWarning: Matplotlib is currently using agg, which is a non-GUI backend, so cannot show the figure.\n",
      "  plt.show()\n",
      "/home/ieo5417/.local/lib/python3.8/site-packages/scipy/stats/_continuous_distns.py:709: RuntimeWarning: invalid value encountered in sqrt\n",
      "  sk = 2*(b-a)*np.sqrt(a + b + 1) / (a + b + 2) / np.sqrt(a*b)\n",
      "/home/ieo5417/Documenti/colon_paper/git/profiler/notebooks/paper_analysis/../../../../git/profiler/lib/profile_analysis_class.py:638: UserWarning: Matplotlib is currently using agg, which is a non-GUI backend, so cannot show the figure.\n",
      "  plt.show()\n",
      "/home/ieo5417/Documenti/colon_paper/git/profiler/notebooks/paper_analysis/../../../../git/profiler/lib/profile_analysis_class.py:638: UserWarning: Matplotlib is currently using agg, which is a non-GUI backend, so cannot show the figure.\n",
      "  plt.show()\n",
      "/home/ieo5417/Documenti/colon_paper/git/profiler/notebooks/paper_analysis/../../../../git/profiler/lib/profile_analysis_class.py:638: UserWarning: Matplotlib is currently using agg, which is a non-GUI backend, so cannot show the figure.\n",
      "  plt.show()\n"
     ]
    }
   ],
   "source": [
    "models_pvalue_del, scores_table = pa_deletion.plot_gof(poly_obs_scores_del, sig_obs_scores_del, poly_perm_scores_del, sig_perm_scores_del, dist_perm=True)"
   ]
  },
  {
   "cell_type": "code",
   "execution_count": 138,
   "id": "dense-variable",
   "metadata": {},
   "outputs": [
    {
     "data": {
      "text/plain": [
       "{'sigmoidal': [66465.0, 0.004735342023734476, 0.7640185834905403],\n",
       " 1: [89623.0, 3.737939899787586e-05, 0.5306604958838856],\n",
       " 2: [74684.0, 0.057399623664145645, 0.7043890970298197],\n",
       " 3: [64556.0, 0.5155594862177509, 0.8308486036425703]}"
      ]
     },
     "execution_count": 138,
     "metadata": {},
     "output_type": "execute_result"
    }
   ],
   "source": [
    "models_pvalue_del"
   ]
  },
  {
   "cell_type": "code",
   "execution_count": 139,
   "id": "satisfactory-footwear",
   "metadata": {},
   "outputs": [],
   "source": [
    "poly_obs_scores_del = pa_deletion.select_significant_models(models_pvalue_del, poly_obs_scores_del)"
   ]
  },
  {
   "cell_type": "code",
   "execution_count": 140,
   "id": "satisfied-found",
   "metadata": {},
   "outputs": [],
   "source": [
    "backgrounds_del = pa_deletion.assemble_backgrounds(poly_obs_scores_del, sig_perm_scores_del, poly_perm_scores_del)"
   ]
  },
  {
   "cell_type": "code",
   "execution_count": 141,
   "id": "negative-inspection",
   "metadata": {},
   "outputs": [],
   "source": [
    "p_value_tables_del = pa_deletion.get_p_values(poly_obs_scores_del, backgrounds_del)"
   ]
  },
  {
   "cell_type": "code",
   "execution_count": 142,
   "id": "identical-princess",
   "metadata": {},
   "outputs": [],
   "source": [
    "q_value_tables_del = pa_deletion.get_q_values(p_value_tables_del, poly_obs_scores_del)"
   ]
  },
  {
   "cell_type": "code",
   "execution_count": 143,
   "id": "objective-silly",
   "metadata": {},
   "outputs": [],
   "source": [
    "backgrounds_del_str = {}\n",
    "for key in backgrounds_del.keys():\n",
    "    backgrounds_del_str[str(key)] = backgrounds_del[key]"
   ]
  },
  {
   "cell_type": "code",
   "execution_count": 144,
   "id": "alone-cosmetic",
   "metadata": {},
   "outputs": [
    {
     "name": "stderr",
     "output_type": "stream",
     "text": [
      "/home/ieo5417/Documenti/colon_paper/git/profiler/notebooks/paper_analysis/../../../../git/profiler/lib/profile_analysis_class.py:782: SettingWithCopyWarning: \n",
      "A value is trying to be set on a copy of a slice from a DataFrame\n",
      "\n",
      "See the caveats in the documentation: https://pandas.pydata.org/pandas-docs/stable/user_guide/indexing.html#returning-a-view-versus-a-copy\n",
      "  to_evaluate.dropna(subset=polynomial_columns, how='all', inplace=True)\n",
      "/home/ieo5417/Documenti/colon_paper/git/profiler/notebooks/paper_analysis/../../../../git/profiler/lib/profile_analysis_class.py:791: SettingWithCopyWarning: \n",
      "A value is trying to be set on a copy of a slice from a DataFrame.\n",
      "Try using .loc[row_indexer,col_indexer] = value instead\n",
      "\n",
      "See the caveats in the documentation: https://pandas.pydata.org/pandas-docs/stable/user_guide/indexing.html#returning-a-view-versus-a-copy\n",
      "  to_evaluate['continuous'] = only_continuous.iloc[:,0]\n"
     ]
    }
   ],
   "source": [
    "classification_del = pa_deletion.classify_genes(poly_obs_scores_del, q_value_tables_del,0.2, 0.1)"
   ]
  },
  {
   "cell_type": "code",
   "execution_count": 145,
   "id": "banned-plate",
   "metadata": {},
   "outputs": [
    {
     "data": {
      "text/plain": [
       "{'sigmoid': ['17p', '20p', '1p', '9q', '15q'],\n",
       " 'discarded': [],\n",
       " 'continuous': ['4p',\n",
       "  '4q',\n",
       "  '5q',\n",
       "  '10q',\n",
       "  '11p',\n",
       "  '11q',\n",
       "  '18q',\n",
       "  '6q',\n",
       "  '8p',\n",
       "  '14q',\n",
       "  '18p']}"
      ]
     },
     "execution_count": 145,
     "metadata": {},
     "output_type": "execute_result"
    }
   ],
   "source": [
    "classification_del"
   ]
  },
  {
   "cell_type": "code",
   "execution_count": 146,
   "id": "located-grace",
   "metadata": {},
   "outputs": [
    {
     "name": "stdout",
     "output_type": "stream",
     "text": [
      "sigmoid\n",
      "5\n",
      "discarded\n",
      "0\n",
      "continuous\n",
      "11\n"
     ]
    }
   ],
   "source": [
    "for key in classification_del:\n",
    "    print(key)\n",
    "    print(len(classification_del[key]))"
   ]
  },
  {
   "cell_type": "code",
   "execution_count": 147,
   "id": "opposed-conditioning",
   "metadata": {},
   "outputs": [
    {
     "name": "stderr",
     "output_type": "stream",
     "text": [
      "<ipython-input-147-d70f42999164>:1: FutureWarning: The default dtype for empty Series will be 'object' instead of 'float64' in a future version. Specify a dtype explicitly to silence this warning.\n",
      "  pd.DataFrame(dict([ (k,pd.Series(v)) for k,v in classification_del.items() ])).to_csv(f'{pa_deletion.output}/classification_del.csv')\n"
     ]
    }
   ],
   "source": [
    "pd.DataFrame(dict([ (k,pd.Series(v)) for k,v in classification_del.items() ])).to_csv(f'{pa_deletion.output}/classification_del.csv')"
   ]
  },
  {
   "cell_type": "markdown",
   "id": "norwegian-sheep",
   "metadata": {},
   "source": [
    "# SIGNATURES PROFILING"
   ]
  },
  {
   "cell_type": "code",
   "execution_count": 148,
   "id": "thrown-block",
   "metadata": {},
   "outputs": [
    {
     "name": "stdout",
     "output_type": "stream",
     "text": [
      "Project has been created!\n"
     ]
    },
    {
     "name": "stderr",
     "output_type": "stream",
     "text": [
      "/home/ieo5417/Documenti/colon_paper/git/profiler/notebooks/paper_analysis/../../../../git/profiler/lib/profile_analysis_class.py:154: UserWarning: Folder input_data already exist...skipping\n",
      "  warnings.warn(\"Folder input_data already exist...skipping\",\n",
      "/home/ieo5417/Documenti/colon_paper/git/profiler/notebooks/paper_analysis/../../../../git/profiler/lib/profile_analysis_class.py:160: UserWarning: Folder data_raw already exist...skipping\n",
      "  warnings.warn(\"Folder data_raw already exist...skipping\",\n",
      "/home/ieo5417/Documenti/colon_paper/git/profiler/notebooks/paper_analysis/../../../../git/profiler/lib/profile_analysis_class.py:166: UserWarning: Folder data_clinical already exist...skipping\n",
      "  warnings.warn(\"Folder data_clinical already exist...skipping\",\n",
      "/home/ieo5417/Documenti/colon_paper/git/profiler/notebooks/paper_analysis/../../../../git/profiler/lib/profile_analysis_class.py:172: UserWarning: Folder sample_by_section already exist...skipping\n",
      "  warnings.warn(\"Folder sample_by_section already exist...skipping\",\n",
      "/home/ieo5417/Documenti/colon_paper/git/profiler/notebooks/paper_analysis/../../../../git/profiler/lib/profile_analysis_class.py:178: UserWarning: Folder data_fitting already exist...skipping\n",
      "  warnings.warn(\"Folder data_fitting already exist...skipping\",\n",
      "/home/ieo5417/Documenti/colon_paper/git/profiler/notebooks/paper_analysis/../../../../git/profiler/lib/profile_analysis_class.py:184: UserWarning: Folder rnd_data_fitting already exist...skipping\n",
      "  warnings.warn(\"Folder rnd_data_fitting already exist...skipping\",\n",
      "/home/ieo5417/Documenti/colon_paper/git/profiler/notebooks/paper_analysis/../../../../git/profiler/lib/profile_analysis_class.py:190: UserWarning: Folder figures already exist...skipping\n",
      "  warnings.warn(\"Folder figures already exist...skipping\",\n",
      "/home/ieo5417/Documenti/colon_paper/git/profiler/notebooks/paper_analysis/../../../../git/profiler/lib/profile_analysis_class.py:196: UserWarning: Folder output already exist...skipping\n",
      "  warnings.warn(\"Folder output already exist...skipping\",\n"
     ]
    }
   ],
   "source": [
    "# Create workflow class, specifying the path to the SETTINGS.ini file\n",
    "pa_sig = ProfileAnalysis('../../../../docker/analysis/signatures')"
   ]
  },
  {
   "cell_type": "markdown",
   "id": "upper-chicken",
   "metadata": {},
   "source": [
    "## Assign each sample in clinical data file to a colon section"
   ]
  },
  {
   "cell_type": "code",
   "execution_count": 149,
   "id": "american-selection",
   "metadata": {},
   "outputs": [],
   "source": [
    "pa_sig.create_samples_to_sections_table()"
   ]
  },
  {
   "cell_type": "markdown",
   "id": "qualified-intro",
   "metadata": {},
   "source": [
    "## Calculate median value for each colon section"
   ]
  },
  {
   "cell_type": "code",
   "execution_count": 150,
   "id": "natural-relation",
   "metadata": {},
   "outputs": [
    {
     "name": "stdout",
     "output_type": "stream",
     "text": [
      "This step has already been executed...loading results...\n",
      "This step has already been executed...loading results...\n"
     ]
    }
   ],
   "source": [
    "medians_sig, mad_sig = pa_sig.median_by_section()"
   ]
  },
  {
   "cell_type": "code",
   "execution_count": 151,
   "id": "broke-signature",
   "metadata": {},
   "outputs": [],
   "source": [
    "medians_sig = medians_sig[(medians_sig==0).sum(axis=1) < 5]"
   ]
  },
  {
   "cell_type": "markdown",
   "id": "anticipated-youth",
   "metadata": {},
   "source": [
    "## Fit Observables"
   ]
  },
  {
   "cell_type": "code",
   "execution_count": 152,
   "id": "plain-vocabulary",
   "metadata": {},
   "outputs": [
    {
     "name": "stdout",
     "output_type": "stream",
     "text": [
      "This step has already been executed...loading results...\n",
      "This step has already been executed...loading results...\n",
      "This step has already been executed...loading results...\n",
      "This step has already been executed...loading results...\n"
     ]
    }
   ],
   "source": [
    "scores_sig, poly_obs_scores_sig, sig_obs_scores_sig, poly_models_sig, sig_models_sig = pa_sig.fit_data(medians_sig, guess_bounds = True)"
   ]
  },
  {
   "cell_type": "markdown",
   "id": "derived-fortune",
   "metadata": {},
   "source": [
    "## Fit Random permutated data"
   ]
  },
  {
   "cell_type": "code",
   "execution_count": 153,
   "id": "blond-spirituality",
   "metadata": {},
   "outputs": [
    {
     "name": "stdout",
     "output_type": "stream",
     "text": [
      "This step has already been executed...loading results...\n",
      "This step has already been executed...loading results...\n",
      "This step has already been executed...loading results...\n"
     ]
    }
   ],
   "source": [
    "poly_perm_scores_sig, sig_perm_scores_sig, sig_perm_models_sig=pa_sig.fit_random_data(medians_sig, guess_bounds = True)"
   ]
  },
  {
   "cell_type": "markdown",
   "id": "electronic-dutch",
   "metadata": {},
   "source": [
    "## Compare obrservable vs permutated data"
   ]
  },
  {
   "cell_type": "code",
   "execution_count": 154,
   "id": "quantitative-victory",
   "metadata": {},
   "outputs": [
    {
     "name": "stderr",
     "output_type": "stream",
     "text": [
      "/home/ieo5417/Documenti/colon_paper/git/profiler/notebooks/paper_analysis/../../../../git/profiler/lib/profile_analysis_class.py:667: UserWarning: Matplotlib is currently using agg, which is a non-GUI backend, so cannot show the figure.\n",
      "  plt.show()\n",
      "/home/ieo5417/.local/lib/python3.8/site-packages/scipy/stats/_continuous_distns.py:709: RuntimeWarning: invalid value encountered in sqrt\n",
      "  sk = 2*(b-a)*np.sqrt(a + b + 1) / (a + b + 2) / np.sqrt(a*b)\n",
      "/home/ieo5417/.local/lib/python3.8/site-packages/scipy/optimize/_minpack_py.py:178: RuntimeWarning: The iteration is not making good progress, as measured by the \n",
      "  improvement from the last ten iterations.\n",
      "  warnings.warn(msg, RuntimeWarning)\n",
      "/home/ieo5417/Documenti/colon_paper/git/profiler/notebooks/paper_analysis/../../../../git/profiler/lib/profile_analysis_class.py:638: UserWarning: Matplotlib is currently using agg, which is a non-GUI backend, so cannot show the figure.\n",
      "  plt.show()\n",
      "/home/ieo5417/.local/lib/python3.8/site-packages/scipy/stats/_continuous_distns.py:709: RuntimeWarning: invalid value encountered in sqrt\n",
      "  sk = 2*(b-a)*np.sqrt(a + b + 1) / (a + b + 2) / np.sqrt(a*b)\n",
      "/home/ieo5417/.local/lib/python3.8/site-packages/scipy/optimize/_minpack_py.py:178: RuntimeWarning: The iteration is not making good progress, as measured by the \n",
      "  improvement from the last ten iterations.\n",
      "  warnings.warn(msg, RuntimeWarning)\n",
      "/home/ieo5417/Documenti/colon_paper/git/profiler/notebooks/paper_analysis/../../../../git/profiler/lib/profile_analysis_class.py:638: UserWarning: Matplotlib is currently using agg, which is a non-GUI backend, so cannot show the figure.\n",
      "  plt.show()\n",
      "/home/ieo5417/.local/lib/python3.8/site-packages/scipy/stats/_continuous_distns.py:709: RuntimeWarning: invalid value encountered in sqrt\n",
      "  sk = 2*(b-a)*np.sqrt(a + b + 1) / (a + b + 2) / np.sqrt(a*b)\n",
      "/home/ieo5417/.local/lib/python3.8/site-packages/scipy/optimize/_minpack_py.py:178: RuntimeWarning: The iteration is not making good progress, as measured by the \n",
      "  improvement from the last ten iterations.\n",
      "  warnings.warn(msg, RuntimeWarning)\n",
      "/home/ieo5417/Documenti/colon_paper/git/profiler/notebooks/paper_analysis/../../../../git/profiler/lib/profile_analysis_class.py:638: UserWarning: Matplotlib is currently using agg, which is a non-GUI backend, so cannot show the figure.\n",
      "  plt.show()\n",
      "/home/ieo5417/.local/lib/python3.8/site-packages/scipy/stats/_continuous_distns.py:709: RuntimeWarning: invalid value encountered in sqrt\n",
      "  sk = 2*(b-a)*np.sqrt(a + b + 1) / (a + b + 2) / np.sqrt(a*b)\n",
      "/home/ieo5417/.local/lib/python3.8/site-packages/scipy/optimize/_minpack_py.py:178: RuntimeWarning: The iteration is not making good progress, as measured by the \n",
      "  improvement from the last ten iterations.\n",
      "  warnings.warn(msg, RuntimeWarning)\n",
      "/home/ieo5417/Documenti/colon_paper/git/profiler/notebooks/paper_analysis/../../../../git/profiler/lib/profile_analysis_class.py:638: UserWarning: Matplotlib is currently using agg, which is a non-GUI backend, so cannot show the figure.\n",
      "  plt.show()\n"
     ]
    }
   ],
   "source": [
    "models_pvalue_sig, scores_table=pa_sig.plot_gof(poly_obs_scores_sig, sig_obs_scores_sig, poly_perm_scores_sig, sig_perm_scores_sig, dist_perm=True)"
   ]
  },
  {
   "cell_type": "code",
   "execution_count": 155,
   "id": "understanding-appeal",
   "metadata": {},
   "outputs": [],
   "source": [
    "poly_obs_scores_sig = pa_sig.select_significant_models(models_pvalue_sig, poly_obs_scores_sig)"
   ]
  },
  {
   "cell_type": "code",
   "execution_count": 156,
   "id": "golden-measurement",
   "metadata": {},
   "outputs": [],
   "source": [
    "backgrounds_sig = pa_sig.assemble_backgrounds(poly_obs_scores_sig, sig_perm_scores_sig, poly_perm_scores_sig)"
   ]
  },
  {
   "cell_type": "code",
   "execution_count": 157,
   "id": "dynamic-survival",
   "metadata": {},
   "outputs": [],
   "source": [
    "p_value_tables_sig = pa_sig.get_p_values(poly_obs_scores_sig, backgrounds_sig)"
   ]
  },
  {
   "cell_type": "code",
   "execution_count": 158,
   "id": "great-visit",
   "metadata": {},
   "outputs": [],
   "source": [
    "q_value_tables_sig = pa_sig.get_q_values(p_value_tables_sig, poly_obs_scores_sig)"
   ]
  },
  {
   "cell_type": "code",
   "execution_count": 159,
   "id": "sapphire-economy",
   "metadata": {},
   "outputs": [],
   "source": [
    "backgrounds_sig_str = {}\n",
    "for key in backgrounds_sig.keys():\n",
    "    backgrounds_sig_str[str(key)] = backgrounds_sig[key]"
   ]
  },
  {
   "cell_type": "code",
   "execution_count": 160,
   "id": "joint-narrative",
   "metadata": {},
   "outputs": [],
   "source": [
    "classification_sig = pa_sig.classify_genes(poly_obs_scores_sig, q_value_tables_sig, 0.2, 0.1)"
   ]
  },
  {
   "cell_type": "code",
   "execution_count": 161,
   "id": "behind-passing",
   "metadata": {},
   "outputs": [
    {
     "name": "stderr",
     "output_type": "stream",
     "text": [
      "<ipython-input-161-c3b54b7e813b>:1: FutureWarning: The default dtype for empty Series will be 'object' instead of 'float64' in a future version. Specify a dtype explicitly to silence this warning.\n",
      "  pd.DataFrame(dict([ (k,pd.Series(v)) for k,v in classification_sig.items() ])).to_csv(f'{pa_sig.output}/classification_sig.csv')\n"
     ]
    }
   ],
   "source": [
    "pd.DataFrame(dict([ (k,pd.Series(v)) for k,v in classification_sig.items() ])).to_csv(f'{pa_sig.output}/classification_sig.csv')"
   ]
  },
  {
   "cell_type": "code",
   "execution_count": 162,
   "id": "seeing-antique",
   "metadata": {},
   "outputs": [
    {
     "data": {
      "text/plain": [
       "{'sigmoid': ['SBS1'], 'discarded': [], 'continuous': ['SBS5']}"
      ]
     },
     "execution_count": 162,
     "metadata": {},
     "output_type": "execute_result"
    }
   ],
   "source": [
    "classification_sig"
   ]
  },
  {
   "cell_type": "code",
   "execution_count": 163,
   "id": "authorized-bones",
   "metadata": {},
   "outputs": [
    {
     "name": "stdout",
     "output_type": "stream",
     "text": [
      "sigmoid\n",
      "1\n",
      "discarded\n",
      "0\n",
      "continuous\n",
      "1\n"
     ]
    }
   ],
   "source": [
    "for key in classification_sig:\n",
    "    print(key)\n",
    "    print(len(classification_sig[key]))"
   ]
  },
  {
   "cell_type": "code",
   "execution_count": 164,
   "id": "simple-county",
   "metadata": {},
   "outputs": [],
   "source": [
    "from scipy.stats import mannwhitneyu, beta, median_abs_deviation, norm\n",
    "def calculate_median_by_section_numeric(measurements):\n",
    "    \"\"\"\n",
    "    Calculate samples median and mad values for each section.\n",
    "    Genes with a % of zero measurements above 'sample_0_t'\n",
    "    (defined in settings) are discarded from the analysis.\n",
    "\n",
    "    Parameters\n",
    "    ----------\n",
    "    measurements : DataFrame\n",
    "        table containing measurements for each sample\n",
    "\n",
    "    Returns\n",
    "    -------\n",
    "    medians_df : DataFrame\n",
    "        DataFrame with median values per section. If the number of zero\n",
    "        measurements is above 'sample_t_0' DataFrame will be empty.\n",
    "\n",
    "    mad_df : DataFrame\n",
    "        DataFrame with MAD for eah section.\n",
    "    \"\"\"\n",
    "    medians_df = pd.DataFrame()\n",
    "    mad_df = pd.DataFrame()\n",
    "    for index, feature in measurements.iterrows():\n",
    "        if int(feature.isin([0]).sum())/len(feature) <= pa_mic.sample_0_t:\n",
    "            for section in pa_mic.sections:\n",
    "                values = feature[pa_mic.samples2sections[section]]\n",
    "                median = np.mean(values)\n",
    "                mad = median_abs_deviation(values)\n",
    "                medians_df.loc[index, section] = median\n",
    "                mad_df.loc[index, section] = mad\n",
    "    if pa_mic.medians_nan == 'drop':\n",
    "        medians_df.dropna(inplace=True)\n",
    "    mad_df = mad_df.loc[medians_df.index]\n",
    "    return medians_df, mad_df\n",
    "\n",
    "def median_by_section():\n",
    "    \"\"\"\n",
    "    Wrapper of (calculate_median_by_section).Calculate gene expression\n",
    "    median and median absolute deviation (MAD) values for each section.\n",
    "\n",
    "    Parameters\n",
    "    ----------\n",
    "\n",
    "    Returns\n",
    "    -------\n",
    "    medians_df : DataFrame\n",
    "        DataFrame with median values per section. If the number of zero\n",
    "        measurment is above 'sample_t_0' DataFrame will be empty.\n",
    "\n",
    "    mad_df : DataFrame\n",
    "        DataFrame with MAD for eah section.\n",
    "    \"\"\"\n",
    "    load_results_median = pa_mic.check_step_completion('/'.join([pa_mic.sample_by_section, 'median_by_sections.csv']))\n",
    "    load_results_mad = pa_mic.check_step_completion('/'.join([pa_mic.sample_by_section, 'mad_by_sections.csv']))\n",
    "    if load_results_median.empty or load_results_mad.empty:\n",
    "        medians = pd.DataFrame()\n",
    "        mad = pd.DataFrame()\n",
    "        if pa_mic.data_type == 'numeric':\n",
    "            calc_res = Parallel(n_jobs=pa_mic.cores)(delayed(calculate_median_by_section_numeric)(group) for i, group in pa_mic.data_table.groupby(np.arange(len(pa_mic.data_table)) // pa_mic.cores))\n",
    "        elif pa_mic.data_type == 'binary':\n",
    "            calc_res = Parallel(n_jobs=pa_mic.cores)(delayed(calculate_median_by_section_binary)(group) for i, group in pa_mic.data_table.groupby(np.arange(len(pa_mic.data_table)) // pa_mic.cores))\n",
    "\n",
    "        for res in calc_res:\n",
    "            if not res[0].empty:\n",
    "                medians = pd.concat([medians, res[0]])\n",
    "                # medians.loc[res[0].index]=res[0]\n",
    "                # mad = mad.append(res[1])\n",
    "                mad = pd.concat([mad, res[1]])\n",
    "        medians.to_csv('/'.join([pa_mic.sample_by_section, 'median_by_sections.csv']))\n",
    "        mad.to_csv('/'.join([pa_mic.sample_by_section, 'mad_by_sections.csv']))\n",
    "    else:\n",
    "        medians = load_results_median\n",
    "        medians.columns.values[0] = pa_mic.index_col\n",
    "        medians.set_index(pa_mic.index_col, inplace=True)\n",
    "        mad = load_results_mad\n",
    "\n",
    "    return medians, mad"
   ]
  },
  {
   "cell_type": "markdown",
   "id": "imported-content",
   "metadata": {},
   "source": [
    "# MICROBIOME PROFILING"
   ]
  },
  {
   "cell_type": "code",
   "execution_count": 165,
   "id": "wrong-trial",
   "metadata": {},
   "outputs": [
    {
     "name": "stdout",
     "output_type": "stream",
     "text": [
      "Project has been created!\n"
     ]
    },
    {
     "name": "stderr",
     "output_type": "stream",
     "text": [
      "/home/ieo5417/Documenti/colon_paper/git/profiler/notebooks/paper_analysis/../../../../git/profiler/lib/profile_analysis_class.py:154: UserWarning: Folder input_data already exist...skipping\n",
      "  warnings.warn(\"Folder input_data already exist...skipping\",\n",
      "/home/ieo5417/Documenti/colon_paper/git/profiler/notebooks/paper_analysis/../../../../git/profiler/lib/profile_analysis_class.py:160: UserWarning: Folder data_raw already exist...skipping\n",
      "  warnings.warn(\"Folder data_raw already exist...skipping\",\n",
      "/home/ieo5417/Documenti/colon_paper/git/profiler/notebooks/paper_analysis/../../../../git/profiler/lib/profile_analysis_class.py:166: UserWarning: Folder data_clinical already exist...skipping\n",
      "  warnings.warn(\"Folder data_clinical already exist...skipping\",\n",
      "/home/ieo5417/Documenti/colon_paper/git/profiler/notebooks/paper_analysis/../../../../git/profiler/lib/profile_analysis_class.py:172: UserWarning: Folder sample_by_section already exist...skipping\n",
      "  warnings.warn(\"Folder sample_by_section already exist...skipping\",\n",
      "/home/ieo5417/Documenti/colon_paper/git/profiler/notebooks/paper_analysis/../../../../git/profiler/lib/profile_analysis_class.py:178: UserWarning: Folder data_fitting already exist...skipping\n",
      "  warnings.warn(\"Folder data_fitting already exist...skipping\",\n",
      "/home/ieo5417/Documenti/colon_paper/git/profiler/notebooks/paper_analysis/../../../../git/profiler/lib/profile_analysis_class.py:184: UserWarning: Folder rnd_data_fitting already exist...skipping\n",
      "  warnings.warn(\"Folder rnd_data_fitting already exist...skipping\",\n",
      "/home/ieo5417/Documenti/colon_paper/git/profiler/notebooks/paper_analysis/../../../../git/profiler/lib/profile_analysis_class.py:190: UserWarning: Folder figures already exist...skipping\n",
      "  warnings.warn(\"Folder figures already exist...skipping\",\n",
      "/home/ieo5417/Documenti/colon_paper/git/profiler/notebooks/paper_analysis/../../../../git/profiler/lib/profile_analysis_class.py:196: UserWarning: Folder output already exist...skipping\n",
      "  warnings.warn(\"Folder output already exist...skipping\",\n"
     ]
    }
   ],
   "source": [
    "# Create workflow class, specifying the path to the SETTINGS.ini file\n",
    "pa_mic = ProfileAnalysis('../../../../docker/analysis/microbiome')"
   ]
  },
  {
   "cell_type": "markdown",
   "id": "composite-philosophy",
   "metadata": {},
   "source": [
    "## Assign each sample in clinical data file to a colon section"
   ]
  },
  {
   "cell_type": "code",
   "execution_count": 166,
   "id": "smaller-validity",
   "metadata": {},
   "outputs": [],
   "source": [
    "pa_mic.create_samples_to_sections_table()"
   ]
  },
  {
   "cell_type": "markdown",
   "id": "neural-indonesia",
   "metadata": {},
   "source": [
    "## Calculate median value for each colon section"
   ]
  },
  {
   "cell_type": "code",
   "execution_count": 167,
   "id": "proprietary-monroe",
   "metadata": {},
   "outputs": [
    {
     "name": "stdout",
     "output_type": "stream",
     "text": [
      "This step has already been executed...loading results...\n",
      "This step has already been executed...loading results...\n"
     ]
    }
   ],
   "source": [
    "medians_mic, mad_mic = median_by_section()"
   ]
  },
  {
   "cell_type": "code",
   "execution_count": 168,
   "id": "pleased-reservation",
   "metadata": {},
   "outputs": [],
   "source": [
    "gmrepo = pd.read_csv('/home/ieo5417/Documenti/colon_paper/docker/analysis/microbiome/GMREPO_relative_abundance_of_all_species_genus_in_all_phenotypes_summary.tsv', skiprows=2, sep='\\t')"
   ]
  },
  {
   "cell_type": "code",
   "execution_count": 169,
   "id": "imperial-complement",
   "metadata": {},
   "outputs": [],
   "source": [
    "gmrepo = gmrepo[gmrepo['samples in which current taxon is found']>100]"
   ]
  },
  {
   "cell_type": "code",
   "execution_count": 170,
   "id": "moving-cooking",
   "metadata": {},
   "outputs": [],
   "source": [
    "gmspecies = gmrepo[gmrepo['taxonomic rank']=='species']\n",
    "species_to_keep = list(gmspecies['NCBI taxon ID'].unique())"
   ]
  },
  {
   "cell_type": "code",
   "execution_count": 171,
   "id": "governing-dispatch",
   "metadata": {},
   "outputs": [],
   "source": [
    "id_conversion_table=pd.read_csv('../../../../docker/analysis/microbiome/misc/all_species.txt', sep='\\t')\n",
    "id_conversion_table.set_index('tax_id', inplace=True)\n",
    "species_table = pd.DataFrame()\n",
    "not_found = []\n",
    "for index, row in medians_mic.iterrows():\n",
    "    if index in id_conversion_table.index:\n",
    "        species_table.loc[index,'species'] = id_conversion_table.loc[index,'taxon_name']\n",
    "        species_table.loc[index,'genus'] = id_conversion_table.loc[index,'taxon_name'].split('_')[0]\n",
    "    else:\n",
    "        not_found.append(index)"
   ]
  },
  {
   "cell_type": "code",
   "execution_count": 172,
   "id": "duplicate-evening",
   "metadata": {},
   "outputs": [],
   "source": [
    "mask = [id_ in species_to_keep for id_ in medians_mic.index]\n",
    "medians_mic = medians_mic.loc[mask]"
   ]
  },
  {
   "cell_type": "code",
   "execution_count": 173,
   "id": "concerned-republican",
   "metadata": {},
   "outputs": [],
   "source": [
    "medians_mic = medians_mic[(medians_mic == 0).sum(axis=1)<4]"
   ]
  },
  {
   "cell_type": "markdown",
   "id": "seeing-blocking",
   "metadata": {},
   "source": [
    "## Fit Observables"
   ]
  },
  {
   "cell_type": "code",
   "execution_count": 174,
   "id": "hairy-coating",
   "metadata": {},
   "outputs": [
    {
     "name": "stdout",
     "output_type": "stream",
     "text": [
      "This step has already been executed...loading results...\n",
      "This step has already been executed...loading results...\n",
      "This step has already been executed...loading results...\n",
      "This step has already been executed...loading results...\n"
     ]
    }
   ],
   "source": [
    "scores_mic, poly_obs_scores_mic, sig_obs_scores_mic, poly_models_mic, sig_models_mic = pa_mic.fit_data(medians_mic, guess_bounds = True)"
   ]
  },
  {
   "cell_type": "markdown",
   "id": "ordered-envelope",
   "metadata": {},
   "source": [
    "## Fit Random permutated data"
   ]
  },
  {
   "cell_type": "code",
   "execution_count": 175,
   "id": "dying-middle",
   "metadata": {},
   "outputs": [
    {
     "name": "stdout",
     "output_type": "stream",
     "text": [
      "This step has already been executed...loading results...\n",
      "This step has already been executed...loading results...\n",
      "This step has already been executed...loading results...\n"
     ]
    }
   ],
   "source": [
    "poly_perm_scores_mic, sig_perm_scores_mic, sig_perm_models_mic = pa_mic.fit_random_data(medians_mic, guess_bounds = True)"
   ]
  },
  {
   "cell_type": "markdown",
   "id": "previous-silver",
   "metadata": {},
   "source": [
    "## Compare obrservable vs permutated data"
   ]
  },
  {
   "cell_type": "code",
   "execution_count": 176,
   "id": "ruled-hungary",
   "metadata": {},
   "outputs": [
    {
     "name": "stderr",
     "output_type": "stream",
     "text": [
      "/home/ieo5417/Documenti/colon_paper/git/profiler/notebooks/paper_analysis/../../../../git/profiler/lib/profile_analysis_class.py:667: UserWarning: Matplotlib is currently using agg, which is a non-GUI backend, so cannot show the figure.\n",
      "  plt.show()\n",
      "/home/ieo5417/.local/lib/python3.8/site-packages/scipy/stats/_continuous_distns.py:709: RuntimeWarning: invalid value encountered in sqrt\n",
      "  sk = 2*(b-a)*np.sqrt(a + b + 1) / (a + b + 2) / np.sqrt(a*b)\n",
      "/home/ieo5417/Documenti/colon_paper/git/profiler/notebooks/paper_analysis/../../../../git/profiler/lib/profile_analysis_class.py:638: UserWarning: Matplotlib is currently using agg, which is a non-GUI backend, so cannot show the figure.\n",
      "  plt.show()\n",
      "/home/ieo5417/.local/lib/python3.8/site-packages/statsmodels/stats/multitest.py:327: RuntimeWarning: invalid value encountered in less_equal\n",
      "  reject = pvals_sorted <= ecdffactor*alpha\n",
      "/home/ieo5417/.local/lib/python3.8/site-packages/statsmodels/stats/multitest.py:333: RuntimeWarning: invalid value encountered in accumulate\n",
      "  pvals_corrected = np.minimum.accumulate(pvals_corrected_raw[::-1])[::-1]\n",
      "/home/ieo5417/.local/lib/python3.8/site-packages/statsmodels/stats/multitest.py:335: RuntimeWarning: invalid value encountered in greater\n",
      "  pvals_corrected[pvals_corrected>1] = 1\n",
      "/home/ieo5417/.local/lib/python3.8/site-packages/scipy/stats/_continuous_distns.py:709: RuntimeWarning: invalid value encountered in sqrt\n",
      "  sk = 2*(b-a)*np.sqrt(a + b + 1) / (a + b + 2) / np.sqrt(a*b)\n",
      "/home/ieo5417/Documenti/colon_paper/git/profiler/notebooks/paper_analysis/../../../../git/profiler/lib/profile_analysis_class.py:638: UserWarning: Matplotlib is currently using agg, which is a non-GUI backend, so cannot show the figure.\n",
      "  plt.show()\n",
      "/home/ieo5417/.local/lib/python3.8/site-packages/scipy/stats/_continuous_distns.py:709: RuntimeWarning: invalid value encountered in sqrt\n",
      "  sk = 2*(b-a)*np.sqrt(a + b + 1) / (a + b + 2) / np.sqrt(a*b)\n",
      "/home/ieo5417/Documenti/colon_paper/git/profiler/notebooks/paper_analysis/../../../../git/profiler/lib/profile_analysis_class.py:638: UserWarning: Matplotlib is currently using agg, which is a non-GUI backend, so cannot show the figure.\n",
      "  plt.show()\n",
      "/home/ieo5417/Documenti/colon_paper/git/profiler/notebooks/paper_analysis/../../../../git/profiler/lib/profile_analysis_class.py:638: UserWarning: Matplotlib is currently using agg, which is a non-GUI backend, so cannot show the figure.\n",
      "  plt.show()\n"
     ]
    }
   ],
   "source": [
    "models_pvalue_mic, scores_table = pa_mic.plot_gof(poly_obs_scores_mic, sig_obs_scores_mic, poly_perm_scores_mic, sig_perm_scores_mic, dist_perm=True)"
   ]
  },
  {
   "cell_type": "code",
   "execution_count": 177,
   "id": "supposed-artist",
   "metadata": {},
   "outputs": [
    {
     "data": {
      "text/plain": [
       "{'sigmoidal': [19228722.0, 0.9999996512819851, 0.9792131759121212],\n",
       " 1: [28120294.5, 0.002222588511645301, 0.4368332248476715],\n",
       " 2: [26945527.5, 0.21674933418183284, 0.7059207453619665],\n",
       " 3: [26966507.0, 0.20609842896875935, 0.8804665812832226]}"
      ]
     },
     "execution_count": 177,
     "metadata": {},
     "output_type": "execute_result"
    }
   ],
   "source": [
    "models_pvalue_mic"
   ]
  },
  {
   "cell_type": "code",
   "execution_count": 178,
   "id": "successful-newcastle",
   "metadata": {},
   "outputs": [],
   "source": [
    "poly_obs_scores_mic = pa_mic.select_significant_models(models_pvalue_mic, poly_obs_scores_mic)"
   ]
  },
  {
   "cell_type": "code",
   "execution_count": 179,
   "id": "musical-foster",
   "metadata": {},
   "outputs": [],
   "source": [
    "col=[]\n",
    "for column in poly_obs_scores_mic.columns:\n",
    "    if column != 'sigmoidal': \n",
    "        col.append(int(column))\n",
    "    else:\n",
    "        col.append('sigmoidal')\n",
    "poly_obs_scores_mic.columns = col"
   ]
  },
  {
   "cell_type": "code",
   "execution_count": 180,
   "id": "operational-designation",
   "metadata": {},
   "outputs": [],
   "source": [
    "backgrounds_mic = pa_mic.assemble_backgrounds(poly_obs_scores_mic, sig_perm_scores_mic, poly_perm_scores_mic)"
   ]
  },
  {
   "cell_type": "code",
   "execution_count": 181,
   "id": "quality-hamburg",
   "metadata": {},
   "outputs": [],
   "source": [
    "p_value_tables_mic = pa_mic.get_p_values(poly_obs_scores_mic, backgrounds_mic)"
   ]
  },
  {
   "cell_type": "code",
   "execution_count": 182,
   "id": "acoustic-contractor",
   "metadata": {},
   "outputs": [],
   "source": [
    "q_value_tables_mic = pa_mic.get_q_values(p_value_tables_mic, poly_obs_scores_mic)"
   ]
  },
  {
   "cell_type": "code",
   "execution_count": 183,
   "id": "editorial-implementation",
   "metadata": {},
   "outputs": [
    {
     "data": {
      "text/plain": [
       "Float64Index([  33038.0,     837.0,    1680.0,  658082.0,  398037.0,  301301.0,\n",
       "              1055487.0,  309120.0,  410072.0,   53443.0,   87883.0,  351091.0,\n",
       "               157688.0,  452623.0,  552810.0,  259537.0,   37928.0],\n",
       "             dtype='float64')"
      ]
     },
     "execution_count": 183,
     "metadata": {},
     "output_type": "execute_result"
    }
   ],
   "source": [
    "q_value_tables_mic[q_value_tables_mic[1]<=0.2].index"
   ]
  },
  {
   "cell_type": "code",
   "execution_count": 184,
   "id": "hispanic-marijuana",
   "metadata": {},
   "outputs": [],
   "source": [
    "backgrounds_mic_str = {}\n",
    "for key in backgrounds_mic.keys():\n",
    "    backgrounds_mic_str[str(key)] = backgrounds_mic[key]"
   ]
  },
  {
   "cell_type": "code",
   "execution_count": 185,
   "id": "vanilla-hotel",
   "metadata": {},
   "outputs": [],
   "source": [
    "classification_mic = pa_mic.classify_genes(poly_obs_scores_mic, q_value_tables_mic, 0.2, 0.1)"
   ]
  },
  {
   "cell_type": "code",
   "execution_count": 186,
   "id": "latest-lodging",
   "metadata": {},
   "outputs": [],
   "source": [
    "pd.DataFrame(dict([ (k,pd.Series(v)) for k,v in classification_mic.items() ])).to_csv(f'{pa_mic.output}/classification_mic.csv')"
   ]
  },
  {
   "cell_type": "markdown",
   "id": "curious-brighton",
   "metadata": {},
   "source": [
    "# IMMUNE CELLS PROFILING"
   ]
  },
  {
   "cell_type": "code",
   "execution_count": 187,
   "id": "according-warner",
   "metadata": {},
   "outputs": [
    {
     "name": "stdout",
     "output_type": "stream",
     "text": [
      "Project has been created!\n"
     ]
    },
    {
     "name": "stderr",
     "output_type": "stream",
     "text": [
      "/home/ieo5417/Documenti/colon_paper/git/profiler/notebooks/paper_analysis/../../../../git/profiler/lib/profile_analysis_class.py:154: UserWarning: Folder input_data already exist...skipping\n",
      "  warnings.warn(\"Folder input_data already exist...skipping\",\n",
      "/home/ieo5417/Documenti/colon_paper/git/profiler/notebooks/paper_analysis/../../../../git/profiler/lib/profile_analysis_class.py:160: UserWarning: Folder data_raw already exist...skipping\n",
      "  warnings.warn(\"Folder data_raw already exist...skipping\",\n",
      "/home/ieo5417/Documenti/colon_paper/git/profiler/notebooks/paper_analysis/../../../../git/profiler/lib/profile_analysis_class.py:166: UserWarning: Folder data_clinical already exist...skipping\n",
      "  warnings.warn(\"Folder data_clinical already exist...skipping\",\n",
      "/home/ieo5417/Documenti/colon_paper/git/profiler/notebooks/paper_analysis/../../../../git/profiler/lib/profile_analysis_class.py:172: UserWarning: Folder sample_by_section already exist...skipping\n",
      "  warnings.warn(\"Folder sample_by_section already exist...skipping\",\n",
      "/home/ieo5417/Documenti/colon_paper/git/profiler/notebooks/paper_analysis/../../../../git/profiler/lib/profile_analysis_class.py:178: UserWarning: Folder data_fitting already exist...skipping\n",
      "  warnings.warn(\"Folder data_fitting already exist...skipping\",\n",
      "/home/ieo5417/Documenti/colon_paper/git/profiler/notebooks/paper_analysis/../../../../git/profiler/lib/profile_analysis_class.py:184: UserWarning: Folder rnd_data_fitting already exist...skipping\n",
      "  warnings.warn(\"Folder rnd_data_fitting already exist...skipping\",\n",
      "/home/ieo5417/Documenti/colon_paper/git/profiler/notebooks/paper_analysis/../../../../git/profiler/lib/profile_analysis_class.py:190: UserWarning: Folder figures already exist...skipping\n",
      "  warnings.warn(\"Folder figures already exist...skipping\",\n",
      "/home/ieo5417/Documenti/colon_paper/git/profiler/notebooks/paper_analysis/../../../../git/profiler/lib/profile_analysis_class.py:196: UserWarning: Folder output already exist...skipping\n",
      "  warnings.warn(\"Folder output already exist...skipping\",\n"
     ]
    }
   ],
   "source": [
    "# Create workflow class, specifying the path to the SETTINGS.ini file\n",
    "pa_imm = ProfileAnalysis('../../../../docker/analysis/immune_cells')"
   ]
  },
  {
   "cell_type": "markdown",
   "id": "surrounded-niger",
   "metadata": {},
   "source": [
    "## Assign each sample in clinical data file to a colon section"
   ]
  },
  {
   "cell_type": "code",
   "execution_count": 188,
   "id": "hawaiian-generic",
   "metadata": {},
   "outputs": [],
   "source": [
    "pa_imm.create_samples_to_sections_table()"
   ]
  },
  {
   "cell_type": "markdown",
   "id": "sticky-truck",
   "metadata": {},
   "source": [
    "## Calculate median value for each colon section"
   ]
  },
  {
   "cell_type": "code",
   "execution_count": 189,
   "id": "monetary-webster",
   "metadata": {},
   "outputs": [
    {
     "name": "stdout",
     "output_type": "stream",
     "text": [
      "This step has already been executed...loading results...\n",
      "This step has already been executed...loading results...\n"
     ]
    }
   ],
   "source": [
    "medians_imm, mad_imm = pa_imm.median_by_section()"
   ]
  },
  {
   "cell_type": "markdown",
   "id": "chronic-jenny",
   "metadata": {},
   "source": [
    "## Fit Observables"
   ]
  },
  {
   "cell_type": "code",
   "execution_count": 190,
   "id": "informed-makeup",
   "metadata": {},
   "outputs": [
    {
     "name": "stdout",
     "output_type": "stream",
     "text": [
      "This step has already been executed...loading results...\n",
      "This step has already been executed...loading results...\n",
      "This step has already been executed...loading results...\n",
      "This step has already been executed...loading results...\n"
     ]
    }
   ],
   "source": [
    "scores_imm, poly_obs_scores_imm, sig_obs_scores_imm, poly_models_imm, sig_models_imm = pa_imm.fit_data(medians_imm, guess_bounds = True)"
   ]
  },
  {
   "cell_type": "markdown",
   "id": "given-doctor",
   "metadata": {},
   "source": [
    "## Fit Random permutated data"
   ]
  },
  {
   "cell_type": "code",
   "execution_count": 191,
   "id": "suspected-durham",
   "metadata": {},
   "outputs": [
    {
     "name": "stdout",
     "output_type": "stream",
     "text": [
      "This step has already been executed...loading results...\n",
      "This step has already been executed...loading results...\n",
      "This step has already been executed...loading results...\n"
     ]
    }
   ],
   "source": [
    "poly_perm_scores_imm, sig_perm_scores_imm, sig_perm_models_imm=pa_imm.fit_random_data(medians_imm, guess_bounds = True)"
   ]
  },
  {
   "cell_type": "markdown",
   "id": "about-essay",
   "metadata": {},
   "source": [
    "## Compare obrservable vs permutated data"
   ]
  },
  {
   "cell_type": "code",
   "execution_count": 192,
   "id": "analyzed-hartford",
   "metadata": {},
   "outputs": [
    {
     "name": "stderr",
     "output_type": "stream",
     "text": [
      "/home/ieo5417/Documenti/colon_paper/git/profiler/notebooks/paper_analysis/../../../../git/profiler/lib/profile_analysis_class.py:667: UserWarning: Matplotlib is currently using agg, which is a non-GUI backend, so cannot show the figure.\n",
      "  plt.show()\n",
      "/home/ieo5417/.local/lib/python3.8/site-packages/scipy/stats/_continuous_distns.py:709: RuntimeWarning: invalid value encountered in sqrt\n",
      "  sk = 2*(b-a)*np.sqrt(a + b + 1) / (a + b + 2) / np.sqrt(a*b)\n",
      "/home/ieo5417/Documenti/colon_paper/git/profiler/notebooks/paper_analysis/../../../../git/profiler/lib/profile_analysis_class.py:638: UserWarning: Matplotlib is currently using agg, which is a non-GUI backend, so cannot show the figure.\n",
      "  plt.show()\n",
      "/home/ieo5417/.local/lib/python3.8/site-packages/scipy/stats/_continuous_distns.py:709: RuntimeWarning: invalid value encountered in sqrt\n",
      "  sk = 2*(b-a)*np.sqrt(a + b + 1) / (a + b + 2) / np.sqrt(a*b)\n",
      "/home/ieo5417/Documenti/colon_paper/git/profiler/notebooks/paper_analysis/../../../../git/profiler/lib/profile_analysis_class.py:638: UserWarning: Matplotlib is currently using agg, which is a non-GUI backend, so cannot show the figure.\n",
      "  plt.show()\n",
      "/home/ieo5417/Documenti/colon_paper/git/profiler/notebooks/paper_analysis/../../../../git/profiler/lib/profile_analysis_class.py:638: UserWarning: Matplotlib is currently using agg, which is a non-GUI backend, so cannot show the figure.\n",
      "  plt.show()\n",
      "/home/ieo5417/.local/lib/python3.8/site-packages/scipy/stats/_continuous_distns.py:709: RuntimeWarning: invalid value encountered in sqrt\n",
      "  sk = 2*(b-a)*np.sqrt(a + b + 1) / (a + b + 2) / np.sqrt(a*b)\n",
      "/home/ieo5417/Documenti/colon_paper/git/profiler/notebooks/paper_analysis/../../../../git/profiler/lib/profile_analysis_class.py:638: UserWarning: Matplotlib is currently using agg, which is a non-GUI backend, so cannot show the figure.\n",
      "  plt.show()\n"
     ]
    }
   ],
   "source": [
    "models_pvalue_imm, scores_table=pa_imm.plot_gof(poly_obs_scores_imm, sig_obs_scores_imm, poly_perm_scores_imm, sig_perm_scores_imm, dist_perm=True)"
   ]
  },
  {
   "cell_type": "code",
   "execution_count": 193,
   "id": "geographic-evening",
   "metadata": {},
   "outputs": [
    {
     "data": {
      "text/plain": [
       "{'sigmoidal': [3570.0, 0.2433828513924995, 0.8084061471488586],\n",
       " 1: [5540.0, 0.028683752848333424, 0.4930886981230882],\n",
       " 2: [5253.0, 0.062476969704019975, 0.7030799177700063],\n",
       " 3: [5198.0, 0.07157899842862023, 0.8405262850281643]}"
      ]
     },
     "execution_count": 193,
     "metadata": {},
     "output_type": "execute_result"
    }
   ],
   "source": [
    "models_pvalue_imm"
   ]
  },
  {
   "cell_type": "code",
   "execution_count": 194,
   "id": "ranking-atlanta",
   "metadata": {},
   "outputs": [],
   "source": [
    "poly_obs_scores_imm = pa_imm.select_significant_models(models_pvalue_imm, poly_obs_scores_imm)"
   ]
  },
  {
   "cell_type": "code",
   "execution_count": 195,
   "id": "level-pioneer",
   "metadata": {},
   "outputs": [],
   "source": [
    "backgrounds_imm = pa_imm.assemble_backgrounds(poly_obs_scores_imm, sig_perm_scores_imm, poly_perm_scores_imm)"
   ]
  },
  {
   "cell_type": "code",
   "execution_count": 196,
   "id": "latin-certificate",
   "metadata": {},
   "outputs": [],
   "source": [
    "p_value_tables_imm = pa_imm.get_p_values(poly_obs_scores_imm, backgrounds_imm)"
   ]
  },
  {
   "cell_type": "code",
   "execution_count": 197,
   "id": "velvet-seating",
   "metadata": {},
   "outputs": [],
   "source": [
    "q_value_tables_imm = pa_imm.get_q_values(p_value_tables_imm, poly_obs_scores_imm)"
   ]
  },
  {
   "cell_type": "code",
   "execution_count": 198,
   "id": "disciplinary-monday",
   "metadata": {},
   "outputs": [
    {
     "data": {
      "text/html": [
       "<div>\n",
       "<style scoped>\n",
       "    .dataframe tbody tr th:only-of-type {\n",
       "        vertical-align: middle;\n",
       "    }\n",
       "\n",
       "    .dataframe tbody tr th {\n",
       "        vertical-align: top;\n",
       "    }\n",
       "\n",
       "    .dataframe thead th {\n",
       "        text-align: right;\n",
       "    }\n",
       "</style>\n",
       "<table border=\"1\" class=\"dataframe\">\n",
       "  <thead>\n",
       "    <tr style=\"text-align: right;\">\n",
       "      <th></th>\n",
       "      <th>1</th>\n",
       "    </tr>\n",
       "  </thead>\n",
       "  <tbody>\n",
       "    <tr>\n",
       "      <th>T cells CD8</th>\n",
       "      <td>0.016404</td>\n",
       "    </tr>\n",
       "    <tr>\n",
       "      <th>T cells CD4 memory resting</th>\n",
       "      <td>0.196583</td>\n",
       "    </tr>\n",
       "    <tr>\n",
       "      <th>T cells follicular helper</th>\n",
       "      <td>0.017924</td>\n",
       "    </tr>\n",
       "    <tr>\n",
       "      <th>Macrophages M0</th>\n",
       "      <td>0.011191</td>\n",
       "    </tr>\n",
       "  </tbody>\n",
       "</table>\n",
       "</div>"
      ],
      "text/plain": [
       "                                   1\n",
       "T cells CD8                 0.016404\n",
       "T cells CD4 memory resting  0.196583\n",
       "T cells follicular helper   0.017924\n",
       "Macrophages M0              0.011191"
      ]
     },
     "execution_count": 198,
     "metadata": {},
     "output_type": "execute_result"
    }
   ],
   "source": [
    "q_value_tables_imm[q_value_tables_imm[1]<0.2]"
   ]
  },
  {
   "cell_type": "code",
   "execution_count": 199,
   "id": "progressive-finding",
   "metadata": {},
   "outputs": [],
   "source": [
    "backgrounds_imm_str = {}\n",
    "for key in backgrounds_imm.keys():\n",
    "    backgrounds_imm_str[str(key)] = backgrounds_imm[key]"
   ]
  },
  {
   "cell_type": "code",
   "execution_count": 200,
   "id": "dimensional-portable",
   "metadata": {},
   "outputs": [],
   "source": [
    "classification_imm = pa_imm.classify_genes(poly_obs_scores_imm, q_value_tables_imm, 0.2, 0.1)"
   ]
  },
  {
   "cell_type": "code",
   "execution_count": 201,
   "id": "turkish-builder",
   "metadata": {},
   "outputs": [],
   "source": [
    "pd.DataFrame(dict([ (k,pd.Series(v)) for k,v in classification_imm.items() ])).to_csv(f'{pa_imm.output}/classification_imm.csv')"
   ]
  },
  {
   "cell_type": "code",
   "execution_count": 202,
   "id": "sunset-patient",
   "metadata": {},
   "outputs": [
    {
     "name": "stdout",
     "output_type": "stream",
     "text": [
      "continuous\n",
      "4\n"
     ]
    }
   ],
   "source": [
    "for key in classification_imm:\n",
    "    print(key)\n",
    "    print(len(classification_imm[key]))"
   ]
  },
  {
   "cell_type": "markdown",
   "id": "governing-margin",
   "metadata": {},
   "source": [
    "# METABOLITES PROFILING"
   ]
  },
  {
   "cell_type": "code",
   "execution_count": 203,
   "id": "informational-liberal",
   "metadata": {},
   "outputs": [
    {
     "name": "stdout",
     "output_type": "stream",
     "text": [
      "Project has been created!\n"
     ]
    },
    {
     "name": "stderr",
     "output_type": "stream",
     "text": [
      "/home/ieo5417/Documenti/colon_paper/git/profiler/notebooks/paper_analysis/../../../../git/profiler/lib/profile_analysis_class.py:154: UserWarning: Folder input_data already exist...skipping\n",
      "  warnings.warn(\"Folder input_data already exist...skipping\",\n",
      "/home/ieo5417/Documenti/colon_paper/git/profiler/notebooks/paper_analysis/../../../../git/profiler/lib/profile_analysis_class.py:160: UserWarning: Folder data_raw already exist...skipping\n",
      "  warnings.warn(\"Folder data_raw already exist...skipping\",\n",
      "/home/ieo5417/Documenti/colon_paper/git/profiler/notebooks/paper_analysis/../../../../git/profiler/lib/profile_analysis_class.py:166: UserWarning: Folder data_clinical already exist...skipping\n",
      "  warnings.warn(\"Folder data_clinical already exist...skipping\",\n",
      "/home/ieo5417/Documenti/colon_paper/git/profiler/notebooks/paper_analysis/../../../../git/profiler/lib/profile_analysis_class.py:172: UserWarning: Folder sample_by_section already exist...skipping\n",
      "  warnings.warn(\"Folder sample_by_section already exist...skipping\",\n",
      "/home/ieo5417/Documenti/colon_paper/git/profiler/notebooks/paper_analysis/../../../../git/profiler/lib/profile_analysis_class.py:178: UserWarning: Folder data_fitting already exist...skipping\n",
      "  warnings.warn(\"Folder data_fitting already exist...skipping\",\n",
      "/home/ieo5417/Documenti/colon_paper/git/profiler/notebooks/paper_analysis/../../../../git/profiler/lib/profile_analysis_class.py:184: UserWarning: Folder rnd_data_fitting already exist...skipping\n",
      "  warnings.warn(\"Folder rnd_data_fitting already exist...skipping\",\n",
      "/home/ieo5417/Documenti/colon_paper/git/profiler/notebooks/paper_analysis/../../../../git/profiler/lib/profile_analysis_class.py:190: UserWarning: Folder figures already exist...skipping\n",
      "  warnings.warn(\"Folder figures already exist...skipping\",\n",
      "/home/ieo5417/Documenti/colon_paper/git/profiler/notebooks/paper_analysis/../../../../git/profiler/lib/profile_analysis_class.py:196: UserWarning: Folder output already exist...skipping\n",
      "  warnings.warn(\"Folder output already exist...skipping\",\n"
     ]
    }
   ],
   "source": [
    "pa_met=ProfileAnalysis('../../../../docker/analysis/metabolites')"
   ]
  },
  {
   "cell_type": "markdown",
   "id": "incorrect-beatles",
   "metadata": {},
   "source": [
    "## Assign each sample in clinical data file to a colon section"
   ]
  },
  {
   "cell_type": "code",
   "execution_count": 204,
   "id": "level-fitting",
   "metadata": {},
   "outputs": [],
   "source": [
    "pa_met.create_samples_to_sections_table()"
   ]
  },
  {
   "cell_type": "markdown",
   "id": "loving-sucking",
   "metadata": {},
   "source": [
    "# Figure 2C"
   ]
  },
  {
   "cell_type": "code",
   "execution_count": 205,
   "id": "tender-extreme",
   "metadata": {},
   "outputs": [],
   "source": [
    "pa_met.plot_sample_distribution(title='IEO sample distribution')"
   ]
  },
  {
   "cell_type": "markdown",
   "id": "veterinary-steam",
   "metadata": {},
   "source": [
    "# Figure 2B"
   ]
  },
  {
   "cell_type": "code",
   "execution_count": 206,
   "id": "eleven-charles",
   "metadata": {},
   "outputs": [
    {
     "name": "stderr",
     "output_type": "stream",
     "text": [
      "<ipython-input-206-be7063c46826>:29: UserWarning: Matplotlib is currently using agg, which is a non-GUI backend, so cannot show the figure.\n",
      "  plt.show()\n"
     ]
    }
   ],
   "source": [
    "import numpy as np\n",
    "labels = ['Sigmoid', 'Continuous']\n",
    "metabolites = [0, 10]\n",
    "microbiome = [0, 17]\n",
    "immune = [0, 4]\n",
    "sbs=[1, 1]\n",
    "\n",
    "x = np.arange(len(labels))  # the label locations\n",
    "width = 0.15  # the width of the bars\n",
    "\n",
    "fig, ax = plt.subplots(figsize=(10,10))\n",
    "rects3 = ax.bar(x - width/2, immune, width, label='Immune cells', edgecolor='k')\n",
    "rects1 = ax.bar(x+width/2, metabolites, width, label='Metabolites', edgecolor='k')\n",
    "rects2 = ax.bar(x+width*1.5, microbiome, width, label='Microbes', edgecolor='k')\n",
    "# rects4 = ax.bar(x - width*1.5, sbs, width, label='Mutational Signatures', edgecolor='k')\n",
    "\n",
    "\n",
    "# Add some text for labels, title and custom x-axis tick labels, etc.\n",
    "ax.set_ylabel('Number of features')\n",
    "ax.set_xticks(x, labels)\n",
    "ax.legend(loc='upper left')\n",
    "\n",
    "ax.bar_label(rects1, padding=3)\n",
    "ax.bar_label(rects2, padding=3)\n",
    "ax.bar_label(rects3, padding=3)\n",
    "# ax.bar_label(rects4, padding=3)\n",
    "\n",
    "fig.tight_layout()\n",
    "plt.show()"
   ]
  },
  {
   "cell_type": "markdown",
   "id": "occupational-disney",
   "metadata": {},
   "source": [
    "## Calculate median value for each colon section"
   ]
  },
  {
   "cell_type": "code",
   "execution_count": 207,
   "id": "seven-death",
   "metadata": {},
   "outputs": [
    {
     "name": "stdout",
     "output_type": "stream",
     "text": [
      "This step has already been executed...loading results...\n",
      "This step has already been executed...loading results...\n"
     ]
    }
   ],
   "source": [
    "medians_met, mad_met=pa_met.median_by_section()"
   ]
  },
  {
   "cell_type": "code",
   "execution_count": 208,
   "id": "sunset-authentication",
   "metadata": {},
   "outputs": [],
   "source": [
    "medians_met = medians_met[medians_met.isna().sum(axis=1)<2]"
   ]
  },
  {
   "cell_type": "code",
   "execution_count": 209,
   "id": "verbal-piece",
   "metadata": {},
   "outputs": [
    {
     "data": {
      "text/html": [
       "<div>\n",
       "<style scoped>\n",
       "    .dataframe tbody tr th:only-of-type {\n",
       "        vertical-align: middle;\n",
       "    }\n",
       "\n",
       "    .dataframe tbody tr th {\n",
       "        vertical-align: top;\n",
       "    }\n",
       "\n",
       "    .dataframe thead th {\n",
       "        text-align: right;\n",
       "    }\n",
       "</style>\n",
       "<table border=\"1\" class=\"dataframe\">\n",
       "  <thead>\n",
       "    <tr style=\"text-align: right;\">\n",
       "      <th></th>\n",
       "      <th>Cecum</th>\n",
       "      <th>Ascending colon</th>\n",
       "      <th>Hepatic flexure of colon</th>\n",
       "      <th>Splenic flexure of colon</th>\n",
       "      <th>Descending colon</th>\n",
       "      <th>Sigmoid colon</th>\n",
       "      <th>Rectosigmoid junction</th>\n",
       "      <th>Rectum, NOS</th>\n",
       "    </tr>\n",
       "    <tr>\n",
       "      <th>metabolites</th>\n",
       "      <th></th>\n",
       "      <th></th>\n",
       "      <th></th>\n",
       "      <th></th>\n",
       "      <th></th>\n",
       "      <th></th>\n",
       "      <th></th>\n",
       "      <th></th>\n",
       "    </tr>\n",
       "  </thead>\n",
       "  <tbody>\n",
       "    <tr>\n",
       "      <th>49</th>\n",
       "      <td>0.916616</td>\n",
       "      <td>1.137239</td>\n",
       "      <td>2.802380</td>\n",
       "      <td>0.648456</td>\n",
       "      <td>1.269340</td>\n",
       "      <td>NaN</td>\n",
       "      <td>2.798767</td>\n",
       "      <td>4.794570</td>\n",
       "    </tr>\n",
       "    <tr>\n",
       "      <th>50</th>\n",
       "      <td>1.272790</td>\n",
       "      <td>1.911105</td>\n",
       "      <td>2.946900</td>\n",
       "      <td>1.279519</td>\n",
       "      <td>5.783875</td>\n",
       "      <td>2.953145</td>\n",
       "      <td>3.947325</td>\n",
       "      <td>3.587472</td>\n",
       "    </tr>\n",
       "    <tr>\n",
       "      <th>55</th>\n",
       "      <td>2.655592</td>\n",
       "      <td>2.484064</td>\n",
       "      <td>7.122336</td>\n",
       "      <td>3.048335</td>\n",
       "      <td>10.699613</td>\n",
       "      <td>4.873210</td>\n",
       "      <td>6.457502</td>\n",
       "      <td>5.667234</td>\n",
       "    </tr>\n",
       "    <tr>\n",
       "      <th>93</th>\n",
       "      <td>1.142999</td>\n",
       "      <td>0.749726</td>\n",
       "      <td>1.930918</td>\n",
       "      <td>0.817009</td>\n",
       "      <td>2.082914</td>\n",
       "      <td>1.826542</td>\n",
       "      <td>2.084325</td>\n",
       "      <td>1.009596</td>\n",
       "    </tr>\n",
       "    <tr>\n",
       "      <th>112</th>\n",
       "      <td>1.324899</td>\n",
       "      <td>1.132940</td>\n",
       "      <td>2.102044</td>\n",
       "      <td>1.212122</td>\n",
       "      <td>2.663467</td>\n",
       "      <td>1.078540</td>\n",
       "      <td>3.402928</td>\n",
       "      <td>1.740025</td>\n",
       "    </tr>\n",
       "    <tr>\n",
       "      <th>...</th>\n",
       "      <td>...</td>\n",
       "      <td>...</td>\n",
       "      <td>...</td>\n",
       "      <td>...</td>\n",
       "      <td>...</td>\n",
       "      <td>...</td>\n",
       "      <td>...</td>\n",
       "      <td>...</td>\n",
       "    </tr>\n",
       "    <tr>\n",
       "      <th>100015878</th>\n",
       "      <td>1.179367</td>\n",
       "      <td>0.614141</td>\n",
       "      <td>0.331211</td>\n",
       "      <td>1.344607</td>\n",
       "      <td>1.573660</td>\n",
       "      <td>0.970451</td>\n",
       "      <td>1.608553</td>\n",
       "      <td>0.384793</td>\n",
       "    </tr>\n",
       "    <tr>\n",
       "      <th>100015962</th>\n",
       "      <td>2.356501</td>\n",
       "      <td>0.912239</td>\n",
       "      <td>2.892607</td>\n",
       "      <td>1.451085</td>\n",
       "      <td>3.214546</td>\n",
       "      <td>1.910643</td>\n",
       "      <td>1.452099</td>\n",
       "      <td>1.639024</td>\n",
       "    </tr>\n",
       "    <tr>\n",
       "      <th>100019915</th>\n",
       "      <td>0.785966</td>\n",
       "      <td>0.545137</td>\n",
       "      <td>3.287475</td>\n",
       "      <td>1.295955</td>\n",
       "      <td>0.620813</td>\n",
       "      <td>2.648316</td>\n",
       "      <td>3.654804</td>\n",
       "      <td>1.583657</td>\n",
       "    </tr>\n",
       "    <tr>\n",
       "      <th>100020343</th>\n",
       "      <td>1.732048</td>\n",
       "      <td>NaN</td>\n",
       "      <td>0.796501</td>\n",
       "      <td>1.751876</td>\n",
       "      <td>1.333826</td>\n",
       "      <td>1.587142</td>\n",
       "      <td>2.128388</td>\n",
       "      <td>1.588270</td>\n",
       "    </tr>\n",
       "    <tr>\n",
       "      <th>100020487</th>\n",
       "      <td>4.143308</td>\n",
       "      <td>0.858633</td>\n",
       "      <td>2.724002</td>\n",
       "      <td>1.104818</td>\n",
       "      <td>0.719535</td>\n",
       "      <td>1.839066</td>\n",
       "      <td>2.441367</td>\n",
       "      <td>1.636914</td>\n",
       "    </tr>\n",
       "  </tbody>\n",
       "</table>\n",
       "<p>179 rows × 8 columns</p>\n",
       "</div>"
      ],
      "text/plain": [
       "                Cecum  Ascending colon  Hepatic flexure of colon  \\\n",
       "metabolites                                                        \n",
       "49           0.916616         1.137239                  2.802380   \n",
       "50           1.272790         1.911105                  2.946900   \n",
       "55           2.655592         2.484064                  7.122336   \n",
       "93           1.142999         0.749726                  1.930918   \n",
       "112          1.324899         1.132940                  2.102044   \n",
       "...               ...              ...                       ...   \n",
       "100015878    1.179367         0.614141                  0.331211   \n",
       "100015962    2.356501         0.912239                  2.892607   \n",
       "100019915    0.785966         0.545137                  3.287475   \n",
       "100020343    1.732048              NaN                  0.796501   \n",
       "100020487    4.143308         0.858633                  2.724002   \n",
       "\n",
       "             Splenic flexure of colon  Descending colon  Sigmoid colon  \\\n",
       "metabolites                                                              \n",
       "49                           0.648456          1.269340            NaN   \n",
       "50                           1.279519          5.783875       2.953145   \n",
       "55                           3.048335         10.699613       4.873210   \n",
       "93                           0.817009          2.082914       1.826542   \n",
       "112                          1.212122          2.663467       1.078540   \n",
       "...                               ...               ...            ...   \n",
       "100015878                    1.344607          1.573660       0.970451   \n",
       "100015962                    1.451085          3.214546       1.910643   \n",
       "100019915                    1.295955          0.620813       2.648316   \n",
       "100020343                    1.751876          1.333826       1.587142   \n",
       "100020487                    1.104818          0.719535       1.839066   \n",
       "\n",
       "             Rectosigmoid junction  Rectum, NOS  \n",
       "metabolites                                      \n",
       "49                        2.798767     4.794570  \n",
       "50                        3.947325     3.587472  \n",
       "55                        6.457502     5.667234  \n",
       "93                        2.084325     1.009596  \n",
       "112                       3.402928     1.740025  \n",
       "...                            ...          ...  \n",
       "100015878                 1.608553     0.384793  \n",
       "100015962                 1.452099     1.639024  \n",
       "100019915                 3.654804     1.583657  \n",
       "100020343                 2.128388     1.588270  \n",
       "100020487                 2.441367     1.636914  \n",
       "\n",
       "[179 rows x 8 columns]"
      ]
     },
     "execution_count": 209,
     "metadata": {},
     "output_type": "execute_result"
    }
   ],
   "source": [
    "medians_met"
   ]
  },
  {
   "cell_type": "code",
   "execution_count": 210,
   "id": "infinite-printing",
   "metadata": {},
   "outputs": [],
   "source": [
    "medians_met.fillna(0, inplace=True)"
   ]
  },
  {
   "cell_type": "code",
   "execution_count": 211,
   "id": "false-suffering",
   "metadata": {},
   "outputs": [],
   "source": [
    "medians_met = medians_met.loc[medians_met.median(axis=1)>1]"
   ]
  },
  {
   "cell_type": "markdown",
   "id": "greek-pharmacology",
   "metadata": {},
   "source": [
    "## Fit Observables"
   ]
  },
  {
   "cell_type": "code",
   "execution_count": 212,
   "id": "duplicate-horizontal",
   "metadata": {},
   "outputs": [
    {
     "name": "stdout",
     "output_type": "stream",
     "text": [
      "This step has already been executed...loading results...\n",
      "This step has already been executed...loading results...\n",
      "This step has already been executed...loading results...\n",
      "This step has already been executed...loading results...\n"
     ]
    }
   ],
   "source": [
    "models_scores_met, poly_obs_fit_scores_met, sig_obs_fit_scores_met, poly_models_met, sig_models_met=pa_met.fit_data(medians_met, guess_bounds = True)"
   ]
  },
  {
   "cell_type": "markdown",
   "id": "ready-insulin",
   "metadata": {},
   "source": [
    "## Fit Random permutated data"
   ]
  },
  {
   "cell_type": "code",
   "execution_count": 213,
   "id": "finite-seminar",
   "metadata": {},
   "outputs": [
    {
     "name": "stdout",
     "output_type": "stream",
     "text": [
      "This step has already been executed...loading results...\n",
      "This step has already been executed...loading results...\n",
      "This step has already been executed...loading results...\n"
     ]
    }
   ],
   "source": [
    "poly_perm_fit_scores_met, sig_perm_fit_scores_met, sig_perm_models_met=pa_met.fit_random_data(medians_met, guess_bounds = True)"
   ]
  },
  {
   "cell_type": "markdown",
   "id": "arabic-provision",
   "metadata": {},
   "source": [
    "## Compare obrservable vs permutated data"
   ]
  },
  {
   "cell_type": "code",
   "execution_count": 214,
   "id": "cooked-creature",
   "metadata": {},
   "outputs": [
    {
     "name": "stderr",
     "output_type": "stream",
     "text": [
      "/home/ieo5417/Documenti/colon_paper/git/profiler/notebooks/paper_analysis/../../../../git/profiler/lib/profile_analysis_class.py:667: UserWarning: Matplotlib is currently using agg, which is a non-GUI backend, so cannot show the figure.\n",
      "  plt.show()\n",
      "/home/ieo5417/Documenti/colon_paper/git/profiler/notebooks/paper_analysis/../../../../git/profiler/lib/profile_analysis_class.py:638: UserWarning: Matplotlib is currently using agg, which is a non-GUI backend, so cannot show the figure.\n",
      "  plt.show()\n",
      "/home/ieo5417/.local/lib/python3.8/site-packages/statsmodels/stats/multitest.py:327: RuntimeWarning: invalid value encountered in less_equal\n",
      "  reject = pvals_sorted <= ecdffactor*alpha\n",
      "/home/ieo5417/.local/lib/python3.8/site-packages/statsmodels/stats/multitest.py:333: RuntimeWarning: invalid value encountered in accumulate\n",
      "  pvals_corrected = np.minimum.accumulate(pvals_corrected_raw[::-1])[::-1]\n",
      "/home/ieo5417/.local/lib/python3.8/site-packages/statsmodels/stats/multitest.py:335: RuntimeWarning: invalid value encountered in greater\n",
      "  pvals_corrected[pvals_corrected>1] = 1\n",
      "/home/ieo5417/.local/lib/python3.8/site-packages/scipy/stats/_continuous_distns.py:709: RuntimeWarning: invalid value encountered in sqrt\n",
      "  sk = 2*(b-a)*np.sqrt(a + b + 1) / (a + b + 2) / np.sqrt(a*b)\n",
      "/home/ieo5417/Documenti/colon_paper/git/profiler/notebooks/paper_analysis/../../../../git/profiler/lib/profile_analysis_class.py:638: UserWarning: Matplotlib is currently using agg, which is a non-GUI backend, so cannot show the figure.\n",
      "  plt.show()\n",
      "/home/ieo5417/Documenti/colon_paper/git/profiler/notebooks/paper_analysis/../../../../git/profiler/lib/profile_analysis_class.py:638: UserWarning: Matplotlib is currently using agg, which is a non-GUI backend, so cannot show the figure.\n",
      "  plt.show()\n",
      "/home/ieo5417/Documenti/colon_paper/git/profiler/notebooks/paper_analysis/../../../../git/profiler/lib/profile_analysis_class.py:638: UserWarning: Matplotlib is currently using agg, which is a non-GUI backend, so cannot show the figure.\n",
      "  plt.show()\n"
     ]
    }
   ],
   "source": [
    "models_pvalue_table_met, scores_table=pa_met.plot_gof(poly_obs_fit_scores_met, sig_obs_fit_scores_met, poly_perm_fit_scores_met, sig_perm_fit_scores_met)"
   ]
  },
  {
   "cell_type": "code",
   "execution_count": 215,
   "id": "powerful-style",
   "metadata": {},
   "outputs": [
    {
     "data": {
      "text/plain": [
       "{'sigmoidal': [1316598.0, 0.9566746155699346, 0.7988985985265682],\n",
       " 1: [1611086.0, 0.04124031188292741, 0.4942916822293544],\n",
       " 2: [1503774.0, 0.4558341021896764, 0.7186487932334056],\n",
       " 3: [1375318.0, 0.9667386923914669, 0.8365184631833656]}"
      ]
     },
     "execution_count": 215,
     "metadata": {},
     "output_type": "execute_result"
    }
   ],
   "source": [
    "models_pvalue_table_met"
   ]
  },
  {
   "cell_type": "code",
   "execution_count": 216,
   "id": "guilty-choice",
   "metadata": {},
   "outputs": [],
   "source": [
    "poly_obs_fit_scores_met = pa_met.select_significant_models(models_pvalue_table_met, poly_obs_fit_scores_met)"
   ]
  },
  {
   "cell_type": "code",
   "execution_count": 217,
   "id": "photographic-hopkins",
   "metadata": {},
   "outputs": [],
   "source": [
    "backgrounds_met = pa_met.assemble_backgrounds(poly_obs_fit_scores_met, sig_perm_fit_scores_met, poly_perm_fit_scores_met)"
   ]
  },
  {
   "cell_type": "code",
   "execution_count": 218,
   "id": "perceived-rwanda",
   "metadata": {},
   "outputs": [],
   "source": [
    "p_value_tables_met = pa_met.get_p_values(poly_obs_fit_scores_met, backgrounds_met)"
   ]
  },
  {
   "cell_type": "code",
   "execution_count": 219,
   "id": "norman-reviewer",
   "metadata": {},
   "outputs": [],
   "source": [
    "q_value_tables_met = pa_met.get_q_values(p_value_tables_met, poly_obs_fit_scores_met)"
   ]
  },
  {
   "cell_type": "code",
   "execution_count": 220,
   "id": "sitting-rainbow",
   "metadata": {},
   "outputs": [],
   "source": [
    "backgrounds_met_str = {}\n",
    "for key in backgrounds_met.keys():\n",
    "    backgrounds_met_str[str(key)] = backgrounds_met[key]"
   ]
  },
  {
   "cell_type": "code",
   "execution_count": 221,
   "id": "reverse-cylinder",
   "metadata": {},
   "outputs": [],
   "source": [
    "classification_met = pa_met.classify_genes(poly_obs_fit_scores_met, q_value_tables_met,0.2, 0.1)"
   ]
  },
  {
   "cell_type": "code",
   "execution_count": 222,
   "id": "systematic-apparatus",
   "metadata": {},
   "outputs": [],
   "source": [
    "pd.DataFrame(dict([ (k,pd.Series(v)) for k,v in classification_met.items() ])).to_csv(f'{pa_met.output}/classification_met.csv')"
   ]
  },
  {
   "cell_type": "code",
   "execution_count": 223,
   "id": "featured-hampton",
   "metadata": {},
   "outputs": [
    {
     "name": "stdout",
     "output_type": "stream",
     "text": [
      "continuous\n",
      "10\n"
     ]
    }
   ],
   "source": [
    "for key in classification_met:\n",
    "    print(key)\n",
    "    print(len(classification_met[key]))"
   ]
  },
  {
   "cell_type": "code",
   "execution_count": 224,
   "id": "promotional-absolute",
   "metadata": {},
   "outputs": [],
   "source": [
    "name_conversion = pd.read_csv('../../../../docker/analysis/metabolites/metabolites_id_to_names.csv')\n",
    "name_dict={}\n",
    "for index in q_value_tables_met[q_value_tables_met['1']<0.2].index:\n",
    "    name_dict[index]=name_conversion[name_conversion['CHEM_ID']==index]['CHEMICAL_NAME'].item()\n",
    "metabolites_name_df=pd.DataFrame(name_dict, index=['metabolite name']).T"
   ]
  },
  {
   "cell_type": "code",
   "execution_count": 225,
   "id": "immediate-ethiopia",
   "metadata": {},
   "outputs": [
    {
     "data": {
      "text/html": [
       "<div>\n",
       "<style scoped>\n",
       "    .dataframe tbody tr th:only-of-type {\n",
       "        vertical-align: middle;\n",
       "    }\n",
       "\n",
       "    .dataframe tbody tr th {\n",
       "        vertical-align: top;\n",
       "    }\n",
       "\n",
       "    .dataframe thead th {\n",
       "        text-align: right;\n",
       "    }\n",
       "</style>\n",
       "<table border=\"1\" class=\"dataframe\">\n",
       "  <thead>\n",
       "    <tr style=\"text-align: right;\">\n",
       "      <th></th>\n",
       "      <th>metabolite name</th>\n",
       "    </tr>\n",
       "  </thead>\n",
       "  <tbody>\n",
       "    <tr>\n",
       "      <th>197.0</th>\n",
       "      <td>S-adenosylhomocysteine (SAH)</td>\n",
       "    </tr>\n",
       "    <tr>\n",
       "      <th>439.0</th>\n",
       "      <td>stearate (18:0)</td>\n",
       "    </tr>\n",
       "    <tr>\n",
       "      <th>507.0</th>\n",
       "      <td>spermine</td>\n",
       "    </tr>\n",
       "    <tr>\n",
       "      <th>798.0</th>\n",
       "      <td>adenosine</td>\n",
       "    </tr>\n",
       "    <tr>\n",
       "      <th>1087.0</th>\n",
       "      <td>erucate (22:1n9)</td>\n",
       "    </tr>\n",
       "    <tr>\n",
       "      <th>1124.0</th>\n",
       "      <td>citrate</td>\n",
       "    </tr>\n",
       "    <tr>\n",
       "      <th>100001054.0</th>\n",
       "      <td>butyrylcarnitine (C4)</td>\n",
       "    </tr>\n",
       "    <tr>\n",
       "      <th>100001162.0</th>\n",
       "      <td>propionylcarnitine (C3)</td>\n",
       "    </tr>\n",
       "    <tr>\n",
       "      <th>100001335.0</th>\n",
       "      <td>eicosenoate (20:1)</td>\n",
       "    </tr>\n",
       "    <tr>\n",
       "      <th>100008930.0</th>\n",
       "      <td>oleate/vaccenate (18:1)</td>\n",
       "    </tr>\n",
       "  </tbody>\n",
       "</table>\n",
       "</div>"
      ],
      "text/plain": [
       "                          metabolite name\n",
       "197.0        S-adenosylhomocysteine (SAH)\n",
       "439.0                     stearate (18:0)\n",
       "507.0                            spermine\n",
       "798.0                           adenosine\n",
       "1087.0                   erucate (22:1n9)\n",
       "1124.0                            citrate\n",
       "100001054.0         butyrylcarnitine (C4)\n",
       "100001162.0       propionylcarnitine (C3)\n",
       "100001335.0            eicosenoate (20:1)\n",
       "100008930.0       oleate/vaccenate (18:1)"
      ]
     },
     "execution_count": 225,
     "metadata": {},
     "output_type": "execute_result"
    }
   ],
   "source": [
    "metabolites_name_df"
   ]
  },
  {
   "cell_type": "code",
   "execution_count": 226,
   "id": "thrown-heavy",
   "metadata": {},
   "outputs": [],
   "source": [
    "import math\n",
    "\n",
    "def summary_profile_plot(medians, mad, indexes, metabolite_names, poly_models):\n",
    "    if 'Unnamed: 0' in mad_met.columns:\n",
    "        mad_met.set_index('Unnamed: 0', inplace=True)\n",
    "    data=medians.loc[indexes]\n",
    "    data_err=mad.loc[indexes]\n",
    "    data.fillna(0, inplace=True)\n",
    "    \n",
    "    x = np.linspace(pa_met.x[0], pa_met.x[-1], 1000)\n",
    "    degree = 1\n",
    "    y = np.polynomial.polynomial.polyval(x, poly_models[degree][data.index[0]])\n",
    "    \n",
    "    n = 0    \n",
    "    fig = plt.figure(figsize=(15, 15))\n",
    "    axes=[]\n",
    "    ax_base = plt.subplot2grid((9,2), (0,0))\n",
    "    axes.append(ax_base)\n",
    "    ax_base.errorbar(pa_met.x, data.loc[data.index[0]], yerr=data_err.loc[data.index[0]],\n",
    "                     label=metabolite_names.loc[data.index[0]].item(),\n",
    "                    marker='o', markeredgecolor='k', markerfacecolor='red', color='k')\n",
    "    ax_base.plot(x, y, color='red', ls='-', linewidth=2, alpha=0.7)\n",
    "    max_lim = math.ceil(data_err.loc[data.index[0]].max()+data.loc[data.index[0]].max())\n",
    "    ax_base.axis(ymin=0, ymax=max_lim)\n",
    "    ax_base.set_yticks([0, max_lim]) \n",
    "    ax_base.set_yticklabels([str(0), str(max_lim)], fontsize=15)\n",
    "    ax_base.set_title(metabolite_names.loc[data.index[0]].item(), y=1.0, x=0.01, pad=-17, loc='left', fontsize=12)\n",
    "    l=1\n",
    "    h=0\n",
    "    for index in data.index[1:len(data.index)]:\n",
    "        degree = 1\n",
    "        y = np.polynomial.polynomial.polyval(x, poly_models[degree][index])\n",
    "        ax = plt.subplot2grid((9,2), (h,l), sharex=ax_base)\n",
    "        axes.append(ax)\n",
    "        markers, caps, bars = ax.errorbar(pa_met.x, data.loc[index], yerr=data_err.loc[index], label=metabolite_names.loc[index],\n",
    "                    marker='o', markeredgecolor='k', markerfacecolor='red', color='k')\n",
    "        ax.plot(x, y, color='red', ls='-', linewidth=2, alpha=0.7)\n",
    "        ax.set_xticks(pa_met.x)\n",
    "        ax.set_xticklabels(pa_met.sections4plots, rotation=45, ha='right', fontsize=15)\n",
    "        max_lim = math.ceil(data_err.loc[index].max()+data.loc[index].max())\n",
    "        ax.axis(ymin=0, ymax=max_lim)\n",
    "        ax.set_yticks([0, max_lim])\n",
    "        ax.set_yticklabels([str(0), str(max_lim)], fontsize=15)\n",
    "        ax.set_title(metabolite_names.loc[index].item(), y=1.0, x=0.01, pad=-17, loc='left', fontsize=12)\n",
    "        l = l+1\n",
    "        if l == 2:\n",
    "            h = h+1\n",
    "            l = 0\n",
    "    fig.subplots_adjust(hspace=0.25)   \n",
    "    for ax in axes[0:-2]:\n",
    "        plt.setp(ax.get_xticklabels(), visible=False)    \n",
    "    plt.savefig('/'.join([pa_transcriptome.figures, 'continuous_metabolites.svg']), format='svg')"
   ]
  },
  {
   "cell_type": "markdown",
   "id": "juvenile-learning",
   "metadata": {},
   "source": [
    "# Correlation metabolites/microbes"
   ]
  },
  {
   "cell_type": "code",
   "execution_count": 227,
   "id": "possible-swing",
   "metadata": {},
   "outputs": [],
   "source": [
    "metabolite_names = pd.read_csv('../../../../docker/analysis/metabolites/metabolites_id_to_names.csv')\n",
    "\n",
    "metabolites_medians = medians_met.loc[q_value_tables_met[q_value_tables_met['1']<0.2].index]\n",
    "metabolites_medians.fillna(0, inplace=True)\n",
    "\n",
    "for index in metabolites_medians.index:\n",
    "    metabolites_medians.loc[index, 'name'] = metabolite_names[metabolite_names['CHEM_ID']==index]['CHEMICAL_NAME'].item()\n",
    "metabolites_medians.set_index('name', inplace=True)"
   ]
  },
  {
   "cell_type": "code",
   "execution_count": 228,
   "id": "public-eating",
   "metadata": {},
   "outputs": [],
   "source": [
    "# microbes = pd.read_csv('/home/ieo5417/Documenti/colon_paper/docker/analysis/microbiome/output/continuum.csv')\n",
    "# microbes.set_index('Unnamed: 0', inplace=True)\n",
    "microbes_names = pd.read_csv('../../../../docker/analysis/microbiome/misc/all_species.txt', sep='\\t')\n",
    "\n",
    "# microbes_medians = pd.read_csv('/home/ieo5417/Documenti/colon_paper/docker/analysis/microbiome/sample_by_section_1/median_by_sections.csv')\n",
    "# microbes_medians.set_index('Unnamed: 0', inplace=True)\n",
    "microbes_medians = medians_mic.loc[q_value_tables_mic[q_value_tables_mic['1']<0.2].index]\n",
    "microbes_medians.dropna(inplace=True)\n",
    "for index in microbes_medians.index:\n",
    "    if index in list(microbes_names['tax_id']):\n",
    "        microbes_medians.loc[index, 'name'] = microbes_names[microbes_names['tax_id']==index]['taxon_name'].item()\n",
    "microbes_medians.dropna(inplace=True)\n",
    "microbes_medians.set_index('name', inplace=True)"
   ]
  },
  {
   "cell_type": "code",
   "execution_count": 229,
   "id": "deluxe-management",
   "metadata": {},
   "outputs": [],
   "source": [
    "i=1\n",
    "correlations = pd.DataFrame()\n",
    "corr_mtrx = pd.DataFrame()\n",
    "p_mtrx = pd.DataFrame()\n",
    "for index_met, row_met in metabolites_medians.iterrows():\n",
    "    for index_micro, row_micro in microbes_medians.iterrows():\n",
    "#         temp=row_met.drop(['Splenic flexure of colon','Descending colon','Rectosigmoid junction'])\n",
    "        stat,p = scipy.stats.pearsonr(row_met, row_micro)\n",
    "        correlations.loc[i,'microbe'] = index_micro\n",
    "        correlations.loc[i,'metabolite'] = index_met\n",
    "        correlations.loc[i,'pearson'] = stat\n",
    "        correlations.loc[i,'p-pearson'] = p\n",
    "        corr_mtrx.loc[index_met,index_micro] = stat\n",
    "        p_mtrx.loc[index_met,index_micro] = p\n",
    "        stat,p = scipy.stats.spearmanr(row_met, row_micro)\n",
    "        correlations.loc[i,'spearman'] = stat\n",
    "        correlations.loc[i,'p-spearman'] = p\n",
    "        correlations.loc[i,'genus'] = index_micro.split('_')[0]\n",
    "        i=i+1\n",
    "correlations['q-value'] = fdrcorrection(correlations['p-pearson'])[1]"
   ]
  },
  {
   "cell_type": "code",
   "execution_count": 230,
   "id": "numerical-genre",
   "metadata": {},
   "outputs": [
    {
     "data": {
      "text/html": [
       "<div>\n",
       "<style scoped>\n",
       "    .dataframe tbody tr th:only-of-type {\n",
       "        vertical-align: middle;\n",
       "    }\n",
       "\n",
       "    .dataframe tbody tr th {\n",
       "        vertical-align: top;\n",
       "    }\n",
       "\n",
       "    .dataframe thead th {\n",
       "        text-align: right;\n",
       "    }\n",
       "</style>\n",
       "<table border=\"1\" class=\"dataframe\">\n",
       "  <thead>\n",
       "    <tr style=\"text-align: right;\">\n",
       "      <th></th>\n",
       "      <th>microbe</th>\n",
       "      <th>metabolite</th>\n",
       "      <th>pearson</th>\n",
       "      <th>p-pearson</th>\n",
       "      <th>spearman</th>\n",
       "      <th>p-spearman</th>\n",
       "      <th>genus</th>\n",
       "      <th>q-value</th>\n",
       "    </tr>\n",
       "  </thead>\n",
       "  <tbody>\n",
       "    <tr>\n",
       "      <th>1</th>\n",
       "      <td>[Ruminococcus]_gnavus</td>\n",
       "      <td>S-adenosylhomocysteine (SAH)</td>\n",
       "      <td>-0.612571</td>\n",
       "      <td>0.106413</td>\n",
       "      <td>-0.690476</td>\n",
       "      <td>0.057990</td>\n",
       "      <td>[Ruminococcus]</td>\n",
       "      <td>0.190423</td>\n",
       "    </tr>\n",
       "    <tr>\n",
       "      <th>2</th>\n",
       "      <td>Porphyromonas_gingivalis</td>\n",
       "      <td>S-adenosylhomocysteine (SAH)</td>\n",
       "      <td>-0.822500</td>\n",
       "      <td>0.012186</td>\n",
       "      <td>-0.910196</td>\n",
       "      <td>0.001691</td>\n",
       "      <td>Porphyromonas</td>\n",
       "      <td>0.098982</td>\n",
       "    </tr>\n",
       "    <tr>\n",
       "      <th>3</th>\n",
       "      <td>Bifidobacterium_adolescentis</td>\n",
       "      <td>S-adenosylhomocysteine (SAH)</td>\n",
       "      <td>0.745173</td>\n",
       "      <td>0.033865</td>\n",
       "      <td>0.428571</td>\n",
       "      <td>0.289403</td>\n",
       "      <td>Bifidobacterium</td>\n",
       "      <td>0.118294</td>\n",
       "    </tr>\n",
       "    <tr>\n",
       "      <th>4</th>\n",
       "      <td>Lachnospiraceae_bacterium_2_1_58FAA</td>\n",
       "      <td>S-adenosylhomocysteine (SAH)</td>\n",
       "      <td>-0.574122</td>\n",
       "      <td>0.136680</td>\n",
       "      <td>-0.666667</td>\n",
       "      <td>0.070988</td>\n",
       "      <td>Lachnospiraceae</td>\n",
       "      <td>0.208073</td>\n",
       "    </tr>\n",
       "    <tr>\n",
       "      <th>5</th>\n",
       "      <td>Segetibacter_koreensis</td>\n",
       "      <td>S-adenosylhomocysteine (SAH)</td>\n",
       "      <td>-0.819371</td>\n",
       "      <td>0.012809</td>\n",
       "      <td>-0.952381</td>\n",
       "      <td>0.000260</td>\n",
       "      <td>Segetibacter</td>\n",
       "      <td>0.098982</td>\n",
       "    </tr>\n",
       "    <tr>\n",
       "      <th>...</th>\n",
       "      <td>...</td>\n",
       "      <td>...</td>\n",
       "      <td>...</td>\n",
       "      <td>...</td>\n",
       "      <td>...</td>\n",
       "      <td>...</td>\n",
       "      <td>...</td>\n",
       "      <td>...</td>\n",
       "    </tr>\n",
       "    <tr>\n",
       "      <th>166</th>\n",
       "      <td>Leptotrichia_hofstadii</td>\n",
       "      <td>oleate/vaccenate (18:1)</td>\n",
       "      <td>-0.729847</td>\n",
       "      <td>0.039844</td>\n",
       "      <td>-0.595238</td>\n",
       "      <td>0.119530</td>\n",
       "      <td>Leptotrichia</td>\n",
       "      <td>0.118294</td>\n",
       "    </tr>\n",
       "    <tr>\n",
       "      <th>167</th>\n",
       "      <td>Pseudoclavibacter_soli</td>\n",
       "      <td>oleate/vaccenate (18:1)</td>\n",
       "      <td>0.402974</td>\n",
       "      <td>0.322237</td>\n",
       "      <td>0.619048</td>\n",
       "      <td>0.101733</td>\n",
       "      <td>Pseudoclavibacter</td>\n",
       "      <td>0.344530</td>\n",
       "    </tr>\n",
       "    <tr>\n",
       "      <th>168</th>\n",
       "      <td>Dehalogenimonas_lykanthroporepellens</td>\n",
       "      <td>oleate/vaccenate (18:1)</td>\n",
       "      <td>0.496226</td>\n",
       "      <td>0.211031</td>\n",
       "      <td>0.414758</td>\n",
       "      <td>0.306912</td>\n",
       "      <td>Dehalogenimonas</td>\n",
       "      <td>0.256252</td>\n",
       "    </tr>\n",
       "    <tr>\n",
       "      <th>169</th>\n",
       "      <td>Dechloromonas_aromatica</td>\n",
       "      <td>oleate/vaccenate (18:1)</td>\n",
       "      <td>0.606343</td>\n",
       "      <td>0.111027</td>\n",
       "      <td>0.690476</td>\n",
       "      <td>0.057990</td>\n",
       "      <td>Dechloromonas</td>\n",
       "      <td>0.192597</td>\n",
       "    </tr>\n",
       "    <tr>\n",
       "      <th>170</th>\n",
       "      <td>Arthrobacter_crystallopoietes</td>\n",
       "      <td>oleate/vaccenate (18:1)</td>\n",
       "      <td>0.543025</td>\n",
       "      <td>0.164278</td>\n",
       "      <td>0.658694</td>\n",
       "      <td>0.075690</td>\n",
       "      <td>Arthrobacter</td>\n",
       "      <td>0.224374</td>\n",
       "    </tr>\n",
       "  </tbody>\n",
       "</table>\n",
       "<p>170 rows × 8 columns</p>\n",
       "</div>"
      ],
      "text/plain": [
       "                                  microbe                    metabolite  \\\n",
       "1                   [Ruminococcus]_gnavus  S-adenosylhomocysteine (SAH)   \n",
       "2                Porphyromonas_gingivalis  S-adenosylhomocysteine (SAH)   \n",
       "3            Bifidobacterium_adolescentis  S-adenosylhomocysteine (SAH)   \n",
       "4     Lachnospiraceae_bacterium_2_1_58FAA  S-adenosylhomocysteine (SAH)   \n",
       "5                  Segetibacter_koreensis  S-adenosylhomocysteine (SAH)   \n",
       "..                                    ...                           ...   \n",
       "166                Leptotrichia_hofstadii       oleate/vaccenate (18:1)   \n",
       "167                Pseudoclavibacter_soli       oleate/vaccenate (18:1)   \n",
       "168  Dehalogenimonas_lykanthroporepellens       oleate/vaccenate (18:1)   \n",
       "169               Dechloromonas_aromatica       oleate/vaccenate (18:1)   \n",
       "170         Arthrobacter_crystallopoietes       oleate/vaccenate (18:1)   \n",
       "\n",
       "      pearson  p-pearson  spearman  p-spearman              genus   q-value  \n",
       "1   -0.612571   0.106413 -0.690476    0.057990     [Ruminococcus]  0.190423  \n",
       "2   -0.822500   0.012186 -0.910196    0.001691      Porphyromonas  0.098982  \n",
       "3    0.745173   0.033865  0.428571    0.289403    Bifidobacterium  0.118294  \n",
       "4   -0.574122   0.136680 -0.666667    0.070988    Lachnospiraceae  0.208073  \n",
       "5   -0.819371   0.012809 -0.952381    0.000260       Segetibacter  0.098982  \n",
       "..        ...        ...       ...         ...                ...       ...  \n",
       "166 -0.729847   0.039844 -0.595238    0.119530       Leptotrichia  0.118294  \n",
       "167  0.402974   0.322237  0.619048    0.101733  Pseudoclavibacter  0.344530  \n",
       "168  0.496226   0.211031  0.414758    0.306912    Dehalogenimonas  0.256252  \n",
       "169  0.606343   0.111027  0.690476    0.057990      Dechloromonas  0.192597  \n",
       "170  0.543025   0.164278  0.658694    0.075690       Arthrobacter  0.224374  \n",
       "\n",
       "[170 rows x 8 columns]"
      ]
     },
     "execution_count": 230,
     "metadata": {},
     "output_type": "execute_result"
    }
   ],
   "source": [
    "correlations"
   ]
  },
  {
   "cell_type": "code",
   "execution_count": 231,
   "id": "sacred-litigation",
   "metadata": {},
   "outputs": [],
   "source": [
    "summary_profile_plot(medians_met, mad_met, metabolites_name_df.index, metabolites_name_df, poly_models_met)"
   ]
  },
  {
   "cell_type": "markdown",
   "id": "overall-ranking",
   "metadata": {},
   "source": [
    "# Figure 2D"
   ]
  },
  {
   "cell_type": "code",
   "execution_count": 232,
   "id": "dietary-walter",
   "metadata": {},
   "outputs": [],
   "source": [
    "profiling_results = {}\n",
    "unclassified_tr=len(medians_tr)-len(classification_tr['continuous'])-len(classification_tr['sigmoid'])\n",
    "profiling_results['RNA-seq'] = [len(classification_tr['continuous']),len(classification_tr['sigmoid']),unclassified_tr]\n",
    "\n",
    "unclassified_meth=len(medians_meth)-len(classification_meth['continuous'])-len(classification_meth['sigmoid'])\n",
    "profiling_results['Methylation'] = [len(classification_meth['continuous']),len(classification_meth['sigmoid']),unclassified_meth]\n",
    "\n",
    "unclassified_mut=len(medians_mut)-len(classification_mut['continuous'])-len(classification_mut['sigmoid'])\n",
    "profiling_results['SNV'] = [len(classification_mut['continuous']),len(classification_mut['sigmoid']),unclassified_mut]\n",
    "\n",
    "unclassified_dup=len(medians_dup)-len(q_value_tables_dup[q_value_tables_dup['1']<0.2])-0\n",
    "unclassified_del=len(medians_del)-len(classification_del['continuous'])-len(classification_del['sigmoid'])\n",
    "profiling_results['Aneuploidy'] = [len(q_value_tables_dup[q_value_tables_dup['1']<0.2])+len(classification_del['continuous']),\n",
    "                                   0+len(classification_del['sigmoid']),\n",
    "                                   unclassified_dup+unclassified_del]\n",
    "\n",
    "unclassified_cms=len(medians_cms)-len(classification_cms['continuous'])-len(classification_cms['sigmoid'])\n",
    "profiling_results['CMS'] = [len(classification_cms['continuous']),len(classification_cms['sigmoid']),unclassified_cms]\n",
    "\n",
    "unclassified_mf=len(medians_mf)-len(classification_mf['continuous'])-len(classification_mf['sigmoid'])\n",
    "profiling_results['Molecular Subtypes'] = [len(classification_mf['continuous']),len(classification_mf['sigmoid']),unclassified_mf]"
   ]
  },
  {
   "cell_type": "markdown",
   "id": "extraordinary-break",
   "metadata": {},
   "source": [
    "# Figure 1C"
   ]
  },
  {
   "cell_type": "code",
   "execution_count": 233,
   "id": "based-cedar",
   "metadata": {},
   "outputs": [],
   "source": [
    "from textwrap import wrap\n",
    "\n",
    "cm = 1/2.54  # centimeters in inches\n",
    "l=0\n",
    "h=0\n",
    "wedgeprops = {'width':0.3, 'edgecolor':'black', 'linewidth':2}\n",
    "colors = ['#0b55cc', '#f1c232','#808080']\n",
    "fig = plt.figure(figsize=(13*cm, 6*cm))\n",
    "names = ['Continuous', 'Sigmoid', 'Unclassified']\n",
    "\n",
    "for key in profiling_results:\n",
    "    ax = plt.subplot2grid((2,5), (h,l))\n",
    "    cont = profiling_results[key][0]\n",
    "    sig = profiling_results[key][1]\n",
    "    unc = profiling_results[key][2]\n",
    "    wedges, texts= ax.pie([cont, sig, unc], wedgeprops=wedgeprops, colors=colors,\n",
    "                                  textprops=dict(color=\"k\"),startangle=180)\n",
    "\n",
    "    ax.set_title('\\n'.join(wrap(key,11)), fontsize=10, loc='center', pad=1)\n",
    "    l = l+1\n",
    "    if l == 3:\n",
    "        h = h+1\n",
    "        l = 0\n",
    "ax.legend(wedges, names,\n",
    "          loc=\"center left\",\n",
    "          bbox_to_anchor=(1, 0, 0.5, 1), prop={'size': 10}, framealpha=0)\n",
    "plt.savefig('/'.join([pa_mic.figures, 'Feature_Summary.svg']), format='svg')"
   ]
  },
  {
   "cell_type": "code",
   "execution_count": 234,
   "id": "unnecessary-iceland",
   "metadata": {},
   "outputs": [
    {
     "data": {
      "text/plain": [
       "'../../../../docker/analysis/microbiome/figures/Feature_Summary.svg'"
      ]
     },
     "execution_count": 234,
     "metadata": {},
     "output_type": "execute_result"
    }
   ],
   "source": [
    "'/'.join([pa_mic.figures, 'Feature_Summary.svg'])"
   ]
  },
  {
   "cell_type": "markdown",
   "id": "adjustable-sigma",
   "metadata": {},
   "source": [
    "# NETWORK ANALYSIS"
   ]
  },
  {
   "cell_type": "code",
   "execution_count": 235,
   "id": "color-insulin",
   "metadata": {},
   "outputs": [],
   "source": [
    "biopax_path = '../../../../docker/analysis/network_analysis_COAD_READ/biopax'\n",
    "graphml_path = '../../../../docker/analysis/network_analysis_COAD_READ/graphml'\n",
    "metabolites_path = '../../../../docker/analysis/network_analysis_COAD_READ/input_data/input_metabolites.csv'\n",
    "genes_path = '../../../../docker/analysis/transcriptome/output/continuous_genes_list.txt'\n",
    "\n",
    "NSA=NetworkSearchAnalysis(graphml_path, biopax_path, metabolites_path, genes_path)"
   ]
  },
  {
   "cell_type": "code",
   "execution_count": 236,
   "id": "preceding-footwear",
   "metadata": {},
   "outputs": [
    {
     "name": "stdout",
     "output_type": "stream",
     "text": [
      "mapping genes to pathway...\n",
      "querying 1-846...done.\n",
      "Finished.\n",
      "8 input query terms found dup hits:\n",
      "\t[('ENSG00000088298', 2), ('ENSG00000171714', 2), ('ENSG00000204577', 4), ('ENSG00000223403', 2), ('E\n",
      "7 input query terms found no hit:\n",
      "\t['ENSG00000225163', 'ENSG00000256050', 'ENSG00000272567', 'ENSG00000273837', 'ENSG00000256045', 'ENS\n",
      "done!\n",
      "loading pathways...\n",
      "pathway R-HSA-9827857 not found!\n",
      "pathway R-HSA-9824439 not found!\n",
      "pathway R-HSA-9832991 not found!\n",
      "pathway R-HSA-9772755 not found!\n",
      "pathway R-HSA-9762293 not found!\n",
      "pathway R-HSA-9824446 not found!\n",
      "pathway R-HSA-9833482 not found!\n",
      "pathway R-HSA-9759476 not found!\n",
      "pathway R-HSA-9824272 not found!\n",
      "pathway R-HSA-9821002 not found!\n",
      "pathway R-HSA-9764260 not found!\n",
      "pathway R-HSA-9818030 not found!\n",
      "pathway R-HSA-9759475 not found!\n",
      "pathway R-HSA-9820841 not found!\n",
      "pathway R-HSA-9824443 not found!\n",
      "pathway R-HSA-9823730 not found!\n",
      "pathway R-HSA-9820865 not found!\n",
      "pathway R-HSA-9732724 not found!\n",
      "pathway R-HSA-9840310 not found!\n",
      "pathway R-HSA-9816359 not found!\n",
      "pathway R-HSA-9823739 not found!\n",
      "pathway R-HSA-9761174 not found!\n",
      "done!\n",
      "select metabolites to analyze\n",
      "done!\n",
      "get metabolites networks ids...\n",
      "done!\n",
      "create random test statistics distributions...\n",
      "done!\n",
      "calculate test statistics of observables...\n",
      "done!\n",
      "fitting random test statistics distributions...\n"
     ]
    },
    {
     "name": "stderr",
     "output_type": "stream",
     "text": [
      "/home/ieo5417/.local/lib/python3.8/site-packages/scipy/stats/_distn_infrastructure.py:2789: RuntimeWarning: invalid value encountered in double_scalars\n",
      "  Lhat = muhat - Shat*mu\n"
     ]
    },
    {
     "name": "stdout",
     "output_type": "stream",
     "text": [
      "done!\n",
      "get valid genes...\n",
      "done!\n",
      "calculate p-values ...\n",
      "done!\n",
      "generate results...\n",
      "finished!\n"
     ]
    }
   ],
   "source": [
    "print('mapping genes to pathway...')\n",
    "NSA.gene2pathways, NSA.uniprot2ensmbl, NSA.reactome2pathway_names = NSA.map_genes2pathways(NSA.gene_list, scopes='ensemblgene')\n",
    "print('done!')\n",
    "print('loading pathways...')\n",
    "pathways_to_load = [x for x in set(sum(NSA.gene2pathways.values(), []))]\n",
    "NSA.pathways_graphs, NSA.directed_graph = NSA.load_pathways(pathways_to_load)\n",
    "NSA.reactome2chebi, NSA.reactome2nodeid_chebi = NSA.map_chebi_to_pathway(NSA.pathways_graphs)\n",
    "print('done!')\n",
    "print('select metabolites to analyze')\n",
    "NSA.target_chebis2pathways = NSA.findTargetChebiInPathways(NSA.reactome2chebi, NSA.metabolites_dict)\n",
    "print('done!')\n",
    "print('get metabolites networks ids...')\n",
    "NSA.ids_to_analyze = NSA.mapIdToAnalyze(NSA.target_chebis2pathways, NSA.reactome2nodeid_chebi)\n",
    "print('done!')\n",
    "print('create random test statistics distributions...')\n",
    "NSA.random_t_stats = NSA.calculate_random_t_stats(NSA.ids_to_analyze, NSA.pathways_graphs)\n",
    "print('done!')\n",
    "print('calculate test statistics of observables...')\n",
    "NSA.pathways_distances_uniprot, NSA.pathway_test_statistics = NSA.calculate_t_stats(NSA.ids_to_analyze, NSA.pathways_graphs)\n",
    "print('done!')\n",
    "print('fitting random test statistics distributions...')\n",
    "NSA.fitting = NSA.fit_distribution(NSA.random_t_stats)\n",
    "print('done!')\n",
    "print('get valid genes...')\n",
    "NSA.pathway_dist, NSA.pdfs = NSA.get_pathway_dist(NSA.random_t_stats, NSA.fitting)\n",
    "print('done!')\n",
    "print('calculate p-values ...')\n",
    "NSA.statistics_df, NSA.p_tresh = NSA.get_p_value(NSA.pathway_dist, NSA.pathway_test_statistics)\n",
    "print('done!')\n",
    "print('generate results...')\n",
    "NSA.final_table = NSA.make_results_table(NSA.statistics_df, NSA.pathways_distances_uniprot)\n",
    "print('finished!')"
   ]
  },
  {
   "cell_type": "code",
   "execution_count": 237,
   "id": "collaborative-track",
   "metadata": {},
   "outputs": [],
   "source": [
    "NSA.final_table.to_csv('../../../../docker/analysis/network_analysis_COAD_READ/pathway_analysis_continuous_genes.csv')"
   ]
  },
  {
   "cell_type": "code",
   "execution_count": 238,
   "id": "native-connecticut",
   "metadata": {},
   "outputs": [],
   "source": [
    "for index, row in NSA.final_table.iterrows():\n",
    "    temp_l = ''\n",
    "    for element in row['genes_uniprot']:\n",
    "        if temp_l:\n",
    "            temp_l =temp_l+f', {element}'\n",
    "        else:\n",
    "            temp_l = temp_l+element\n",
    "    NSA.final_table.loc[index, 'genes_uniprot'] = temp_l"
   ]
  },
  {
   "cell_type": "code",
   "execution_count": 239,
   "id": "general-breathing",
   "metadata": {},
   "outputs": [],
   "source": [
    "summary_groups = NSA.final_table.groupby(['metabolite','genes_uniprot'])\n",
    "summary_table = pd.DataFrame()\n",
    "for name, group in summary_groups:\n",
    "    counter = collections.Counter(group['genes_uniprot'])\n",
    "#     print(counter)\n",
    "    for element in counter:\n",
    "        if counter[element] > 1:\n",
    "            rows_to_summarize = group[group['genes_uniprot']==element]\n",
    "            row_to_keep = rows_to_summarize['q_value'].min()\n",
    "            summary_table = pd.concat([summary_table, rows_to_summarize[rows_to_summarize['q_value']==row_to_keep]])\n",
    "        else:\n",
    "            summary_table = pd.concat([summary_table, group[group['genes_uniprot']==element]])\n",
    "summary_table.to_csv('../../../../docker/analysis/network_analysis_COAD_READ/SUMMARY_pathway_analysis_continuous_genes.csv')"
   ]
  },
  {
   "cell_type": "markdown",
   "id": "pleasant-thought",
   "metadata": {},
   "source": [
    "# END"
   ]
  }
 ],
 "metadata": {
  "kernelspec": {
   "display_name": "Python 3",
   "language": "python",
   "name": "python3"
  },
  "language_info": {
   "codemirror_mode": {
    "name": "ipython",
    "version": 3
   },
   "file_extension": ".py",
   "mimetype": "text/x-python",
   "name": "python",
   "nbconvert_exporter": "python",
   "pygments_lexer": "ipython3",
   "version": "3.8.10"
  },
  "toc-showtags": false
 },
 "nbformat": 4,
 "nbformat_minor": 5
}
