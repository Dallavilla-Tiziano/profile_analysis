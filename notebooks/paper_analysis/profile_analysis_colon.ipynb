{
 "cells": [
  {
   "cell_type": "markdown",
   "id": "signed-average",
   "metadata": {},
   "source": [
    "# Associations between molecular and environmental changes along the proximal-to-distal axis of the colon\n",
    "### Abstract\n",
    "[ABSTRACT]\n",
    "### About this notebook\n",
    "This notebook allow to reproduce all the results and figures presented in [CITAZIONE] "
   ]
  },
  {
   "cell_type": "markdown",
   "id": "running-criterion",
   "metadata": {},
   "source": [
    "# TRANSCRIPTOME PROFILING"
   ]
  },
  {
   "cell_type": "code",
   "execution_count": null,
   "id": "single-summary",
   "metadata": {},
   "outputs": [],
   "source": [
    "import sys\n",
    "sys.path.append(\"../../../git/lib\") # Path to the profile_analysis_class.py file\n",
    "from profile_analysis_class import ProfileAnalysis # Import the profile workflow class\n",
    "import pandas as pd\n",
    "import matplotlib.pyplot as plt\n",
    "\n",
    "plt.style.use('../../assets/styles/plotting_style.mplstyle') # Path to the matplotlib style sheet\n",
    "# Create workflow class, specifying the path to the SETTINGS.ini file\n",
    "pa_transcriptome = ProfileAnalysis('../../../docker/analysis/transcriptome')"
   ]
  },
  {
   "cell_type": "markdown",
   "id": "falling-athletics",
   "metadata": {},
   "source": [
    "## Assign each sample in clinical data file to a colon section"
   ]
  },
  {
   "cell_type": "code",
   "execution_count": null,
   "id": "compatible-ambassador",
   "metadata": {},
   "outputs": [],
   "source": [
    "pa_transcriptome.create_samples_to_sections_table()"
   ]
  },
  {
   "cell_type": "code",
   "execution_count": null,
   "id": "christian-scholar",
   "metadata": {},
   "outputs": [],
   "source": [
    "pa_transcriptome.plot_sample_distribution()"
   ]
  },
  {
   "cell_type": "markdown",
   "id": "macro-toner",
   "metadata": {},
   "source": [
    "## Calculate median value for each colon section"
   ]
  },
  {
   "cell_type": "code",
   "execution_count": null,
   "id": "universal-retreat",
   "metadata": {},
   "outputs": [],
   "source": [
    "medians_tr, mad_tr = pa_transcriptome.median_by_section()"
   ]
  },
  {
   "cell_type": "code",
   "execution_count": null,
   "id": "optional-primary",
   "metadata": {},
   "outputs": [],
   "source": [
    "medians_tr.head()"
   ]
  },
  {
   "cell_type": "code",
   "execution_count": null,
   "id": "executive-store",
   "metadata": {},
   "outputs": [],
   "source": [
    "mad_tr.head()"
   ]
  },
  {
   "cell_type": "markdown",
   "id": "durable-minute",
   "metadata": {},
   "source": [
    "## Fit Observables"
   ]
  },
  {
   "cell_type": "code",
   "execution_count": null,
   "id": "metropolitan-couple",
   "metadata": {},
   "outputs": [],
   "source": [
    "scores_tr, poly_obs_scores_tr, sig_obs_scores_tr, poly_models_tr, sig_models_tr = pa_transcriptome.fit_data(medians_tr, mad_tr, guess_bounds = True, dog_allowed=False)"
   ]
  },
  {
   "cell_type": "code",
   "execution_count": null,
   "id": "gentle-static",
   "metadata": {},
   "outputs": [],
   "source": [
    "scores_tr.head()"
   ]
  },
  {
   "cell_type": "markdown",
   "id": "recognized-anniversary",
   "metadata": {},
   "source": [
    "## Fit Random permutated data"
   ]
  },
  {
   "cell_type": "code",
   "execution_count": null,
   "id": "square-marking",
   "metadata": {},
   "outputs": [],
   "source": [
    "poly_perm_scores_tr, sig_perm_scores_tr=pa_transcriptome.fit_random_data(medians_tr, mad_tr, guess_bounds = True, dog_allowed=True)"
   ]
  },
  {
   "cell_type": "markdown",
   "id": "devoted-dancing",
   "metadata": {},
   "source": [
    "## Compare obrservable vs permutated data"
   ]
  },
  {
   "cell_type": "code",
   "execution_count": null,
   "id": "described-graph",
   "metadata": {},
   "outputs": [],
   "source": [
    "models_pvalue_tr=pa_transcriptome.plot_gof(poly_obs_scores_tr, sig_obs_scores_tr, poly_perm_scores_tr, sig_perm_scores_tr, dist_obs=False, dist_perm=False)"
   ]
  },
  {
   "cell_type": "code",
   "execution_count": null,
   "id": "finnish-ballot",
   "metadata": {},
   "outputs": [],
   "source": [
    "models_pvalue_tr"
   ]
  },
  {
   "cell_type": "markdown",
   "id": "grave-perry",
   "metadata": {},
   "source": [
    "## Cluster genes"
   ]
  },
  {
   "cell_type": "code",
   "execution_count": null,
   "id": "crazy-solomon",
   "metadata": {},
   "outputs": [],
   "source": [
    "genes_clusters_tr=pa_transcriptome.cluster_genes(scores_tr)"
   ]
  },
  {
   "cell_type": "code",
   "execution_count": null,
   "id": "phantom-aside",
   "metadata": {},
   "outputs": [],
   "source": [
    "pa_transcriptome.plot_clusters(genes_clusters_tr)"
   ]
  },
  {
   "cell_type": "code",
   "execution_count": null,
   "id": "signed-customer",
   "metadata": {},
   "outputs": [],
   "source": [
    "summary_tr=pa_transcriptome.get_summary_table(genes_clusters_tr, scores_tr)"
   ]
  },
  {
   "cell_type": "code",
   "execution_count": null,
   "id": "liable-establishment",
   "metadata": {},
   "outputs": [],
   "source": [
    "continuum_tr, sigmoid_tr, discarded_tr = pa_transcriptome.classify_genes(summary_tr)"
   ]
  },
  {
   "cell_type": "markdown",
   "id": "another-deadline",
   "metadata": {},
   "source": [
    "## Plot distribution of inflexion points for sigmoid genes"
   ]
  },
  {
   "cell_type": "code",
   "execution_count": null,
   "id": "progressive-abuse",
   "metadata": {},
   "outputs": [],
   "source": [
    "gene_list_tr, section_l_tr = pa_transcriptome.strict_sig_list(sigmoid_tr, sig_models_tr, plot_dist = True)"
   ]
  },
  {
   "cell_type": "markdown",
   "id": "wired-council",
   "metadata": {},
   "source": [
    "## Plot distribution of inflexion points for random permutation"
   ]
  },
  {
   "cell_type": "code",
   "execution_count": null,
   "id": "specific-teach",
   "metadata": {},
   "outputs": [],
   "source": [
    "pa_transcriptome.strict_sig_list_random(medians_tr, mad_tr, sigmoid_tr, sig_models_tr, plot_dist = True)"
   ]
  },
  {
   "cell_type": "markdown",
   "id": "civil-amateur",
   "metadata": {},
   "source": [
    "# METHYLOME PROFILING"
   ]
  },
  {
   "cell_type": "code",
   "execution_count": null,
   "id": "armed-appointment",
   "metadata": {},
   "outputs": [],
   "source": [
    "# Create workflow class, specifying the path to the SETTINGS.ini file\n",
    "pa_methylome = ProfileAnalysis('../../../docker/analysis/methylome')"
   ]
  },
  {
   "cell_type": "markdown",
   "id": "large-norwegian",
   "metadata": {},
   "source": [
    "## Assign each sample in clinical data file to a colon section"
   ]
  },
  {
   "cell_type": "code",
   "execution_count": null,
   "id": "pressed-possibility",
   "metadata": {},
   "outputs": [],
   "source": [
    "pa_methylome.create_samples_to_sections_table()"
   ]
  },
  {
   "cell_type": "code",
   "execution_count": null,
   "id": "specified-penny",
   "metadata": {},
   "outputs": [],
   "source": [
    "pa_methylome.plot_sample_distribution()"
   ]
  },
  {
   "cell_type": "markdown",
   "id": "considered-reader",
   "metadata": {},
   "source": [
    "## Calculate median value for each colon section"
   ]
  },
  {
   "cell_type": "code",
   "execution_count": null,
   "id": "atlantic-aviation",
   "metadata": {},
   "outputs": [],
   "source": [
    "medians_tr, mad_tr = pa_methylome.median_by_section()"
   ]
  },
  {
   "cell_type": "code",
   "execution_count": null,
   "id": "billion-glass",
   "metadata": {},
   "outputs": [],
   "source": [
    "medians_tr.head()"
   ]
  },
  {
   "cell_type": "code",
   "execution_count": null,
   "id": "sunrise-rebound",
   "metadata": {},
   "outputs": [],
   "source": [
    "mad_tr.head()"
   ]
  },
  {
   "cell_type": "markdown",
   "id": "classical-flight",
   "metadata": {},
   "source": [
    "## Fit Observables"
   ]
  },
  {
   "cell_type": "code",
   "execution_count": null,
   "id": "according-fight",
   "metadata": {},
   "outputs": [],
   "source": [
    "scores_tr, poly_obs_scores_tr, sig_obs_scores_tr, poly_models_tr, sig_models_tr = pa_methylome.fit_data(medians_tr, mad_tr, guess_bounds = True, dog_allowed=False)"
   ]
  },
  {
   "cell_type": "code",
   "execution_count": null,
   "id": "living-married",
   "metadata": {},
   "outputs": [],
   "source": [
    "scores_tr.head()"
   ]
  },
  {
   "cell_type": "markdown",
   "id": "stone-married",
   "metadata": {},
   "source": [
    "## Fit Random permutated data"
   ]
  },
  {
   "cell_type": "code",
   "execution_count": null,
   "id": "significant-quantum",
   "metadata": {},
   "outputs": [],
   "source": [
    "poly_perm_scores_tr, sig_perm_scores_tr=pa_methylome.fit_random_data(medians_tr, mad_tr, guess_bounds = True, dog_allowed=True)"
   ]
  },
  {
   "cell_type": "markdown",
   "id": "bearing-legend",
   "metadata": {},
   "source": [
    "## Compare obrservable vs permutated data"
   ]
  },
  {
   "cell_type": "code",
   "execution_count": null,
   "id": "green-uniform",
   "metadata": {},
   "outputs": [],
   "source": [
    "models_pvalue_tr=pa_methylome.plot_gof(poly_obs_scores_tr, sig_obs_scores_tr, poly_perm_scores_tr, sig_perm_scores_tr, dist_obs=False, dist_perm=False)"
   ]
  },
  {
   "cell_type": "code",
   "execution_count": null,
   "id": "fatty-sympathy",
   "metadata": {},
   "outputs": [],
   "source": [
    "models_pvalue_tr"
   ]
  },
  {
   "cell_type": "markdown",
   "id": "dominican-latter",
   "metadata": {},
   "source": [
    "## Cluster genes"
   ]
  },
  {
   "cell_type": "code",
   "execution_count": null,
   "id": "fatal-humidity",
   "metadata": {},
   "outputs": [],
   "source": [
    "genes_clusters_tr=pa_methylome.cluster_genes(scores_tr)"
   ]
  },
  {
   "cell_type": "code",
   "execution_count": null,
   "id": "limiting-astrology",
   "metadata": {},
   "outputs": [],
   "source": [
    "pa_methylome.plot_clusters(genes_clusters_tr)"
   ]
  },
  {
   "cell_type": "code",
   "execution_count": null,
   "id": "logical-representation",
   "metadata": {},
   "outputs": [],
   "source": [
    "summary_tr=pa_methylome.get_summary_table(genes_clusters_tr, scores_tr)"
   ]
  },
  {
   "cell_type": "code",
   "execution_count": null,
   "id": "enclosed-column",
   "metadata": {},
   "outputs": [],
   "source": [
    "continuum_tr, sigmoid_tr, discarded_tr = pa_methylome.classify_genes(summary_tr)"
   ]
  },
  {
   "cell_type": "markdown",
   "id": "mobile-monroe",
   "metadata": {},
   "source": [
    "## Plot distribution of inflexion points for sigmoid genes"
   ]
  },
  {
   "cell_type": "code",
   "execution_count": null,
   "id": "atmospheric-annual",
   "metadata": {},
   "outputs": [],
   "source": [
    "gene_list_tr, section_l_tr = pa_methylome.strict_sig_list(sigmoid_tr, sig_models_tr, plot_dist = True)"
   ]
  },
  {
   "cell_type": "markdown",
   "id": "duplicate-birthday",
   "metadata": {},
   "source": [
    "## Plot distribution of inflexion points for random permutation"
   ]
  },
  {
   "cell_type": "code",
   "execution_count": null,
   "id": "still-leonard",
   "metadata": {},
   "outputs": [],
   "source": [
    "pa_methylome.strict_sig_list_random(medians_tr, mad_tr, sigmoid_tr, sig_models_tr, plot_dist = True)"
   ]
  },
  {
   "cell_type": "markdown",
   "id": "opponent-texture",
   "metadata": {},
   "source": [
    "# MUTATIONS PROFILING"
   ]
  },
  {
   "cell_type": "code",
   "execution_count": null,
   "id": "bound-retention",
   "metadata": {},
   "outputs": [],
   "source": [
    "# Create workflow class, specifying the path to the SETTINGS.ini file\n",
    "pa_mutations = ProfileAnalysis('../../../docker/analysis/mutations')"
   ]
  },
  {
   "cell_type": "markdown",
   "id": "experienced-assets",
   "metadata": {},
   "source": [
    "## Assign each sample in clinical data file to a colon section"
   ]
  },
  {
   "cell_type": "code",
   "execution_count": null,
   "id": "understanding-harmony",
   "metadata": {},
   "outputs": [],
   "source": [
    "pa_mutations.create_samples_to_sections_table()"
   ]
  },
  {
   "cell_type": "code",
   "execution_count": null,
   "id": "chicken-shannon",
   "metadata": {},
   "outputs": [],
   "source": [
    "pa_mutations.plot_sample_distribution()"
   ]
  },
  {
   "cell_type": "markdown",
   "id": "deadly-browser",
   "metadata": {},
   "source": [
    "## Calculate median value for each colon section"
   ]
  },
  {
   "cell_type": "code",
   "execution_count": null,
   "id": "novel-salvation",
   "metadata": {},
   "outputs": [],
   "source": [
    "medians_tr, mad_tr = pa_mutations.median_by_section()"
   ]
  },
  {
   "cell_type": "code",
   "execution_count": null,
   "id": "focal-strength",
   "metadata": {},
   "outputs": [],
   "source": [
    "medians_tr.head()"
   ]
  },
  {
   "cell_type": "code",
   "execution_count": null,
   "id": "floppy-criticism",
   "metadata": {},
   "outputs": [],
   "source": [
    "mad_tr.head()"
   ]
  },
  {
   "cell_type": "markdown",
   "id": "minimal-playlist",
   "metadata": {},
   "source": [
    "## Fit Observables"
   ]
  },
  {
   "cell_type": "code",
   "execution_count": null,
   "id": "opposed-milwaukee",
   "metadata": {},
   "outputs": [],
   "source": [
    "scores_tr, poly_obs_scores_tr, sig_obs_scores_tr, poly_models_tr, sig_models_tr = pa_mutations.fit_data(medians_tr, mad_tr, guess_bounds = True, dog_allowed=False)"
   ]
  },
  {
   "cell_type": "code",
   "execution_count": null,
   "id": "quality-mailman",
   "metadata": {},
   "outputs": [],
   "source": [
    "scores_tr.head()"
   ]
  },
  {
   "cell_type": "markdown",
   "id": "central-disposal",
   "metadata": {},
   "source": [
    "## Fit Random permutated data"
   ]
  },
  {
   "cell_type": "code",
   "execution_count": null,
   "id": "central-galaxy",
   "metadata": {},
   "outputs": [],
   "source": [
    "poly_perm_scores_tr, sig_perm_scores_tr=pa_mutations.fit_random_data(medians_tr, mad_tr, guess_bounds = True, dog_allowed=True)"
   ]
  },
  {
   "cell_type": "markdown",
   "id": "regional-joyce",
   "metadata": {},
   "source": [
    "## Compare obrservable vs permutated data"
   ]
  },
  {
   "cell_type": "code",
   "execution_count": null,
   "id": "embedded-brisbane",
   "metadata": {},
   "outputs": [],
   "source": [
    "models_pvalue_tr=pa_mutations.plot_gof(poly_obs_scores_tr, sig_obs_scores_tr, poly_perm_scores_tr, sig_perm_scores_tr, dist_obs=False, dist_perm=False)"
   ]
  },
  {
   "cell_type": "code",
   "execution_count": null,
   "id": "julian-links",
   "metadata": {},
   "outputs": [],
   "source": [
    "models_pvalue_tr"
   ]
  },
  {
   "cell_type": "markdown",
   "id": "waiting-passion",
   "metadata": {},
   "source": [
    "## Cluster genes"
   ]
  },
  {
   "cell_type": "code",
   "execution_count": null,
   "id": "paperback-hotel",
   "metadata": {},
   "outputs": [],
   "source": [
    "genes_clusters_tr=pa_mutations.cluster_genes(scores_tr)"
   ]
  },
  {
   "cell_type": "code",
   "execution_count": null,
   "id": "attempted-crawford",
   "metadata": {},
   "outputs": [],
   "source": [
    "pa_mutations.plot_clusters(genes_clusters_tr)"
   ]
  },
  {
   "cell_type": "code",
   "execution_count": null,
   "id": "approximate-migration",
   "metadata": {},
   "outputs": [],
   "source": [
    "summary_tr=pa_mutations.get_summary_table(genes_clusters_tr, scores_tr)"
   ]
  },
  {
   "cell_type": "code",
   "execution_count": null,
   "id": "major-tennis",
   "metadata": {},
   "outputs": [],
   "source": [
    "continuum_tr, sigmoid_tr, discarded_tr = pa_mutations.classify_genes(summary_tr)"
   ]
  },
  {
   "cell_type": "markdown",
   "id": "exceptional-whale",
   "metadata": {},
   "source": [
    "## Plot distribution of inflexion points for sigmoid genes"
   ]
  },
  {
   "cell_type": "code",
   "execution_count": null,
   "id": "modern-alliance",
   "metadata": {},
   "outputs": [],
   "source": [
    "gene_list_tr, section_l_tr = pa_mutations.strict_sig_list(sigmoid_tr, sig_models_tr, plot_dist = True)"
   ]
  },
  {
   "cell_type": "markdown",
   "id": "mighty-utility",
   "metadata": {},
   "source": [
    "## Plot distribution of inflexion points for random permutation"
   ]
  },
  {
   "cell_type": "code",
   "execution_count": null,
   "id": "transparent-courage",
   "metadata": {},
   "outputs": [],
   "source": [
    "pa_mutations.strict_sig_list_random(medians_tr, mad_tr, sigmoid_tr, sig_models_tr, plot_dist = True)"
   ]
  },
  {
   "cell_type": "markdown",
   "id": "answering-marshall",
   "metadata": {},
   "source": [
    "# ANEUPLOIDY PROFILING"
   ]
  },
  {
   "cell_type": "markdown",
   "id": "forced-project",
   "metadata": {},
   "source": [
    "## Duplication"
   ]
  },
  {
   "cell_type": "code",
   "execution_count": null,
   "id": "institutional-species",
   "metadata": {},
   "outputs": [],
   "source": [
    "# Create workflow class, specifying the path to the SETTINGS.ini file\n",
    "pa_duplication = ProfileAnalysis('../../../../docker/analysis/aneuploidy/duplication')"
   ]
  },
  {
   "cell_type": "markdown",
   "id": "infectious-priority",
   "metadata": {},
   "source": [
    "## Assign each sample in clinical data file to a colon section"
   ]
  },
  {
   "cell_type": "code",
   "execution_count": null,
   "id": "chicken-prisoner",
   "metadata": {},
   "outputs": [],
   "source": [
    "pa_duplication.create_samples_to_sections_table()"
   ]
  },
  {
   "cell_type": "code",
   "execution_count": null,
   "id": "undefined-timeline",
   "metadata": {},
   "outputs": [],
   "source": [
    "pa_duplication.plot_sample_distribution()"
   ]
  },
  {
   "cell_type": "markdown",
   "id": "immune-addition",
   "metadata": {},
   "source": [
    "## Calculate median value for each colon section"
   ]
  },
  {
   "cell_type": "code",
   "execution_count": null,
   "id": "american-restoration",
   "metadata": {},
   "outputs": [],
   "source": [
    "medians_tr, mad_tr = pa_duplication.median_by_section()"
   ]
  },
  {
   "cell_type": "code",
   "execution_count": null,
   "id": "preceding-shuttle",
   "metadata": {},
   "outputs": [],
   "source": [
    "medians_tr.head()"
   ]
  },
  {
   "cell_type": "code",
   "execution_count": null,
   "id": "scientific-shirt",
   "metadata": {},
   "outputs": [],
   "source": [
    "mad_tr.head()"
   ]
  },
  {
   "cell_type": "markdown",
   "id": "trying-tracker",
   "metadata": {},
   "source": [
    "## Fit Observables"
   ]
  },
  {
   "cell_type": "code",
   "execution_count": null,
   "id": "married-canyon",
   "metadata": {},
   "outputs": [],
   "source": [
    "scores_tr, poly_obs_scores_tr, sig_obs_scores_tr, poly_models_tr, sig_models_tr = pa_duplication.fit_data(medians_tr, mad_tr, guess_bounds = True, dog_allowed=False)"
   ]
  },
  {
   "cell_type": "code",
   "execution_count": null,
   "id": "exterior-aside",
   "metadata": {},
   "outputs": [],
   "source": [
    "scores_tr.head()"
   ]
  },
  {
   "cell_type": "markdown",
   "id": "artistic-scope",
   "metadata": {},
   "source": [
    "## Fit Random permutated data"
   ]
  },
  {
   "cell_type": "code",
   "execution_count": null,
   "id": "governmental-protein",
   "metadata": {},
   "outputs": [],
   "source": [
    "poly_perm_scores_tr, sig_perm_scores_tr=pa_duplication.fit_random_data(medians_tr, mad_tr, guess_bounds = True, dog_allowed=True)"
   ]
  },
  {
   "cell_type": "markdown",
   "id": "enhanced-pulse",
   "metadata": {},
   "source": [
    "## Compare obrservable vs permutated data"
   ]
  },
  {
   "cell_type": "code",
   "execution_count": null,
   "id": "little-vessel",
   "metadata": {},
   "outputs": [],
   "source": [
    "models_pvalue_tr=pa_duplication.plot_gof(poly_obs_scores_tr, sig_obs_scores_tr, poly_perm_scores_tr, sig_perm_scores_tr, dist_obs=False, dist_perm=False)"
   ]
  },
  {
   "cell_type": "code",
   "execution_count": null,
   "id": "exact-funds",
   "metadata": {},
   "outputs": [],
   "source": [
    "models_pvalue_tr"
   ]
  },
  {
   "cell_type": "markdown",
   "id": "completed-corner",
   "metadata": {},
   "source": [
    "## Cluster genes"
   ]
  },
  {
   "cell_type": "code",
   "execution_count": null,
   "id": "nasty-devices",
   "metadata": {},
   "outputs": [],
   "source": [
    "genes_clusters_tr=pa_duplication.cluster_genes(scores_tr)"
   ]
  },
  {
   "cell_type": "code",
   "execution_count": null,
   "id": "included-throat",
   "metadata": {},
   "outputs": [],
   "source": [
    "pa_duplication.plot_clusters(genes_clusters_tr)"
   ]
  },
  {
   "cell_type": "code",
   "execution_count": null,
   "id": "conventional-undergraduate",
   "metadata": {},
   "outputs": [],
   "source": [
    "summary_tr=pa_duplication.get_summary_table(genes_clusters_tr, scores_tr)"
   ]
  },
  {
   "cell_type": "code",
   "execution_count": null,
   "id": "governmental-hospital",
   "metadata": {},
   "outputs": [],
   "source": [
    "continuum_tr, sigmoid_tr, discarded_tr = pa_duplication.classify_genes(summary_tr)"
   ]
  },
  {
   "cell_type": "markdown",
   "id": "nominated-piece",
   "metadata": {},
   "source": [
    "## Plot distribution of inflexion points for sigmoid genes"
   ]
  },
  {
   "cell_type": "code",
   "execution_count": null,
   "id": "dirty-pointer",
   "metadata": {},
   "outputs": [],
   "source": [
    "gene_list_tr, section_l_tr = pa_duplication.strict_sig_list(sigmoid_tr, sig_models_tr, plot_dist = True)"
   ]
  },
  {
   "cell_type": "markdown",
   "id": "played-saudi",
   "metadata": {},
   "source": [
    "## Plot distribution of inflexion points for random permutation"
   ]
  },
  {
   "cell_type": "code",
   "execution_count": null,
   "id": "spoken-precipitation",
   "metadata": {},
   "outputs": [],
   "source": [
    "pa_duplication.strict_sig_list_random(medians_tr, mad_tr, sigmoid_tr, sig_models_tr, plot_dist = True)"
   ]
  },
  {
   "cell_type": "markdown",
   "id": "optional-couple",
   "metadata": {},
   "source": [
    "## Deletion"
   ]
  },
  {
   "cell_type": "code",
   "execution_count": null,
   "id": "elect-comfort",
   "metadata": {},
   "outputs": [],
   "source": [
    "# Create workflow class, specifying the path to the SETTINGS.ini file\n",
    "pa_deletion = ProfileAnalysis('../../../../docker/analysis/aneuploidy/deletion')"
   ]
  },
  {
   "cell_type": "markdown",
   "id": "distant-family",
   "metadata": {},
   "source": [
    "## Assign each sample in clinical data file to a colon section"
   ]
  },
  {
   "cell_type": "code",
   "execution_count": null,
   "id": "closed-begin",
   "metadata": {},
   "outputs": [],
   "source": [
    "pa_deletion.create_samples_to_sections_table()"
   ]
  },
  {
   "cell_type": "code",
   "execution_count": null,
   "id": "russian-intelligence",
   "metadata": {},
   "outputs": [],
   "source": [
    "pa_deletion.plot_sample_distribution()"
   ]
  },
  {
   "cell_type": "markdown",
   "id": "continent-accounting",
   "metadata": {},
   "source": [
    "## Calculate median value for each colon section"
   ]
  },
  {
   "cell_type": "code",
   "execution_count": null,
   "id": "variable-slovakia",
   "metadata": {},
   "outputs": [],
   "source": [
    "medians_tr, mad_tr = pa_deletion.median_by_section()"
   ]
  },
  {
   "cell_type": "code",
   "execution_count": null,
   "id": "parallel-cursor",
   "metadata": {},
   "outputs": [],
   "source": [
    "medians_tr.head()"
   ]
  },
  {
   "cell_type": "code",
   "execution_count": null,
   "id": "elementary-french",
   "metadata": {},
   "outputs": [],
   "source": [
    "mad_tr.head()"
   ]
  },
  {
   "cell_type": "markdown",
   "id": "unsigned-engineering",
   "metadata": {},
   "source": [
    "## Fit Observables"
   ]
  },
  {
   "cell_type": "code",
   "execution_count": null,
   "id": "shaped-water",
   "metadata": {},
   "outputs": [],
   "source": [
    "scores_tr, poly_obs_scores_tr, sig_obs_scores_tr, poly_models_tr, sig_models_tr = pa_deletion.fit_data(medians_tr, mad_tr, guess_bounds = True, dog_allowed=False)"
   ]
  },
  {
   "cell_type": "code",
   "execution_count": null,
   "id": "tracked-announcement",
   "metadata": {},
   "outputs": [],
   "source": [
    "scores_tr.head()"
   ]
  },
  {
   "cell_type": "markdown",
   "id": "perceived-reader",
   "metadata": {},
   "source": [
    "## Fit Random permutated data"
   ]
  },
  {
   "cell_type": "code",
   "execution_count": null,
   "id": "empirical-oakland",
   "metadata": {},
   "outputs": [],
   "source": [
    "poly_perm_scores_tr, sig_perm_scores_tr=pa_deletion.fit_random_data(medians_tr, mad_tr, guess_bounds = True, dog_allowed=True)"
   ]
  },
  {
   "cell_type": "markdown",
   "id": "timely-astronomy",
   "metadata": {},
   "source": [
    "## Compare obrservable vs permutated data"
   ]
  },
  {
   "cell_type": "code",
   "execution_count": null,
   "id": "expired-store",
   "metadata": {},
   "outputs": [],
   "source": [
    "models_pvalue_tr=pa_deletion.plot_gof(poly_obs_scores_tr, sig_obs_scores_tr, poly_perm_scores_tr, sig_perm_scores_tr, dist_obs=False, dist_perm=False)"
   ]
  },
  {
   "cell_type": "code",
   "execution_count": null,
   "id": "arabic-collector",
   "metadata": {},
   "outputs": [],
   "source": [
    "models_pvalue_tr"
   ]
  },
  {
   "cell_type": "markdown",
   "id": "amateur-wellington",
   "metadata": {},
   "source": [
    "## Cluster genes"
   ]
  },
  {
   "cell_type": "code",
   "execution_count": null,
   "id": "front-figure",
   "metadata": {},
   "outputs": [],
   "source": [
    "genes_clusters_tr=pa_deletion.cluster_genes(scores_tr)"
   ]
  },
  {
   "cell_type": "code",
   "execution_count": null,
   "id": "loose-console",
   "metadata": {},
   "outputs": [],
   "source": [
    "pa_deletion.plot_clusters(genes_clusters_tr)"
   ]
  },
  {
   "cell_type": "code",
   "execution_count": null,
   "id": "permanent-printer",
   "metadata": {},
   "outputs": [],
   "source": [
    "summary_tr=pa_deletion.get_summary_table(genes_clusters_tr, scores_tr)"
   ]
  },
  {
   "cell_type": "code",
   "execution_count": null,
   "id": "endless-drama",
   "metadata": {},
   "outputs": [],
   "source": [
    "continuum_tr, sigmoid_tr, discarded_tr = pa_deletion.classify_genes(summary_tr)"
   ]
  },
  {
   "cell_type": "markdown",
   "id": "demonstrated-scottish",
   "metadata": {},
   "source": [
    "## Plot distribution of inflexion points for sigmoid genes"
   ]
  },
  {
   "cell_type": "code",
   "execution_count": null,
   "id": "mineral-voltage",
   "metadata": {},
   "outputs": [],
   "source": [
    "gene_list_tr, section_l_tr = pa_deletion.strict_sig_list(sigmoid_tr, sig_models_tr, plot_dist = True)"
   ]
  },
  {
   "cell_type": "markdown",
   "id": "tracked-membership",
   "metadata": {},
   "source": [
    "## Plot distribution of inflexion points for random permutation"
   ]
  },
  {
   "cell_type": "code",
   "execution_count": null,
   "id": "pretty-building",
   "metadata": {},
   "outputs": [],
   "source": [
    "pa_deletion.strict_sig_list_random(medians_tr, mad_tr, sigmoid_tr, sig_models_tr, plot_dist = True)"
   ]
  },
  {
   "cell_type": "markdown",
   "id": "hybrid-pharmacology",
   "metadata": {},
   "source": [
    "# CMS profiling"
   ]
  },
  {
   "cell_type": "code",
   "execution_count": null,
   "id": "confused-coaching",
   "metadata": {},
   "outputs": [],
   "source": [
    "# Create workflow class, specifying the path to the SETTINGS.ini file\n",
    "pa_cms = ProfileAnalysis('../../../docker/analysis/cms')"
   ]
  },
  {
   "cell_type": "markdown",
   "id": "middle-aggregate",
   "metadata": {},
   "source": [
    "## Assign each sample in clinical data file to a colon section"
   ]
  },
  {
   "cell_type": "code",
   "execution_count": null,
   "id": "empty-librarian",
   "metadata": {},
   "outputs": [],
   "source": [
    "pa_cms.create_samples_to_sections_table()"
   ]
  },
  {
   "cell_type": "code",
   "execution_count": null,
   "id": "abandoned-species",
   "metadata": {},
   "outputs": [],
   "source": [
    "pa_cms.plot_sample_distribution()"
   ]
  },
  {
   "cell_type": "markdown",
   "id": "vulnerable-citizenship",
   "metadata": {},
   "source": [
    "## Calculate median value for each colon section"
   ]
  },
  {
   "cell_type": "code",
   "execution_count": null,
   "id": "unavailable-barbados",
   "metadata": {},
   "outputs": [],
   "source": [
    "medians_tr, mad_tr = pa_cms.median_by_section()"
   ]
  },
  {
   "cell_type": "code",
   "execution_count": null,
   "id": "advised-battery",
   "metadata": {},
   "outputs": [],
   "source": [
    "medians_tr.head()"
   ]
  },
  {
   "cell_type": "code",
   "execution_count": null,
   "id": "checked-overview",
   "metadata": {},
   "outputs": [],
   "source": [
    "mad_tr.head()"
   ]
  },
  {
   "cell_type": "markdown",
   "id": "complimentary-hollow",
   "metadata": {},
   "source": [
    "## Fit Observables"
   ]
  },
  {
   "cell_type": "code",
   "execution_count": null,
   "id": "confident-briefs",
   "metadata": {},
   "outputs": [],
   "source": [
    "scores_tr, poly_obs_scores_tr, sig_obs_scores_tr, poly_models_tr, sig_models_tr = pa_cms.fit_data(medians_tr, mad_tr, guess_bounds = True, dog_allowed=False)"
   ]
  },
  {
   "cell_type": "code",
   "execution_count": null,
   "id": "compatible-cassette",
   "metadata": {},
   "outputs": [],
   "source": [
    "scores_tr.head()"
   ]
  },
  {
   "cell_type": "markdown",
   "id": "tender-component",
   "metadata": {},
   "source": [
    "## Fit Random permutated data"
   ]
  },
  {
   "cell_type": "code",
   "execution_count": null,
   "id": "billion-harrison",
   "metadata": {},
   "outputs": [],
   "source": [
    "poly_perm_scores_tr, sig_perm_scores_tr=pa_cms.fit_random_data(medians_tr, mad_tr, guess_bounds = True, dog_allowed=True)"
   ]
  },
  {
   "cell_type": "markdown",
   "id": "finished-career",
   "metadata": {},
   "source": [
    "## Compare obrservable vs permutated data"
   ]
  },
  {
   "cell_type": "code",
   "execution_count": null,
   "id": "parliamentary-microphone",
   "metadata": {},
   "outputs": [],
   "source": [
    "models_pvalue_tr=pa_cms.plot_gof(poly_obs_scores_tr, sig_obs_scores_tr, poly_perm_scores_tr, sig_perm_scores_tr, dist_obs=False, dist_perm=False)"
   ]
  },
  {
   "cell_type": "code",
   "execution_count": null,
   "id": "vital-stylus",
   "metadata": {},
   "outputs": [],
   "source": [
    "models_pvalue_tr"
   ]
  },
  {
   "cell_type": "markdown",
   "id": "frozen-palace",
   "metadata": {},
   "source": [
    "## Cluster genes"
   ]
  },
  {
   "cell_type": "code",
   "execution_count": null,
   "id": "hispanic-lobby",
   "metadata": {},
   "outputs": [],
   "source": [
    "genes_clusters_tr=pa_cms.cluster_genes(scores_tr)"
   ]
  },
  {
   "cell_type": "code",
   "execution_count": null,
   "id": "least-anxiety",
   "metadata": {},
   "outputs": [],
   "source": [
    "pa_cms.plot_clusters(genes_clusters_tr)"
   ]
  },
  {
   "cell_type": "code",
   "execution_count": null,
   "id": "natural-lindsay",
   "metadata": {},
   "outputs": [],
   "source": [
    "summary_tr=pa_cms.get_summary_table(genes_clusters_tr, scores_tr)"
   ]
  },
  {
   "cell_type": "code",
   "execution_count": null,
   "id": "stainless-trinity",
   "metadata": {},
   "outputs": [],
   "source": [
    "continuum_tr, sigmoid_tr, discarded_tr = pa_cms.classify_genes(summary_tr)"
   ]
  },
  {
   "cell_type": "markdown",
   "id": "legal-intervention",
   "metadata": {},
   "source": [
    "## Plot distribution of inflexion points for sigmoid genes"
   ]
  },
  {
   "cell_type": "code",
   "execution_count": null,
   "id": "distinguished-acquisition",
   "metadata": {},
   "outputs": [],
   "source": [
    "gene_list_tr, section_l_tr = pa_cms.strict_sig_list(sigmoid_tr, sig_models_tr, plot_dist = True)"
   ]
  },
  {
   "cell_type": "markdown",
   "id": "missing-victorian",
   "metadata": {},
   "source": [
    "## Plot distribution of inflexion points for random permutation"
   ]
  },
  {
   "cell_type": "code",
   "execution_count": null,
   "id": "healthy-milan",
   "metadata": {},
   "outputs": [],
   "source": [
    "pa_cms.strict_sig_list_random(medians_tr, mad_tr, sigmoid_tr, sig_models_tr, plot_dist = True)"
   ]
  },
  {
   "cell_type": "markdown",
   "id": "shaped-credit",
   "metadata": {},
   "source": [
    "# MOLECULAR FEATURES PROFILING"
   ]
  },
  {
   "cell_type": "code",
   "execution_count": null,
   "id": "known-montana",
   "metadata": {},
   "outputs": [],
   "source": [
    "# Create workflow class, specifying the path to the SETTINGS.ini file\n",
    "pa_mf = ProfileAnalysis('../../../docker/analysis/molecular_features')"
   ]
  },
  {
   "cell_type": "markdown",
   "id": "dramatic-resource",
   "metadata": {},
   "source": [
    "## Assign each sample in clinical data file to a colon section"
   ]
  },
  {
   "cell_type": "code",
   "execution_count": null,
   "id": "extensive-disney",
   "metadata": {},
   "outputs": [],
   "source": [
    "pa_mf.create_samples_to_sections_table()"
   ]
  },
  {
   "cell_type": "code",
   "execution_count": null,
   "id": "traditional-empire",
   "metadata": {},
   "outputs": [],
   "source": [
    "pa_mf.plot_sample_distribution()"
   ]
  },
  {
   "cell_type": "markdown",
   "id": "proper-search",
   "metadata": {},
   "source": [
    "## Calculate median value for each colon section"
   ]
  },
  {
   "cell_type": "code",
   "execution_count": null,
   "id": "becoming-sending",
   "metadata": {},
   "outputs": [],
   "source": [
    "medians_tr, mad_tr = pa_mf.median_by_section()"
   ]
  },
  {
   "cell_type": "code",
   "execution_count": null,
   "id": "suspected-admission",
   "metadata": {},
   "outputs": [],
   "source": [
    "medians_tr.head()"
   ]
  },
  {
   "cell_type": "code",
   "execution_count": null,
   "id": "advisory-convertible",
   "metadata": {},
   "outputs": [],
   "source": [
    "mad_tr.head()"
   ]
  },
  {
   "cell_type": "markdown",
   "id": "obvious-radar",
   "metadata": {},
   "source": [
    "## Fit Observables"
   ]
  },
  {
   "cell_type": "code",
   "execution_count": null,
   "id": "smart-encoding",
   "metadata": {},
   "outputs": [],
   "source": [
    "scores_tr, poly_obs_scores_tr, sig_obs_scores_tr, poly_models_tr, sig_models_tr = pa_mf.fit_data(medians_tr, mad_tr, guess_bounds = True, dog_allowed=False)"
   ]
  },
  {
   "cell_type": "code",
   "execution_count": null,
   "id": "anonymous-spouse",
   "metadata": {},
   "outputs": [],
   "source": [
    "scores_tr.head()"
   ]
  },
  {
   "cell_type": "markdown",
   "id": "boolean-serial",
   "metadata": {},
   "source": [
    "## Fit Random permutated data"
   ]
  },
  {
   "cell_type": "code",
   "execution_count": null,
   "id": "median-slovak",
   "metadata": {},
   "outputs": [],
   "source": [
    "poly_perm_scores_tr, sig_perm_scores_tr=pa_mf.fit_random_data(medians_tr, mad_tr, guess_bounds = True, dog_allowed=True)"
   ]
  },
  {
   "cell_type": "markdown",
   "id": "growing-courage",
   "metadata": {},
   "source": [
    "## Compare obrservable vs permutated data"
   ]
  },
  {
   "cell_type": "code",
   "execution_count": null,
   "id": "tight-marina",
   "metadata": {},
   "outputs": [],
   "source": [
    "models_pvalue_tr=pa_mf.plot_gof(poly_obs_scores_tr, sig_obs_scores_tr, poly_perm_scores_tr, sig_perm_scores_tr, dist_obs=False, dist_perm=False)"
   ]
  },
  {
   "cell_type": "code",
   "execution_count": null,
   "id": "fresh-royalty",
   "metadata": {},
   "outputs": [],
   "source": [
    "models_pvalue_tr"
   ]
  },
  {
   "cell_type": "markdown",
   "id": "associate-smile",
   "metadata": {},
   "source": [
    "## Cluster genes"
   ]
  },
  {
   "cell_type": "code",
   "execution_count": null,
   "id": "further-hammer",
   "metadata": {},
   "outputs": [],
   "source": [
    "genes_clusters_tr=pa_mf.cluster_genes(scores_tr)"
   ]
  },
  {
   "cell_type": "code",
   "execution_count": null,
   "id": "dynamic-taylor",
   "metadata": {},
   "outputs": [],
   "source": [
    "pa_mf.plot_clusters(genes_clusters_tr)"
   ]
  },
  {
   "cell_type": "code",
   "execution_count": null,
   "id": "documentary-dance",
   "metadata": {},
   "outputs": [],
   "source": [
    "summary_tr=pa_mf.get_summary_table(genes_clusters_tr, scores_tr)"
   ]
  },
  {
   "cell_type": "code",
   "execution_count": null,
   "id": "provincial-consultancy",
   "metadata": {},
   "outputs": [],
   "source": [
    "continuum_tr, sigmoid_tr, discarded_tr = pa_mf.classify_genes(summary_tr)"
   ]
  },
  {
   "cell_type": "markdown",
   "id": "impossible-yugoslavia",
   "metadata": {},
   "source": [
    "## Plot distribution of inflexion points for sigmoid genes"
   ]
  },
  {
   "cell_type": "code",
   "execution_count": null,
   "id": "incorporated-marina",
   "metadata": {},
   "outputs": [],
   "source": [
    "gene_list_tr, section_l_tr = pa_mf.strict_sig_list(sigmoid_tr, sig_models_tr, plot_dist = True)"
   ]
  },
  {
   "cell_type": "markdown",
   "id": "enhanced-bunch",
   "metadata": {},
   "source": [
    "## Plot distribution of inflexion points for random permutation"
   ]
  },
  {
   "cell_type": "code",
   "execution_count": null,
   "id": "foster-departure",
   "metadata": {},
   "outputs": [],
   "source": [
    "pa_mf.strict_sig_list_random(medians_tr, mad_tr, sigmoid_tr, sig_models_tr, plot_dist = True)"
   ]
  },
  {
   "cell_type": "markdown",
   "id": "south-effectiveness",
   "metadata": {},
   "source": [
    "# SIGNATURES PROFILING"
   ]
  },
  {
   "cell_type": "code",
   "execution_count": null,
   "id": "baking-southwest",
   "metadata": {},
   "outputs": [],
   "source": [
    "# Create workflow class, specifying the path to the SETTINGS.ini file\n",
    "pa_sig = ProfileAnalysis('../../../docker/analysis/signatures')"
   ]
  },
  {
   "cell_type": "markdown",
   "id": "noticed-harbor",
   "metadata": {},
   "source": [
    "## Assign each sample in clinical data file to a colon section"
   ]
  },
  {
   "cell_type": "code",
   "execution_count": null,
   "id": "experimental-jersey",
   "metadata": {},
   "outputs": [],
   "source": [
    "pa_sig.create_samples_to_sections_table()"
   ]
  },
  {
   "cell_type": "code",
   "execution_count": null,
   "id": "appointed-venue",
   "metadata": {},
   "outputs": [],
   "source": [
    "pa_sig.plot_sample_distribution()"
   ]
  },
  {
   "cell_type": "markdown",
   "id": "loved-worcester",
   "metadata": {},
   "source": [
    "## Calculate median value for each colon section"
   ]
  },
  {
   "cell_type": "code",
   "execution_count": null,
   "id": "beginning-retirement",
   "metadata": {},
   "outputs": [],
   "source": [
    "medians_tr, mad_tr = pa_sig.median_by_section()"
   ]
  },
  {
   "cell_type": "code",
   "execution_count": null,
   "id": "surprising-courage",
   "metadata": {},
   "outputs": [],
   "source": [
    "medians_tr.head()"
   ]
  },
  {
   "cell_type": "code",
   "execution_count": null,
   "id": "liable-college",
   "metadata": {},
   "outputs": [],
   "source": [
    "mad_tr.head()"
   ]
  },
  {
   "cell_type": "markdown",
   "id": "explicit-universe",
   "metadata": {},
   "source": [
    "## Fit Observables"
   ]
  },
  {
   "cell_type": "code",
   "execution_count": null,
   "id": "rising-tennessee",
   "metadata": {},
   "outputs": [],
   "source": [
    "scores_tr, poly_obs_scores_tr, sig_obs_scores_tr, poly_models_tr, sig_models_tr = pa_sig.fit_data(medians_tr, mad_tr, guess_bounds = True, dog_allowed=False)"
   ]
  },
  {
   "cell_type": "code",
   "execution_count": null,
   "id": "charged-theater",
   "metadata": {},
   "outputs": [],
   "source": [
    "scores_tr.head()"
   ]
  },
  {
   "cell_type": "markdown",
   "id": "fifth-failing",
   "metadata": {},
   "source": [
    "## Fit Random permutated data"
   ]
  },
  {
   "cell_type": "code",
   "execution_count": null,
   "id": "amateur-serial",
   "metadata": {},
   "outputs": [],
   "source": [
    "poly_perm_scores_tr, sig_perm_scores_tr=pa_sig.fit_random_data(medians_tr, mad_tr, guess_bounds = True, dog_allowed=True)"
   ]
  },
  {
   "cell_type": "markdown",
   "id": "grand-forum",
   "metadata": {},
   "source": [
    "## Compare obrservable vs permutated data"
   ]
  },
  {
   "cell_type": "code",
   "execution_count": null,
   "id": "pleasant-anderson",
   "metadata": {},
   "outputs": [],
   "source": [
    "models_pvalue_tr=pa_sig.plot_gof(poly_obs_scores_tr, sig_obs_scores_tr, poly_perm_scores_tr, sig_perm_scores_tr, dist_obs=False, dist_perm=False)"
   ]
  },
  {
   "cell_type": "code",
   "execution_count": null,
   "id": "geographic-treasure",
   "metadata": {},
   "outputs": [],
   "source": [
    "models_pvalue_tr"
   ]
  },
  {
   "cell_type": "markdown",
   "id": "sunset-bermuda",
   "metadata": {},
   "source": [
    "## Cluster genes"
   ]
  },
  {
   "cell_type": "code",
   "execution_count": null,
   "id": "otherwise-singer",
   "metadata": {},
   "outputs": [],
   "source": [
    "genes_clusters_tr=pa_sig.cluster_genes(scores_tr)"
   ]
  },
  {
   "cell_type": "code",
   "execution_count": null,
   "id": "fewer-ordinary",
   "metadata": {},
   "outputs": [],
   "source": [
    "pa_sig.plot_clusters(genes_clusters_tr)"
   ]
  },
  {
   "cell_type": "code",
   "execution_count": null,
   "id": "affiliated-ozone",
   "metadata": {},
   "outputs": [],
   "source": [
    "summary_tr=pa_sig.get_summary_table(genes_clusters_tr, scores_tr)"
   ]
  },
  {
   "cell_type": "code",
   "execution_count": null,
   "id": "atlantic-aruba",
   "metadata": {},
   "outputs": [],
   "source": [
    "continuum_tr, sigmoid_tr, discarded_tr = pa_sig.classify_genes(summary_tr)"
   ]
  },
  {
   "cell_type": "markdown",
   "id": "encouraging-share",
   "metadata": {},
   "source": [
    "## Plot distribution of inflexion points for sigmoid genes"
   ]
  },
  {
   "cell_type": "code",
   "execution_count": null,
   "id": "facial-adventure",
   "metadata": {},
   "outputs": [],
   "source": [
    "gene_list_tr, section_l_tr = pa_sig.strict_sig_list(sigmoid_tr, sig_models_tr, plot_dist = True)"
   ]
  },
  {
   "cell_type": "markdown",
   "id": "welsh-tucson",
   "metadata": {},
   "source": [
    "## Plot distribution of inflexion points for random permutation"
   ]
  },
  {
   "cell_type": "code",
   "execution_count": null,
   "id": "monthly-artwork",
   "metadata": {},
   "outputs": [],
   "source": [
    "pa_sig.strict_sig_list_random(medians_tr, mad_tr, sigmoid_tr, sig_models_tr, plot_dist = True)"
   ]
  },
  {
   "cell_type": "markdown",
   "id": "mysterious-brass",
   "metadata": {},
   "source": [
    "# MICROBIOME PROFILING"
   ]
  },
  {
   "cell_type": "code",
   "execution_count": null,
   "id": "mexican-sheffield",
   "metadata": {},
   "outputs": [],
   "source": [
    "# Create workflow class, specifying the path to the SETTINGS.ini file\n",
    "pa_mic = ProfileAnalysis('../../../docker/analysis/microbiome')"
   ]
  },
  {
   "cell_type": "markdown",
   "id": "handy-reproduction",
   "metadata": {},
   "source": [
    "## Assign each sample in clinical data file to a colon section"
   ]
  },
  {
   "cell_type": "code",
   "execution_count": null,
   "id": "signed-cricket",
   "metadata": {},
   "outputs": [],
   "source": [
    "pa_mic.create_samples_to_sections_table()"
   ]
  },
  {
   "cell_type": "code",
   "execution_count": null,
   "id": "important-helicopter",
   "metadata": {},
   "outputs": [],
   "source": [
    "pa_mic.plot_sample_distribution()"
   ]
  },
  {
   "cell_type": "markdown",
   "id": "professional-replica",
   "metadata": {},
   "source": [
    "## Calculate median value for each colon section"
   ]
  },
  {
   "cell_type": "code",
   "execution_count": null,
   "id": "positive-silicon",
   "metadata": {},
   "outputs": [],
   "source": [
    "medians_tr, mad_tr = pa_mic.median_by_section()"
   ]
  },
  {
   "cell_type": "code",
   "execution_count": null,
   "id": "first-optimum",
   "metadata": {},
   "outputs": [],
   "source": [
    "medians_tr.head()"
   ]
  },
  {
   "cell_type": "code",
   "execution_count": null,
   "id": "banner-necessity",
   "metadata": {},
   "outputs": [],
   "source": [
    "mad_tr.head()"
   ]
  },
  {
   "cell_type": "markdown",
   "id": "exempt-pencil",
   "metadata": {},
   "source": [
    "## Fit Observables"
   ]
  },
  {
   "cell_type": "code",
   "execution_count": null,
   "id": "flush-begin",
   "metadata": {},
   "outputs": [],
   "source": [
    "scores_tr, poly_obs_scores_tr, sig_obs_scores_tr, poly_models_tr, sig_models_tr = pa_mic.fit_data(medians_tr, mad_tr, guess_bounds = True, dog_allowed=False)"
   ]
  },
  {
   "cell_type": "code",
   "execution_count": null,
   "id": "reserved-bridge",
   "metadata": {},
   "outputs": [],
   "source": [
    "scores_tr.head()"
   ]
  },
  {
   "cell_type": "markdown",
   "id": "boring-installation",
   "metadata": {},
   "source": [
    "## Fit Random permutated data"
   ]
  },
  {
   "cell_type": "code",
   "execution_count": null,
   "id": "arranged-report",
   "metadata": {},
   "outputs": [],
   "source": [
    "poly_perm_scores_tr, sig_perm_scores_tr=pa_mic.fit_random_data(medians_tr, mad_tr, guess_bounds = True, dog_allowed=True)"
   ]
  },
  {
   "cell_type": "markdown",
   "id": "corrected-clinic",
   "metadata": {},
   "source": [
    "## Compare obrservable vs permutated data"
   ]
  },
  {
   "cell_type": "code",
   "execution_count": null,
   "id": "arctic-charger",
   "metadata": {},
   "outputs": [],
   "source": [
    "models_pvalue_tr=pa_mic.plot_gof(poly_obs_scores_tr, sig_obs_scores_tr, poly_perm_scores_tr, sig_perm_scores_tr, dist_obs=False, dist_perm=False)"
   ]
  },
  {
   "cell_type": "code",
   "execution_count": null,
   "id": "laughing-better",
   "metadata": {},
   "outputs": [],
   "source": [
    "models_pvalue_tr"
   ]
  },
  {
   "cell_type": "markdown",
   "id": "fresh-nowhere",
   "metadata": {},
   "source": [
    "## Cluster genes"
   ]
  },
  {
   "cell_type": "code",
   "execution_count": null,
   "id": "lesbian-commons",
   "metadata": {},
   "outputs": [],
   "source": [
    "genes_clusters_tr=pa_mic.cluster_genes(scores_tr)"
   ]
  },
  {
   "cell_type": "code",
   "execution_count": null,
   "id": "painted-training",
   "metadata": {},
   "outputs": [],
   "source": [
    "pa_mic.plot_clusters(genes_clusters_tr)"
   ]
  },
  {
   "cell_type": "code",
   "execution_count": null,
   "id": "japanese-consolidation",
   "metadata": {},
   "outputs": [],
   "source": [
    "summary_tr=pa_mic.get_summary_table(genes_clusters_tr, scores_tr)"
   ]
  },
  {
   "cell_type": "code",
   "execution_count": null,
   "id": "instant-surgery",
   "metadata": {},
   "outputs": [],
   "source": [
    "continuum_tr, sigmoid_tr, discarded_tr = pa_mic.classify_genes(summary_tr)"
   ]
  },
  {
   "cell_type": "markdown",
   "id": "worse-think",
   "metadata": {},
   "source": [
    "## Plot distribution of inflexion points for sigmoid genes"
   ]
  },
  {
   "cell_type": "code",
   "execution_count": null,
   "id": "union-religious",
   "metadata": {},
   "outputs": [],
   "source": [
    "gene_list_tr, section_l_tr = pa_mic.strict_sig_list(sigmoid_tr, sig_models_tr, plot_dist = True)"
   ]
  },
  {
   "cell_type": "markdown",
   "id": "relative-blair",
   "metadata": {},
   "source": [
    "## Plot distribution of inflexion points for random permutation"
   ]
  },
  {
   "cell_type": "code",
   "execution_count": null,
   "id": "interracial-craft",
   "metadata": {},
   "outputs": [],
   "source": [
    "pa_mic.strict_sig_list_random(medians_tr, mad_tr, sigmoid_tr, sig_models_tr, plot_dist = True)"
   ]
  },
  {
   "cell_type": "markdown",
   "id": "demographic-norwegian",
   "metadata": {},
   "source": [
    "# IMMUNE CELLS PROFILING"
   ]
  },
  {
   "cell_type": "code",
   "execution_count": null,
   "id": "urban-sussex",
   "metadata": {},
   "outputs": [],
   "source": [
    "# Create workflow class, specifying the path to the SETTINGS.ini file\n",
    "pa_imm = ProfileAnalysis('../../../docker/analysis/immune_cells')"
   ]
  },
  {
   "cell_type": "markdown",
   "id": "thirty-mystery",
   "metadata": {},
   "source": [
    "## Assign each sample in clinical data file to a colon section"
   ]
  },
  {
   "cell_type": "code",
   "execution_count": null,
   "id": "hungarian-luxembourg",
   "metadata": {},
   "outputs": [],
   "source": [
    "pa_imm.create_samples_to_sections_table()"
   ]
  },
  {
   "cell_type": "code",
   "execution_count": null,
   "id": "alpha-hundred",
   "metadata": {},
   "outputs": [],
   "source": [
    "pa_imm.plot_sample_distribution()"
   ]
  },
  {
   "cell_type": "markdown",
   "id": "entire-election",
   "metadata": {},
   "source": [
    "## Calculate median value for each colon section"
   ]
  },
  {
   "cell_type": "code",
   "execution_count": null,
   "id": "grave-supervisor",
   "metadata": {},
   "outputs": [],
   "source": [
    "medians_tr, mad_tr = pa_imm.median_by_section()"
   ]
  },
  {
   "cell_type": "code",
   "execution_count": null,
   "id": "downtown-missile",
   "metadata": {},
   "outputs": [],
   "source": [
    "medians_tr.head()"
   ]
  },
  {
   "cell_type": "code",
   "execution_count": null,
   "id": "hearing-house",
   "metadata": {},
   "outputs": [],
   "source": [
    "mad_tr.head()"
   ]
  },
  {
   "cell_type": "markdown",
   "id": "confirmed-gregory",
   "metadata": {},
   "source": [
    "## Fit Observables"
   ]
  },
  {
   "cell_type": "code",
   "execution_count": null,
   "id": "pressed-memphis",
   "metadata": {},
   "outputs": [],
   "source": [
    "scores_tr, poly_obs_scores_tr, sig_obs_scores_tr, poly_models_tr, sig_models_tr = pa_imm.fit_data(medians_tr, mad_tr, guess_bounds = True, dog_allowed=False)"
   ]
  },
  {
   "cell_type": "code",
   "execution_count": null,
   "id": "looking-appointment",
   "metadata": {},
   "outputs": [],
   "source": [
    "scores_tr.head()"
   ]
  },
  {
   "cell_type": "markdown",
   "id": "noble-strap",
   "metadata": {},
   "source": [
    "## Fit Random permutated data"
   ]
  },
  {
   "cell_type": "code",
   "execution_count": null,
   "id": "human-action",
   "metadata": {},
   "outputs": [],
   "source": [
    "poly_perm_scores_tr, sig_perm_scores_tr=pa_imm.fit_random_data(medians_tr, mad_tr, guess_bounds = True, dog_allowed=True)"
   ]
  },
  {
   "cell_type": "markdown",
   "id": "answering-persian",
   "metadata": {},
   "source": [
    "## Compare obrservable vs permutated data"
   ]
  },
  {
   "cell_type": "code",
   "execution_count": null,
   "id": "selective-plymouth",
   "metadata": {},
   "outputs": [],
   "source": [
    "models_pvalue_tr=pa_imm.plot_gof(poly_obs_scores_tr, sig_obs_scores_tr, poly_perm_scores_tr, sig_perm_scores_tr, dist_obs=False, dist_perm=False)"
   ]
  },
  {
   "cell_type": "code",
   "execution_count": null,
   "id": "instrumental-gothic",
   "metadata": {},
   "outputs": [],
   "source": [
    "models_pvalue_tr"
   ]
  },
  {
   "cell_type": "markdown",
   "id": "retained-duplicate",
   "metadata": {},
   "source": [
    "## Cluster genes"
   ]
  },
  {
   "cell_type": "code",
   "execution_count": null,
   "id": "homeless-times",
   "metadata": {},
   "outputs": [],
   "source": [
    "genes_clusters_tr=pa_imm.cluster_genes(scores_tr)"
   ]
  },
  {
   "cell_type": "code",
   "execution_count": null,
   "id": "productive-camel",
   "metadata": {},
   "outputs": [],
   "source": [
    "pa_imm.plot_clusters(genes_clusters_tr)"
   ]
  },
  {
   "cell_type": "code",
   "execution_count": null,
   "id": "centered-amsterdam",
   "metadata": {},
   "outputs": [],
   "source": [
    "summary_tr=pa_imm.get_summary_table(genes_clusters_tr, scores_tr)"
   ]
  },
  {
   "cell_type": "code",
   "execution_count": null,
   "id": "enhanced-comparison",
   "metadata": {},
   "outputs": [],
   "source": [
    "continuum_tr, sigmoid_tr, discarded_tr = pa_imm.classify_genes(summary_tr)"
   ]
  },
  {
   "cell_type": "markdown",
   "id": "passing-crystal",
   "metadata": {},
   "source": [
    "## Plot distribution of inflexion points for sigmoid genes"
   ]
  },
  {
   "cell_type": "code",
   "execution_count": null,
   "id": "assumed-single",
   "metadata": {},
   "outputs": [],
   "source": [
    "gene_list_tr, section_l_tr = pa_imm.strict_sig_list(sigmoid_tr, sig_models_tr, plot_dist = True)"
   ]
  },
  {
   "cell_type": "markdown",
   "id": "renewable-music",
   "metadata": {},
   "source": [
    "## Plot distribution of inflexion points for random permutation"
   ]
  },
  {
   "cell_type": "code",
   "execution_count": null,
   "id": "advance-memphis",
   "metadata": {},
   "outputs": [],
   "source": [
    "pa_imm.strict_sig_list_random(medians_tr, mad_tr, sigmoid_tr, sig_models_tr, plot_dist = True)"
   ]
  }
 ],
 "metadata": {
  "kernelspec": {
   "display_name": "Python 3",
   "language": "python",
   "name": "python3"
  },
  "language_info": {
   "codemirror_mode": {
    "name": "ipython",
    "version": 3
   },
   "file_extension": ".py",
   "mimetype": "text/x-python",
   "name": "python",
   "nbconvert_exporter": "python",
   "pygments_lexer": "ipython3",
   "version": "3.8.10"
  },
  "toc-showtags": false
 },
 "nbformat": 4,
 "nbformat_minor": 5
}
